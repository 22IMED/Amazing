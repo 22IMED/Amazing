{
 "cells": [
  {
   "cell_type": "code",
   "execution_count": 1,
   "id": "2c1d8b3a",
   "metadata": {},
   "outputs": [
    {
     "name": "stdout",
     "output_type": "stream",
     "text": [
      "Collecting kedro-datasets[snowflake]\n",
      "  Using cached kedro_datasets-8.0.0-py3-none-any.whl.metadata (25 kB)\n",
      "Collecting kedro<2.0.0,>=1.0.0rc1 (from kedro-datasets[snowflake])\n",
      "  Using cached kedro-1.0.0-py3-none-any.whl.metadata (14 kB)\n",
      "Collecting lazy_loader (from kedro-datasets[snowflake])\n",
      "  Using cached lazy_loader-0.4-py3-none-any.whl.metadata (7.6 kB)\n",
      "Collecting attrs>=21.3 (from kedro<2.0.0,>=1.0.0rc1->kedro-datasets[snowflake])\n",
      "  Using cached attrs-25.3.0-py3-none-any.whl.metadata (10 kB)\n",
      "Collecting build>=0.7.0 (from kedro<2.0.0,>=1.0.0rc1->kedro-datasets[snowflake])\n",
      "  Using cached build-1.3.0-py3-none-any.whl.metadata (5.6 kB)\n",
      "Collecting cachetools>=4.1 (from kedro<2.0.0,>=1.0.0rc1->kedro-datasets[snowflake])\n",
      "  Using cached cachetools-6.1.0-py3-none-any.whl.metadata (5.4 kB)\n",
      "Collecting click<8.2.0,>=4.0 (from kedro<2.0.0,>=1.0.0rc1->kedro-datasets[snowflake])\n",
      "  Using cached click-8.1.8-py3-none-any.whl.metadata (2.3 kB)\n",
      "Collecting cookiecutter<3.0,>=2.1.1 (from kedro<2.0.0,>=1.0.0rc1->kedro-datasets[snowflake])\n",
      "  Using cached cookiecutter-2.6.0-py3-none-any.whl.metadata (7.3 kB)\n",
      "Collecting dynaconf<4.0,>=3.1.2 (from kedro<2.0.0,>=1.0.0rc1->kedro-datasets[snowflake])\n",
      "  Using cached dynaconf-3.2.11-py2.py3-none-any.whl.metadata (9.2 kB)\n",
      "Collecting fsspec>=2021.4 (from kedro<2.0.0,>=1.0.0rc1->kedro-datasets[snowflake])\n",
      "  Using cached fsspec-2025.7.0-py3-none-any.whl.metadata (12 kB)\n",
      "Collecting gitpython>=3.0 (from kedro<2.0.0,>=1.0.0rc1->kedro-datasets[snowflake])\n",
      "  Using cached gitpython-3.1.45-py3-none-any.whl.metadata (13 kB)\n",
      "Collecting importlib_resources<7.0,>=1.3 (from kedro<2.0.0,>=1.0.0rc1->kedro-datasets[snowflake])\n",
      "  Using cached importlib_resources-6.5.2-py3-none-any.whl.metadata (3.9 kB)\n",
      "Requirement already satisfied: importlib-metadata<9.0,>=3.6 in c:\\users\\iezeroual\\appdata\\local\\miniconda3\\envs\\kedro_snowpark\\lib\\site-packages (from kedro<2.0.0,>=1.0.0rc1->kedro-datasets[snowflake]) (8.7.0)\n",
      "Collecting kedro-telemetry>=0.5.0 (from kedro<2.0.0,>=1.0.0rc1->kedro-datasets[snowflake])\n",
      "  Using cached kedro_telemetry-0.6.3-py3-none-any.whl.metadata (5.3 kB)\n",
      "Collecting more_itertools>=8.14.0 (from kedro<2.0.0,>=1.0.0rc1->kedro-datasets[snowflake])\n",
      "  Using cached more_itertools-10.7.0-py3-none-any.whl.metadata (37 kB)\n",
      "Collecting omegaconf>=2.1.1 (from kedro<2.0.0,>=1.0.0rc1->kedro-datasets[snowflake])\n",
      "  Using cached omegaconf-2.3.0-py3-none-any.whl.metadata (3.9 kB)\n",
      "Collecting parse>=1.19.0 (from kedro<2.0.0,>=1.0.0rc1->kedro-datasets[snowflake])\n",
      "  Using cached parse-1.20.2-py2.py3-none-any.whl.metadata (22 kB)\n",
      "Collecting pluggy>=1.0 (from kedro<2.0.0,>=1.0.0rc1->kedro-datasets[snowflake])\n",
      "  Using cached pluggy-1.6.0-py3-none-any.whl.metadata (4.8 kB)\n",
      "Collecting PyYAML<7.0,>=4.2 (from kedro<2.0.0,>=1.0.0rc1->kedro-datasets[snowflake])\n",
      "  Using cached PyYAML-6.0.2-cp310-cp310-win_amd64.whl.metadata (2.1 kB)\n",
      "Collecting rich<15.0,>=12.0 (from kedro<2.0.0,>=1.0.0rc1->kedro-datasets[snowflake])\n",
      "  Using cached rich-14.1.0-py3-none-any.whl.metadata (18 kB)\n",
      "Collecting toml>=0.10.0 (from kedro<2.0.0,>=1.0.0rc1->kedro-datasets[snowflake])\n",
      "  Using cached toml-0.10.2-py2.py3-none-any.whl.metadata (7.1 kB)\n",
      "Requirement already satisfied: typing_extensions>=4.0 in c:\\users\\iezeroual\\appdata\\local\\miniconda3\\envs\\kedro_snowpark\\lib\\site-packages (from kedro<2.0.0,>=1.0.0rc1->kedro-datasets[snowflake]) (4.14.1)\n",
      "Requirement already satisfied: colorama in c:\\users\\iezeroual\\appdata\\local\\miniconda3\\envs\\kedro_snowpark\\lib\\site-packages (from click<8.2.0,>=4.0->kedro<2.0.0,>=1.0.0rc1->kedro-datasets[snowflake]) (0.4.6)\n",
      "Collecting binaryornot>=0.4.4 (from cookiecutter<3.0,>=2.1.1->kedro<2.0.0,>=1.0.0rc1->kedro-datasets[snowflake])\n",
      "  Using cached binaryornot-0.4.4-py2.py3-none-any.whl.metadata (6.0 kB)\n",
      "Collecting Jinja2<4.0.0,>=2.7 (from cookiecutter<3.0,>=2.1.1->kedro<2.0.0,>=1.0.0rc1->kedro-datasets[snowflake])\n",
      "  Using cached jinja2-3.1.6-py3-none-any.whl.metadata (2.9 kB)\n",
      "Collecting python-slugify>=4.0.0 (from cookiecutter<3.0,>=2.1.1->kedro<2.0.0,>=1.0.0rc1->kedro-datasets[snowflake])\n",
      "  Using cached python_slugify-8.0.4-py2.py3-none-any.whl.metadata (8.5 kB)\n",
      "Collecting requests>=2.23.0 (from cookiecutter<3.0,>=2.1.1->kedro<2.0.0,>=1.0.0rc1->kedro-datasets[snowflake])\n",
      "  Using cached requests-2.32.4-py3-none-any.whl.metadata (4.9 kB)\n",
      "Collecting arrow (from cookiecutter<3.0,>=2.1.1->kedro<2.0.0,>=1.0.0rc1->kedro-datasets[snowflake])\n",
      "  Using cached arrow-1.3.0-py3-none-any.whl.metadata (7.5 kB)\n",
      "Requirement already satisfied: zipp>=3.20 in c:\\users\\iezeroual\\appdata\\local\\miniconda3\\envs\\kedro_snowpark\\lib\\site-packages (from importlib-metadata<9.0,>=3.6->kedro<2.0.0,>=1.0.0rc1->kedro-datasets[snowflake]) (3.23.0)\n",
      "Collecting MarkupSafe>=2.0 (from Jinja2<4.0.0,>=2.7->cookiecutter<3.0,>=2.1.1->kedro<2.0.0,>=1.0.0rc1->kedro-datasets[snowflake])\n",
      "  Using cached MarkupSafe-3.0.2-cp310-cp310-win_amd64.whl.metadata (4.1 kB)\n",
      "Collecting markdown-it-py>=2.2.0 (from rich<15.0,>=12.0->kedro<2.0.0,>=1.0.0rc1->kedro-datasets[snowflake])\n",
      "  Using cached markdown_it_py-4.0.0-py3-none-any.whl.metadata (7.3 kB)\n",
      "Requirement already satisfied: pygments<3.0.0,>=2.13.0 in c:\\users\\iezeroual\\appdata\\local\\miniconda3\\envs\\kedro_snowpark\\lib\\site-packages (from rich<15.0,>=12.0->kedro<2.0.0,>=1.0.0rc1->kedro-datasets[snowflake]) (2.19.2)\n",
      "Collecting chardet>=3.0.2 (from binaryornot>=0.4.4->cookiecutter<3.0,>=2.1.1->kedro<2.0.0,>=1.0.0rc1->kedro-datasets[snowflake])\n",
      "  Using cached chardet-5.2.0-py3-none-any.whl.metadata (3.4 kB)\n",
      "Requirement already satisfied: packaging>=19.1 in c:\\users\\iezeroual\\appdata\\local\\miniconda3\\envs\\kedro_snowpark\\lib\\site-packages (from build>=0.7.0->kedro<2.0.0,>=1.0.0rc1->kedro-datasets[snowflake]) (25.0)\n",
      "Collecting pyproject_hooks (from build>=0.7.0->kedro<2.0.0,>=1.0.0rc1->kedro-datasets[snowflake])\n",
      "  Using cached pyproject_hooks-1.2.0-py3-none-any.whl.metadata (1.3 kB)\n",
      "Collecting tomli>=1.1.0 (from build>=0.7.0->kedro<2.0.0,>=1.0.0rc1->kedro-datasets[snowflake])\n",
      "  Using cached tomli-2.2.1-py3-none-any.whl.metadata (10 kB)\n",
      "Collecting gitdb<5,>=4.0.1 (from gitpython>=3.0->kedro<2.0.0,>=1.0.0rc1->kedro-datasets[snowflake])\n",
      "  Using cached gitdb-4.0.12-py3-none-any.whl.metadata (1.2 kB)\n",
      "Collecting smmap<6,>=3.0.1 (from gitdb<5,>=4.0.1->gitpython>=3.0->kedro<2.0.0,>=1.0.0rc1->kedro-datasets[snowflake])\n",
      "  Using cached smmap-5.0.2-py3-none-any.whl.metadata (4.3 kB)\n",
      "Collecting appdirs>=1.4.4 (from kedro-telemetry>=0.5.0->kedro<2.0.0,>=1.0.0rc1->kedro-datasets[snowflake])\n",
      "  Using cached appdirs-1.4.4-py2.py3-none-any.whl.metadata (9.0 kB)\n",
      "Collecting charset_normalizer<4,>=2 (from requests>=2.23.0->cookiecutter<3.0,>=2.1.1->kedro<2.0.0,>=1.0.0rc1->kedro-datasets[snowflake])\n",
      "  Using cached charset_normalizer-3.4.3-cp310-cp310-win_amd64.whl.metadata (37 kB)\n",
      "Collecting idna<4,>=2.5 (from requests>=2.23.0->cookiecutter<3.0,>=2.1.1->kedro<2.0.0,>=1.0.0rc1->kedro-datasets[snowflake])\n",
      "  Using cached idna-3.10-py3-none-any.whl.metadata (10 kB)\n",
      "Collecting urllib3<3,>=1.21.1 (from requests>=2.23.0->cookiecutter<3.0,>=2.1.1->kedro<2.0.0,>=1.0.0rc1->kedro-datasets[snowflake])\n",
      "  Using cached urllib3-2.5.0-py3-none-any.whl.metadata (6.5 kB)\n",
      "Collecting certifi>=2017.4.17 (from requests>=2.23.0->cookiecutter<3.0,>=2.1.1->kedro<2.0.0,>=1.0.0rc1->kedro-datasets[snowflake])\n",
      "  Using cached certifi-2025.8.3-py3-none-any.whl.metadata (2.4 kB)\n",
      "Collecting mdurl~=0.1 (from markdown-it-py>=2.2.0->rich<15.0,>=12.0->kedro<2.0.0,>=1.0.0rc1->kedro-datasets[snowflake])\n",
      "  Using cached mdurl-0.1.2-py3-none-any.whl.metadata (1.6 kB)\n",
      "Collecting antlr4-python3-runtime==4.9.* (from omegaconf>=2.1.1->kedro<2.0.0,>=1.0.0rc1->kedro-datasets[snowflake])\n",
      "  Using cached antlr4_python3_runtime-4.9.3-py3-none-any.whl\n",
      "Collecting text-unidecode>=1.3 (from python-slugify>=4.0.0->cookiecutter<3.0,>=2.1.1->kedro<2.0.0,>=1.0.0rc1->kedro-datasets[snowflake])\n",
      "  Using cached text_unidecode-1.3-py2.py3-none-any.whl.metadata (2.4 kB)\n",
      "Requirement already satisfied: python-dateutil>=2.7.0 in c:\\users\\iezeroual\\appdata\\local\\miniconda3\\envs\\kedro_snowpark\\lib\\site-packages (from arrow->cookiecutter<3.0,>=2.1.1->kedro<2.0.0,>=1.0.0rc1->kedro-datasets[snowflake]) (2.9.0.post0)\n",
      "Collecting types-python-dateutil>=2.8.10 (from arrow->cookiecutter<3.0,>=2.1.1->kedro<2.0.0,>=1.0.0rc1->kedro-datasets[snowflake])\n",
      "  Using cached types_python_dateutil-2.9.0.20250809-py3-none-any.whl.metadata (1.8 kB)\n",
      "Requirement already satisfied: six>=1.5 in c:\\users\\iezeroual\\appdata\\local\\miniconda3\\envs\\kedro_snowpark\\lib\\site-packages (from python-dateutil>=2.7.0->arrow->cookiecutter<3.0,>=2.1.1->kedro<2.0.0,>=1.0.0rc1->kedro-datasets[snowflake]) (1.17.0)\n",
      "Collecting snowflake-snowpark-python>=1.23 (from kedro-datasets[snowflake])\n",
      "  Using cached snowflake_snowpark_python-1.36.0-py3-none-any.whl.metadata (152 kB)\n",
      "Requirement already satisfied: setuptools>=40.6.0 in c:\\users\\iezeroual\\appdata\\local\\miniconda3\\envs\\kedro_snowpark\\lib\\site-packages (from snowflake-snowpark-python>=1.23->kedro-datasets[snowflake]) (78.1.1)\n",
      "Requirement already satisfied: wheel in c:\\users\\iezeroual\\appdata\\local\\miniconda3\\envs\\kedro_snowpark\\lib\\site-packages (from snowflake-snowpark-python>=1.23->kedro-datasets[snowflake]) (0.45.1)\n",
      "Collecting snowflake-connector-python<4.0.0,>=3.14.0 (from snowflake-snowpark-python>=1.23->kedro-datasets[snowflake])\n",
      "  Downloading snowflake_connector_python-3.17.1-cp310-cp310-win_amd64.whl.metadata (75 kB)\n",
      "Collecting cloudpickle!=2.1.0,!=2.2.0,<=3.0.0,>=1.6.0 (from snowflake-snowpark-python>=1.23->kedro-datasets[snowflake])\n",
      "  Using cached cloudpickle-3.0.0-py3-none-any.whl.metadata (7.0 kB)\n",
      "Collecting protobuf<6,>=3.20 (from snowflake-snowpark-python>=1.23->kedro-datasets[snowflake])\n",
      "  Using cached protobuf-5.29.5-cp310-abi3-win_amd64.whl.metadata (592 bytes)\n",
      "Collecting tzlocal (from snowflake-snowpark-python>=1.23->kedro-datasets[snowflake])\n",
      "  Using cached tzlocal-5.3.1-py3-none-any.whl.metadata (7.6 kB)\n",
      "Collecting asn1crypto<2.0.0,>0.24.0 (from snowflake-connector-python<4.0.0,>=3.14.0->snowflake-snowpark-python>=1.23->kedro-datasets[snowflake])\n",
      "  Using cached asn1crypto-1.5.1-py2.py3-none-any.whl.metadata (13 kB)\n",
      "Collecting boto3>=1.24 (from snowflake-connector-python<4.0.0,>=3.14.0->snowflake-snowpark-python>=1.23->kedro-datasets[snowflake])\n",
      "  Downloading boto3-1.40.11-py3-none-any.whl.metadata (6.7 kB)\n",
      "Collecting botocore>=1.24 (from snowflake-connector-python<4.0.0,>=3.14.0->snowflake-snowpark-python>=1.23->kedro-datasets[snowflake])\n",
      "  Downloading botocore-1.40.11-py3-none-any.whl.metadata (5.7 kB)\n",
      "Collecting cffi<2.0.0,>=1.9 (from snowflake-connector-python<4.0.0,>=3.14.0->snowflake-snowpark-python>=1.23->kedro-datasets[snowflake])\n",
      "  Using cached cffi-1.17.1-cp310-cp310-win_amd64.whl.metadata (1.6 kB)\n",
      "Collecting cryptography>=3.1.0 (from snowflake-connector-python<4.0.0,>=3.14.0->snowflake-snowpark-python>=1.23->kedro-datasets[snowflake])\n",
      "  Using cached cryptography-45.0.6-cp37-abi3-win_amd64.whl.metadata (5.7 kB)\n",
      "Collecting pyOpenSSL<26.0.0,>=22.0.0 (from snowflake-connector-python<4.0.0,>=3.14.0->snowflake-snowpark-python>=1.23->kedro-datasets[snowflake])\n",
      "  Using cached pyopenssl-25.1.0-py3-none-any.whl.metadata (17 kB)\n",
      "Collecting pyjwt<3.0.0 (from snowflake-connector-python<4.0.0,>=3.14.0->snowflake-snowpark-python>=1.23->kedro-datasets[snowflake])\n",
      "  Using cached PyJWT-2.10.1-py3-none-any.whl.metadata (4.0 kB)\n",
      "Collecting pytz (from snowflake-connector-python<4.0.0,>=3.14.0->snowflake-snowpark-python>=1.23->kedro-datasets[snowflake])\n",
      "  Using cached pytz-2025.2-py2.py3-none-any.whl.metadata (22 kB)\n",
      "Collecting filelock<4,>=3.5 (from snowflake-connector-python<4.0.0,>=3.14.0->snowflake-snowpark-python>=1.23->kedro-datasets[snowflake])\n",
      "  Downloading filelock-3.19.1-py3-none-any.whl.metadata (2.1 kB)\n",
      "Collecting sortedcontainers>=2.4.0 (from snowflake-connector-python<4.0.0,>=3.14.0->snowflake-snowpark-python>=1.23->kedro-datasets[snowflake])\n",
      "  Using cached sortedcontainers-2.4.0-py2.py3-none-any.whl.metadata (10 kB)\n",
      "Requirement already satisfied: platformdirs<5.0.0,>=2.6.0 in c:\\users\\iezeroual\\appdata\\local\\miniconda3\\envs\\kedro_snowpark\\lib\\site-packages (from snowflake-connector-python<4.0.0,>=3.14.0->snowflake-snowpark-python>=1.23->kedro-datasets[snowflake]) (4.3.8)\n",
      "Collecting tomlkit (from snowflake-connector-python<4.0.0,>=3.14.0->snowflake-snowpark-python>=1.23->kedro-datasets[snowflake])\n",
      "  Using cached tomlkit-0.13.3-py3-none-any.whl.metadata (2.8 kB)\n",
      "Collecting pycparser (from cffi<2.0.0,>=1.9->snowflake-connector-python<4.0.0,>=3.14.0->snowflake-snowpark-python>=1.23->kedro-datasets[snowflake])\n",
      "  Using cached pycparser-2.22-py3-none-any.whl.metadata (943 bytes)\n",
      "Collecting jmespath<2.0.0,>=0.7.1 (from boto3>=1.24->snowflake-connector-python<4.0.0,>=3.14.0->snowflake-snowpark-python>=1.23->kedro-datasets[snowflake])\n",
      "  Using cached jmespath-1.0.1-py3-none-any.whl.metadata (7.6 kB)\n",
      "Collecting s3transfer<0.14.0,>=0.13.0 (from boto3>=1.24->snowflake-connector-python<4.0.0,>=3.14.0->snowflake-snowpark-python>=1.23->kedro-datasets[snowflake])\n",
      "  Using cached s3transfer-0.13.1-py3-none-any.whl.metadata (1.7 kB)\n",
      "Collecting tzdata (from tzlocal->snowflake-snowpark-python>=1.23->kedro-datasets[snowflake])\n",
      "  Using cached tzdata-2025.2-py2.py3-none-any.whl.metadata (1.4 kB)\n",
      "Using cached kedro_datasets-8.0.0-py3-none-any.whl (228 kB)\n",
      "Using cached kedro-1.0.0-py3-none-any.whl (182 kB)\n",
      "Using cached click-8.1.8-py3-none-any.whl (98 kB)\n",
      "Using cached cookiecutter-2.6.0-py3-none-any.whl (39 kB)\n",
      "Using cached dynaconf-3.2.11-py2.py3-none-any.whl (236 kB)\n",
      "Using cached importlib_resources-6.5.2-py3-none-any.whl (37 kB)\n",
      "Using cached jinja2-3.1.6-py3-none-any.whl (134 kB)\n",
      "Using cached PyYAML-6.0.2-cp310-cp310-win_amd64.whl (161 kB)\n",
      "Using cached rich-14.1.0-py3-none-any.whl (243 kB)\n",
      "Using cached attrs-25.3.0-py3-none-any.whl (63 kB)\n",
      "Using cached binaryornot-0.4.4-py2.py3-none-any.whl (9.0 kB)\n",
      "Using cached build-1.3.0-py3-none-any.whl (23 kB)\n",
      "Using cached cachetools-6.1.0-py3-none-any.whl (11 kB)\n",
      "Using cached chardet-5.2.0-py3-none-any.whl (199 kB)\n",
      "Using cached fsspec-2025.7.0-py3-none-any.whl (199 kB)\n",
      "Using cached gitpython-3.1.45-py3-none-any.whl (208 kB)\n",
      "Using cached gitdb-4.0.12-py3-none-any.whl (62 kB)\n",
      "Using cached smmap-5.0.2-py3-none-any.whl (24 kB)\n",
      "Using cached kedro_telemetry-0.6.3-py3-none-any.whl (9.5 kB)\n",
      "Using cached requests-2.32.4-py3-none-any.whl (64 kB)\n",
      "Using cached charset_normalizer-3.4.3-cp310-cp310-win_amd64.whl (107 kB)\n",
      "Using cached idna-3.10-py3-none-any.whl (70 kB)\n",
      "Using cached urllib3-2.5.0-py3-none-any.whl (129 kB)\n",
      "Using cached appdirs-1.4.4-py2.py3-none-any.whl (9.6 kB)\n",
      "Using cached certifi-2025.8.3-py3-none-any.whl (161 kB)\n",
      "Using cached markdown_it_py-4.0.0-py3-none-any.whl (87 kB)\n",
      "Using cached mdurl-0.1.2-py3-none-any.whl (10.0 kB)\n",
      "Using cached MarkupSafe-3.0.2-cp310-cp310-win_amd64.whl (15 kB)\n",
      "Using cached more_itertools-10.7.0-py3-none-any.whl (65 kB)\n",
      "Using cached omegaconf-2.3.0-py3-none-any.whl (79 kB)\n",
      "Using cached parse-1.20.2-py2.py3-none-any.whl (20 kB)\n",
      "Using cached pluggy-1.6.0-py3-none-any.whl (20 kB)\n",
      "Using cached python_slugify-8.0.4-py2.py3-none-any.whl (10 kB)\n",
      "Using cached text_unidecode-1.3-py2.py3-none-any.whl (78 kB)\n",
      "Using cached toml-0.10.2-py2.py3-none-any.whl (16 kB)\n",
      "Using cached tomli-2.2.1-py3-none-any.whl (14 kB)\n",
      "Using cached arrow-1.3.0-py3-none-any.whl (66 kB)\n",
      "Using cached types_python_dateutil-2.9.0.20250809-py3-none-any.whl (17 kB)\n",
      "Using cached snowflake_snowpark_python-1.36.0-py3-none-any.whl (1.7 MB)\n",
      "Using cached cloudpickle-3.0.0-py3-none-any.whl (20 kB)\n",
      "Using cached protobuf-5.29.5-cp310-abi3-win_amd64.whl (434 kB)\n",
      "Downloading snowflake_connector_python-3.17.1-cp310-cp310-win_amd64.whl (1.2 MB)\n",
      "   ---------------------------------------- 0.0/1.2 MB ? eta -:--:--\n",
      "   ---------------------------------------- 0.0/1.2 MB ? eta -:--:--\n",
      "   --------- ------------------------------ 0.3/1.2 MB ? eta -:--:--\n",
      "   ------------------ --------------------- 0.5/1.2 MB 1.0 MB/s eta 0:00:01\n",
      "   --------------------------- ------------ 0.8/1.2 MB 1.1 MB/s eta 0:00:01\n",
      "   --------------------------- ------------ 0.8/1.2 MB 1.1 MB/s eta 0:00:01\n",
      "   ---------------------------------------- 1.2/1.2 MB 1.1 MB/s eta 0:00:00\n",
      "Using cached asn1crypto-1.5.1-py2.py3-none-any.whl (105 kB)\n",
      "Using cached cffi-1.17.1-cp310-cp310-win_amd64.whl (181 kB)\n",
      "Downloading filelock-3.19.1-py3-none-any.whl (15 kB)\n",
      "Using cached PyJWT-2.10.1-py3-none-any.whl (22 kB)\n",
      "Using cached pyopenssl-25.1.0-py3-none-any.whl (56 kB)\n",
      "Using cached cryptography-45.0.6-cp37-abi3-win_amd64.whl (3.4 MB)\n",
      "Downloading boto3-1.40.11-py3-none-any.whl (140 kB)\n",
      "Downloading botocore-1.40.11-py3-none-any.whl (14.0 MB)\n",
      "   ---------------------------------------- 0.0/14.0 MB ? eta -:--:--\n",
      "   ---------------------------------------- 0.0/14.0 MB ? eta -:--:--\n",
      "    --------------------------------------- 0.3/14.0 MB ? eta -:--:--\n",
      "   -- ------------------------------------- 0.8/14.0 MB 1.9 MB/s eta 0:00:08\n",
      "   --- ------------------------------------ 1.3/14.0 MB 2.6 MB/s eta 0:00:05\n",
      "   ------ --------------------------------- 2.4/14.0 MB 2.9 MB/s eta 0:00:05\n",
      "   -------- ------------------------------- 2.9/14.0 MB 2.9 MB/s eta 0:00:04\n",
      "   --------- ------------------------------ 3.4/14.0 MB 2.9 MB/s eta 0:00:04\n",
      "   ---------- ----------------------------- 3.7/14.0 MB 2.9 MB/s eta 0:00:04\n",
      "   ----------- ---------------------------- 4.2/14.0 MB 2.5 MB/s eta 0:00:04\n",
      "   ----------- ---------------------------- 4.2/14.0 MB 2.5 MB/s eta 0:00:04\n",
      "   ------------ --------------------------- 4.5/14.0 MB 2.3 MB/s eta 0:00:05\n",
      "   -------------- ------------------------- 5.0/14.0 MB 2.1 MB/s eta 0:00:05\n",
      "   -------------- ------------------------- 5.0/14.0 MB 2.1 MB/s eta 0:00:05\n",
      "   ---------------- ----------------------- 5.8/14.0 MB 2.1 MB/s eta 0:00:04\n",
      "   ------------------ --------------------- 6.6/14.0 MB 2.2 MB/s eta 0:00:04\n",
      "   ------------------ --------------------- 6.6/14.0 MB 2.2 MB/s eta 0:00:04\n",
      "   ------------------- -------------------- 6.8/14.0 MB 2.1 MB/s eta 0:00:04\n",
      "   ---------------------- ----------------- 7.9/14.0 MB 2.2 MB/s eta 0:00:03\n",
      "   ------------------------ --------------- 8.7/14.0 MB 2.3 MB/s eta 0:00:03\n",
      "   --------------------------- ------------ 9.7/14.0 MB 2.5 MB/s eta 0:00:02\n",
      "   ----------------------------- ---------- 10.5/14.0 MB 2.6 MB/s eta 0:00:02\n",
      "   ------------------------------ --------- 10.7/14.0 MB 2.5 MB/s eta 0:00:02\n",
      "   --------------------------------- ------ 11.8/14.0 MB 2.6 MB/s eta 0:00:01\n",
      "   ----------------------------------- ---- 12.6/14.0 MB 2.6 MB/s eta 0:00:01\n",
      "   ---------------------------------------  13.9/14.0 MB 2.8 MB/s eta 0:00:01\n",
      "   ---------------------------------------  13.9/14.0 MB 2.8 MB/s eta 0:00:01\n",
      "   ---------------------------------------- 14.0/14.0 MB 2.7 MB/s eta 0:00:00\n",
      "Using cached jmespath-1.0.1-py3-none-any.whl (20 kB)\n",
      "Using cached s3transfer-0.13.1-py3-none-any.whl (85 kB)\n",
      "Using cached sortedcontainers-2.4.0-py2.py3-none-any.whl (29 kB)\n",
      "Using cached lazy_loader-0.4-py3-none-any.whl (12 kB)\n",
      "Using cached pycparser-2.22-py3-none-any.whl (117 kB)\n",
      "Using cached pyproject_hooks-1.2.0-py3-none-any.whl (10 kB)\n",
      "Using cached pytz-2025.2-py2.py3-none-any.whl (509 kB)\n",
      "Using cached tomlkit-0.13.3-py3-none-any.whl (38 kB)\n",
      "Using cached tzlocal-5.3.1-py3-none-any.whl (18 kB)\n",
      "Using cached tzdata-2025.2-py2.py3-none-any.whl (347 kB)\n",
      "Installing collected packages: text-unidecode, sortedcontainers, pytz, parse, asn1crypto, appdirs, antlr4-python3-runtime, urllib3, tzdata, types-python-dateutil, tomlkit, tomli, toml, smmap, PyYAML, python-slugify, pyproject_hooks, pyjwt, pycparser, protobuf, pluggy, more_itertools, mdurl, MarkupSafe, lazy_loader, jmespath, importlib_resources, idna, fsspec, filelock, dynaconf, cloudpickle, click, charset_normalizer, chardet, certifi, cachetools, attrs, tzlocal, requests, omegaconf, markdown-it-py, Jinja2, gitdb, cffi, build, botocore, binaryornot, arrow, s3transfer, rich, gitpython, cryptography, pyOpenSSL, cookiecutter, boto3, snowflake-connector-python, snowflake-snowpark-python, kedro-telemetry, kedro, kedro-datasets\n",
      "\n",
      "   - --------------------------------------  2/61 [pytz]\n",
      "   - --------------------------------------  2/61 [pytz]\n",
      "   - --------------------------------------  2/61 [pytz]\n",
      "   -- -------------------------------------  4/61 [asn1crypto]\n",
      "   --- ------------------------------------  6/61 [antlr4-python3-runtime]\n",
      "   --- ------------------------------------  6/61 [antlr4-python3-runtime]\n",
      "   ---- -----------------------------------  7/61 [urllib3]\n",
      "   ----- ----------------------------------  8/61 [tzdata]\n",
      "   ----- ----------------------------------  8/61 [tzdata]\n",
      "   ----- ----------------------------------  8/61 [tzdata]\n",
      "   ----- ----------------------------------  9/61 [types-python-dateutil]\n",
      "   ------- -------------------------------- 12/61 [toml]\n",
      "   --------- ------------------------------ 15/61 [python-slugify]\n",
      "   ----------- ---------------------------- 18/61 [pycparser]\n",
      "   ------------ --------------------------- 19/61 [protobuf]\n",
      "   ------------ --------------------------- 19/61 [protobuf]\n",
      "   ------------- -------------------------- 21/61 [more_itertools]\n",
      "   ---------------- ----------------------- 25/61 [jmespath]\n",
      "   ----------------- ---------------------- 26/61 [importlib_resources]\n",
      "   ------------------ --------------------- 28/61 [fsspec]\n",
      "   ------------------ --------------------- 28/61 [fsspec]\n",
      "   ------------------- -------------------- 29/61 [filelock]\n",
      "   ------------------- -------------------- 30/61 [dynaconf]\n",
      "   ------------------- -------------------- 30/61 [dynaconf]\n",
      "   ------------------- -------------------- 30/61 [dynaconf]\n",
      "   -------------------- ------------------- 32/61 [click]\n",
      "   --------------------- ------------------ 33/61 [charset_normalizer]\n",
      "   ---------------------- ----------------- 34/61 [chardet]\n",
      "   ---------------------- ----------------- 34/61 [chardet]\n",
      "   ------------------------ --------------- 37/61 [attrs]\n",
      "   ------------------------- -------------- 39/61 [requests]\n",
      "   -------------------------- ------------- 40/61 [omegaconf]\n",
      "   -------------------------- ------------- 41/61 [markdown-it-py]\n",
      "   -------------------------- ------------- 41/61 [markdown-it-py]\n",
      "   --------------------------- ------------ 42/61 [Jinja2]\n",
      "   ---------------------------- ----------- 44/61 [cffi]\n",
      "   ----------------------------- ---------- 45/61 [build]\n",
      "   ------------------------------ --------- 46/61 [botocore]\n",
      "   ------------------------------ --------- 46/61 [botocore]\n",
      "   ------------------------------ --------- 46/61 [botocore]\n",
      "   ------------------------------ --------- 46/61 [botocore]\n",
      "   ------------------------------ --------- 46/61 [botocore]\n",
      "   ------------------------------ --------- 46/61 [botocore]\n",
      "   ------------------------------ --------- 46/61 [botocore]\n",
      "   ------------------------------ --------- 46/61 [botocore]\n",
      "   ------------------------------ --------- 46/61 [botocore]\n",
      "   ------------------------------ --------- 46/61 [botocore]\n",
      "   ------------------------------ --------- 46/61 [botocore]\n",
      "   ------------------------------ --------- 46/61 [botocore]\n",
      "   ------------------------------ --------- 46/61 [botocore]\n",
      "   ------------------------------ --------- 46/61 [botocore]\n",
      "   ------------------------------ --------- 46/61 [botocore]\n",
      "   ------------------------------- -------- 48/61 [arrow]\n",
      "   -------------------------------- ------- 50/61 [rich]\n",
      "   -------------------------------- ------- 50/61 [rich]\n",
      "   -------------------------------- ------- 50/61 [rich]\n",
      "   -------------------------------- ------- 50/61 [rich]\n",
      "   -------------------------------- ------- 50/61 [rich]\n",
      "   --------------------------------- ------ 51/61 [gitpython]\n",
      "   --------------------------------- ------ 51/61 [gitpython]\n",
      "   ---------------------------------- ----- 52/61 [cryptography]\n",
      "   ---------------------------------- ----- 52/61 [cryptography]\n",
      "   ---------------------------------- ----- 52/61 [cryptography]\n",
      "   ----------------------------------- ---- 54/61 [cookiecutter]\n",
      "   ------------------------------------ --- 55/61 [boto3]\n",
      "   ------------------------------------ --- 56/61 [snowflake-connector-python]\n",
      "   ------------------------------------ --- 56/61 [snowflake-connector-python]\n",
      "   ------------------------------------ --- 56/61 [snowflake-connector-python]\n",
      "   ------------------------------------ --- 56/61 [snowflake-connector-python]\n",
      "   ------------------------------------ --- 56/61 [snowflake-connector-python]\n",
      "   ------------------------------------ --- 56/61 [snowflake-connector-python]\n",
      "   ------------------------------------- -- 57/61 [snowflake-snowpark-python]\n",
      "   ------------------------------------- -- 57/61 [snowflake-snowpark-python]\n",
      "   ------------------------------------- -- 57/61 [snowflake-snowpark-python]\n",
      "   ------------------------------------- -- 57/61 [snowflake-snowpark-python]\n",
      "   ------------------------------------- -- 57/61 [snowflake-snowpark-python]\n",
      "   ------------------------------------- -- 57/61 [snowflake-snowpark-python]\n",
      "   ------------------------------------- -- 57/61 [snowflake-snowpark-python]\n",
      "   ------------------------------------- -- 57/61 [snowflake-snowpark-python]\n",
      "   ------------------------------------- -- 57/61 [snowflake-snowpark-python]\n",
      "   -------------------------------------- - 59/61 [kedro]\n",
      "   -------------------------------------- - 59/61 [kedro]\n",
      "   -------------------------------------- - 59/61 [kedro]\n",
      "   ---------------------------------------  60/61 [kedro-datasets]\n",
      "   ---------------------------------------  60/61 [kedro-datasets]\n",
      "   ---------------------------------------  60/61 [kedro-datasets]\n",
      "   ---------------------------------------  60/61 [kedro-datasets]\n",
      "   ---------------------------------------- 61/61 [kedro-datasets]\n",
      "\n",
      "Successfully installed Jinja2-3.1.6 MarkupSafe-3.0.2 PyYAML-6.0.2 antlr4-python3-runtime-4.9.3 appdirs-1.4.4 arrow-1.3.0 asn1crypto-1.5.1 attrs-25.3.0 binaryornot-0.4.4 boto3-1.40.11 botocore-1.40.11 build-1.3.0 cachetools-6.1.0 certifi-2025.8.3 cffi-1.17.1 chardet-5.2.0 charset_normalizer-3.4.3 click-8.1.8 cloudpickle-3.0.0 cookiecutter-2.6.0 cryptography-45.0.6 dynaconf-3.2.11 filelock-3.19.1 fsspec-2025.7.0 gitdb-4.0.12 gitpython-3.1.45 idna-3.10 importlib_resources-6.5.2 jmespath-1.0.1 kedro-1.0.0 kedro-datasets-8.0.0 kedro-telemetry-0.6.3 lazy_loader-0.4 markdown-it-py-4.0.0 mdurl-0.1.2 more_itertools-10.7.0 omegaconf-2.3.0 parse-1.20.2 pluggy-1.6.0 protobuf-5.29.5 pyOpenSSL-25.1.0 pycparser-2.22 pyjwt-2.10.1 pyproject_hooks-1.2.0 python-slugify-8.0.4 pytz-2025.2 requests-2.32.4 rich-14.1.0 s3transfer-0.13.1 smmap-5.0.2 snowflake-connector-python-3.17.1 snowflake-snowpark-python-1.36.0 sortedcontainers-2.4.0 text-unidecode-1.3 toml-0.10.2 tomli-2.2.1 tomlkit-0.13.3 types-python-dateutil-2.9.0.20250809 tzdata-2025.2 tzlocal-5.3.1 urllib3-2.5.0\n",
      "Note: you may need to restart the kernel to use updated packages.\n",
      "Requirement already satisfied: kedro-datasets in c:\\users\\iezeroual\\appdata\\local\\miniconda3\\envs\\kedro_snowpark\\lib\\site-packages (8.0.0)\n",
      "Requirement already satisfied: kedro<2.0.0,>=1.0.0rc1 in c:\\users\\iezeroual\\appdata\\local\\miniconda3\\envs\\kedro_snowpark\\lib\\site-packages (from kedro-datasets) (1.0.0)\n",
      "Requirement already satisfied: lazy_loader in c:\\users\\iezeroual\\appdata\\local\\miniconda3\\envs\\kedro_snowpark\\lib\\site-packages (from kedro-datasets) (0.4)\n",
      "Requirement already satisfied: attrs>=21.3 in c:\\users\\iezeroual\\appdata\\local\\miniconda3\\envs\\kedro_snowpark\\lib\\site-packages (from kedro<2.0.0,>=1.0.0rc1->kedro-datasets) (25.3.0)\n",
      "Requirement already satisfied: build>=0.7.0 in c:\\users\\iezeroual\\appdata\\local\\miniconda3\\envs\\kedro_snowpark\\lib\\site-packages (from kedro<2.0.0,>=1.0.0rc1->kedro-datasets) (1.3.0)\n",
      "Requirement already satisfied: cachetools>=4.1 in c:\\users\\iezeroual\\appdata\\local\\miniconda3\\envs\\kedro_snowpark\\lib\\site-packages (from kedro<2.0.0,>=1.0.0rc1->kedro-datasets) (6.1.0)\n",
      "Requirement already satisfied: click<8.2.0,>=4.0 in c:\\users\\iezeroual\\appdata\\local\\miniconda3\\envs\\kedro_snowpark\\lib\\site-packages (from kedro<2.0.0,>=1.0.0rc1->kedro-datasets) (8.1.8)\n",
      "Requirement already satisfied: cookiecutter<3.0,>=2.1.1 in c:\\users\\iezeroual\\appdata\\local\\miniconda3\\envs\\kedro_snowpark\\lib\\site-packages (from kedro<2.0.0,>=1.0.0rc1->kedro-datasets) (2.6.0)\n",
      "Requirement already satisfied: dynaconf<4.0,>=3.1.2 in c:\\users\\iezeroual\\appdata\\local\\miniconda3\\envs\\kedro_snowpark\\lib\\site-packages (from kedro<2.0.0,>=1.0.0rc1->kedro-datasets) (3.2.11)\n",
      "Requirement already satisfied: fsspec>=2021.4 in c:\\users\\iezeroual\\appdata\\local\\miniconda3\\envs\\kedro_snowpark\\lib\\site-packages (from kedro<2.0.0,>=1.0.0rc1->kedro-datasets) (2025.7.0)\n",
      "Requirement already satisfied: gitpython>=3.0 in c:\\users\\iezeroual\\appdata\\local\\miniconda3\\envs\\kedro_snowpark\\lib\\site-packages (from kedro<2.0.0,>=1.0.0rc1->kedro-datasets) (3.1.45)\n",
      "Requirement already satisfied: importlib_resources<7.0,>=1.3 in c:\\users\\iezeroual\\appdata\\local\\miniconda3\\envs\\kedro_snowpark\\lib\\site-packages (from kedro<2.0.0,>=1.0.0rc1->kedro-datasets) (6.5.2)\n",
      "Requirement already satisfied: importlib-metadata<9.0,>=3.6 in c:\\users\\iezeroual\\appdata\\local\\miniconda3\\envs\\kedro_snowpark\\lib\\site-packages (from kedro<2.0.0,>=1.0.0rc1->kedro-datasets) (8.7.0)\n",
      "Requirement already satisfied: kedro-telemetry>=0.5.0 in c:\\users\\iezeroual\\appdata\\local\\miniconda3\\envs\\kedro_snowpark\\lib\\site-packages (from kedro<2.0.0,>=1.0.0rc1->kedro-datasets) (0.6.3)\n",
      "Requirement already satisfied: more_itertools>=8.14.0 in c:\\users\\iezeroual\\appdata\\local\\miniconda3\\envs\\kedro_snowpark\\lib\\site-packages (from kedro<2.0.0,>=1.0.0rc1->kedro-datasets) (10.7.0)\n",
      "Requirement already satisfied: omegaconf>=2.1.1 in c:\\users\\iezeroual\\appdata\\local\\miniconda3\\envs\\kedro_snowpark\\lib\\site-packages (from kedro<2.0.0,>=1.0.0rc1->kedro-datasets) (2.3.0)\n",
      "Requirement already satisfied: parse>=1.19.0 in c:\\users\\iezeroual\\appdata\\local\\miniconda3\\envs\\kedro_snowpark\\lib\\site-packages (from kedro<2.0.0,>=1.0.0rc1->kedro-datasets) (1.20.2)\n",
      "Requirement already satisfied: pluggy>=1.0 in c:\\users\\iezeroual\\appdata\\local\\miniconda3\\envs\\kedro_snowpark\\lib\\site-packages (from kedro<2.0.0,>=1.0.0rc1->kedro-datasets) (1.6.0)\n",
      "Requirement already satisfied: PyYAML<7.0,>=4.2 in c:\\users\\iezeroual\\appdata\\local\\miniconda3\\envs\\kedro_snowpark\\lib\\site-packages (from kedro<2.0.0,>=1.0.0rc1->kedro-datasets) (6.0.2)\n",
      "Requirement already satisfied: rich<15.0,>=12.0 in c:\\users\\iezeroual\\appdata\\local\\miniconda3\\envs\\kedro_snowpark\\lib\\site-packages (from kedro<2.0.0,>=1.0.0rc1->kedro-datasets) (14.1.0)\n",
      "Requirement already satisfied: toml>=0.10.0 in c:\\users\\iezeroual\\appdata\\local\\miniconda3\\envs\\kedro_snowpark\\lib\\site-packages (from kedro<2.0.0,>=1.0.0rc1->kedro-datasets) (0.10.2)\n",
      "Requirement already satisfied: typing_extensions>=4.0 in c:\\users\\iezeroual\\appdata\\local\\miniconda3\\envs\\kedro_snowpark\\lib\\site-packages (from kedro<2.0.0,>=1.0.0rc1->kedro-datasets) (4.14.1)\n",
      "Requirement already satisfied: colorama in c:\\users\\iezeroual\\appdata\\local\\miniconda3\\envs\\kedro_snowpark\\lib\\site-packages (from click<8.2.0,>=4.0->kedro<2.0.0,>=1.0.0rc1->kedro-datasets) (0.4.6)\n",
      "Requirement already satisfied: binaryornot>=0.4.4 in c:\\users\\iezeroual\\appdata\\local\\miniconda3\\envs\\kedro_snowpark\\lib\\site-packages (from cookiecutter<3.0,>=2.1.1->kedro<2.0.0,>=1.0.0rc1->kedro-datasets) (0.4.4)\n",
      "Requirement already satisfied: Jinja2<4.0.0,>=2.7 in c:\\users\\iezeroual\\appdata\\local\\miniconda3\\envs\\kedro_snowpark\\lib\\site-packages (from cookiecutter<3.0,>=2.1.1->kedro<2.0.0,>=1.0.0rc1->kedro-datasets) (3.1.6)\n",
      "Requirement already satisfied: python-slugify>=4.0.0 in c:\\users\\iezeroual\\appdata\\local\\miniconda3\\envs\\kedro_snowpark\\lib\\site-packages (from cookiecutter<3.0,>=2.1.1->kedro<2.0.0,>=1.0.0rc1->kedro-datasets) (8.0.4)\n",
      "Requirement already satisfied: requests>=2.23.0 in c:\\users\\iezeroual\\appdata\\local\\miniconda3\\envs\\kedro_snowpark\\lib\\site-packages (from cookiecutter<3.0,>=2.1.1->kedro<2.0.0,>=1.0.0rc1->kedro-datasets) (2.32.4)\n",
      "Requirement already satisfied: arrow in c:\\users\\iezeroual\\appdata\\local\\miniconda3\\envs\\kedro_snowpark\\lib\\site-packages (from cookiecutter<3.0,>=2.1.1->kedro<2.0.0,>=1.0.0rc1->kedro-datasets) (1.3.0)\n",
      "Requirement already satisfied: zipp>=3.20 in c:\\users\\iezeroual\\appdata\\local\\miniconda3\\envs\\kedro_snowpark\\lib\\site-packages (from importlib-metadata<9.0,>=3.6->kedro<2.0.0,>=1.0.0rc1->kedro-datasets) (3.23.0)\n",
      "Requirement already satisfied: MarkupSafe>=2.0 in c:\\users\\iezeroual\\appdata\\local\\miniconda3\\envs\\kedro_snowpark\\lib\\site-packages (from Jinja2<4.0.0,>=2.7->cookiecutter<3.0,>=2.1.1->kedro<2.0.0,>=1.0.0rc1->kedro-datasets) (3.0.2)\n",
      "Requirement already satisfied: markdown-it-py>=2.2.0 in c:\\users\\iezeroual\\appdata\\local\\miniconda3\\envs\\kedro_snowpark\\lib\\site-packages (from rich<15.0,>=12.0->kedro<2.0.0,>=1.0.0rc1->kedro-datasets) (4.0.0)\n",
      "Requirement already satisfied: pygments<3.0.0,>=2.13.0 in c:\\users\\iezeroual\\appdata\\local\\miniconda3\\envs\\kedro_snowpark\\lib\\site-packages (from rich<15.0,>=12.0->kedro<2.0.0,>=1.0.0rc1->kedro-datasets) (2.19.2)\n",
      "Requirement already satisfied: chardet>=3.0.2 in c:\\users\\iezeroual\\appdata\\local\\miniconda3\\envs\\kedro_snowpark\\lib\\site-packages (from binaryornot>=0.4.4->cookiecutter<3.0,>=2.1.1->kedro<2.0.0,>=1.0.0rc1->kedro-datasets) (5.2.0)\n",
      "Requirement already satisfied: packaging>=19.1 in c:\\users\\iezeroual\\appdata\\local\\miniconda3\\envs\\kedro_snowpark\\lib\\site-packages (from build>=0.7.0->kedro<2.0.0,>=1.0.0rc1->kedro-datasets) (25.0)\n",
      "Requirement already satisfied: pyproject_hooks in c:\\users\\iezeroual\\appdata\\local\\miniconda3\\envs\\kedro_snowpark\\lib\\site-packages (from build>=0.7.0->kedro<2.0.0,>=1.0.0rc1->kedro-datasets) (1.2.0)\n",
      "Requirement already satisfied: tomli>=1.1.0 in c:\\users\\iezeroual\\appdata\\local\\miniconda3\\envs\\kedro_snowpark\\lib\\site-packages (from build>=0.7.0->kedro<2.0.0,>=1.0.0rc1->kedro-datasets) (2.2.1)\n",
      "Requirement already satisfied: gitdb<5,>=4.0.1 in c:\\users\\iezeroual\\appdata\\local\\miniconda3\\envs\\kedro_snowpark\\lib\\site-packages (from gitpython>=3.0->kedro<2.0.0,>=1.0.0rc1->kedro-datasets) (4.0.12)\n",
      "Requirement already satisfied: smmap<6,>=3.0.1 in c:\\users\\iezeroual\\appdata\\local\\miniconda3\\envs\\kedro_snowpark\\lib\\site-packages (from gitdb<5,>=4.0.1->gitpython>=3.0->kedro<2.0.0,>=1.0.0rc1->kedro-datasets) (5.0.2)\n",
      "Requirement already satisfied: appdirs>=1.4.4 in c:\\users\\iezeroual\\appdata\\local\\miniconda3\\envs\\kedro_snowpark\\lib\\site-packages (from kedro-telemetry>=0.5.0->kedro<2.0.0,>=1.0.0rc1->kedro-datasets) (1.4.4)\n",
      "Requirement already satisfied: charset_normalizer<4,>=2 in c:\\users\\iezeroual\\appdata\\local\\miniconda3\\envs\\kedro_snowpark\\lib\\site-packages (from requests>=2.23.0->cookiecutter<3.0,>=2.1.1->kedro<2.0.0,>=1.0.0rc1->kedro-datasets) (3.4.3)\n",
      "Requirement already satisfied: idna<4,>=2.5 in c:\\users\\iezeroual\\appdata\\local\\miniconda3\\envs\\kedro_snowpark\\lib\\site-packages (from requests>=2.23.0->cookiecutter<3.0,>=2.1.1->kedro<2.0.0,>=1.0.0rc1->kedro-datasets) (3.10)\n",
      "Requirement already satisfied: urllib3<3,>=1.21.1 in c:\\users\\iezeroual\\appdata\\local\\miniconda3\\envs\\kedro_snowpark\\lib\\site-packages (from requests>=2.23.0->cookiecutter<3.0,>=2.1.1->kedro<2.0.0,>=1.0.0rc1->kedro-datasets) (2.5.0)\n",
      "Requirement already satisfied: certifi>=2017.4.17 in c:\\users\\iezeroual\\appdata\\local\\miniconda3\\envs\\kedro_snowpark\\lib\\site-packages (from requests>=2.23.0->cookiecutter<3.0,>=2.1.1->kedro<2.0.0,>=1.0.0rc1->kedro-datasets) (2025.8.3)\n",
      "Requirement already satisfied: mdurl~=0.1 in c:\\users\\iezeroual\\appdata\\local\\miniconda3\\envs\\kedro_snowpark\\lib\\site-packages (from markdown-it-py>=2.2.0->rich<15.0,>=12.0->kedro<2.0.0,>=1.0.0rc1->kedro-datasets) (0.1.2)\n",
      "Requirement already satisfied: antlr4-python3-runtime==4.9.* in c:\\users\\iezeroual\\appdata\\local\\miniconda3\\envs\\kedro_snowpark\\lib\\site-packages (from omegaconf>=2.1.1->kedro<2.0.0,>=1.0.0rc1->kedro-datasets) (4.9.3)\n",
      "Requirement already satisfied: text-unidecode>=1.3 in c:\\users\\iezeroual\\appdata\\local\\miniconda3\\envs\\kedro_snowpark\\lib\\site-packages (from python-slugify>=4.0.0->cookiecutter<3.0,>=2.1.1->kedro<2.0.0,>=1.0.0rc1->kedro-datasets) (1.3)\n",
      "Requirement already satisfied: python-dateutil>=2.7.0 in c:\\users\\iezeroual\\appdata\\local\\miniconda3\\envs\\kedro_snowpark\\lib\\site-packages (from arrow->cookiecutter<3.0,>=2.1.1->kedro<2.0.0,>=1.0.0rc1->kedro-datasets) (2.9.0.post0)\n",
      "Requirement already satisfied: types-python-dateutil>=2.8.10 in c:\\users\\iezeroual\\appdata\\local\\miniconda3\\envs\\kedro_snowpark\\lib\\site-packages (from arrow->cookiecutter<3.0,>=2.1.1->kedro<2.0.0,>=1.0.0rc1->kedro-datasets) (2.9.0.20250809)\n",
      "Requirement already satisfied: six>=1.5 in c:\\users\\iezeroual\\appdata\\local\\miniconda3\\envs\\kedro_snowpark\\lib\\site-packages (from python-dateutil>=2.7.0->arrow->cookiecutter<3.0,>=2.1.1->kedro<2.0.0,>=1.0.0rc1->kedro-datasets) (1.17.0)\n",
      "Note: you may need to restart the kernel to use updated packages.\n",
      "Requirement already satisfied: kedro in c:\\users\\iezeroual\\appdata\\local\\miniconda3\\envs\\kedro_snowpark\\lib\\site-packages (1.0.0)\n",
      "Requirement already satisfied: snowflake-snowpark-python[pandas] in c:\\users\\iezeroual\\appdata\\local\\miniconda3\\envs\\kedro_snowpark\\lib\\site-packages (1.36.0)\n",
      "Requirement already satisfied: attrs>=21.3 in c:\\users\\iezeroual\\appdata\\local\\miniconda3\\envs\\kedro_snowpark\\lib\\site-packages (from kedro) (25.3.0)\n",
      "Requirement already satisfied: build>=0.7.0 in c:\\users\\iezeroual\\appdata\\local\\miniconda3\\envs\\kedro_snowpark\\lib\\site-packages (from kedro) (1.3.0)\n",
      "Requirement already satisfied: cachetools>=4.1 in c:\\users\\iezeroual\\appdata\\local\\miniconda3\\envs\\kedro_snowpark\\lib\\site-packages (from kedro) (6.1.0)\n",
      "Requirement already satisfied: click<8.2.0,>=4.0 in c:\\users\\iezeroual\\appdata\\local\\miniconda3\\envs\\kedro_snowpark\\lib\\site-packages (from kedro) (8.1.8)\n",
      "Requirement already satisfied: cookiecutter<3.0,>=2.1.1 in c:\\users\\iezeroual\\appdata\\local\\miniconda3\\envs\\kedro_snowpark\\lib\\site-packages (from kedro) (2.6.0)\n",
      "Requirement already satisfied: dynaconf<4.0,>=3.1.2 in c:\\users\\iezeroual\\appdata\\local\\miniconda3\\envs\\kedro_snowpark\\lib\\site-packages (from kedro) (3.2.11)\n",
      "Requirement already satisfied: fsspec>=2021.4 in c:\\users\\iezeroual\\appdata\\local\\miniconda3\\envs\\kedro_snowpark\\lib\\site-packages (from kedro) (2025.7.0)\n",
      "Requirement already satisfied: gitpython>=3.0 in c:\\users\\iezeroual\\appdata\\local\\miniconda3\\envs\\kedro_snowpark\\lib\\site-packages (from kedro) (3.1.45)\n",
      "Requirement already satisfied: importlib_resources<7.0,>=1.3 in c:\\users\\iezeroual\\appdata\\local\\miniconda3\\envs\\kedro_snowpark\\lib\\site-packages (from kedro) (6.5.2)\n",
      "Requirement already satisfied: importlib-metadata<9.0,>=3.6 in c:\\users\\iezeroual\\appdata\\local\\miniconda3\\envs\\kedro_snowpark\\lib\\site-packages (from kedro) (8.7.0)\n",
      "Requirement already satisfied: kedro-telemetry>=0.5.0 in c:\\users\\iezeroual\\appdata\\local\\miniconda3\\envs\\kedro_snowpark\\lib\\site-packages (from kedro) (0.6.3)\n",
      "Requirement already satisfied: more_itertools>=8.14.0 in c:\\users\\iezeroual\\appdata\\local\\miniconda3\\envs\\kedro_snowpark\\lib\\site-packages (from kedro) (10.7.0)\n",
      "Requirement already satisfied: omegaconf>=2.1.1 in c:\\users\\iezeroual\\appdata\\local\\miniconda3\\envs\\kedro_snowpark\\lib\\site-packages (from kedro) (2.3.0)\n",
      "Requirement already satisfied: parse>=1.19.0 in c:\\users\\iezeroual\\appdata\\local\\miniconda3\\envs\\kedro_snowpark\\lib\\site-packages (from kedro) (1.20.2)\n",
      "Requirement already satisfied: pluggy>=1.0 in c:\\users\\iezeroual\\appdata\\local\\miniconda3\\envs\\kedro_snowpark\\lib\\site-packages (from kedro) (1.6.0)\n",
      "Requirement already satisfied: PyYAML<7.0,>=4.2 in c:\\users\\iezeroual\\appdata\\local\\miniconda3\\envs\\kedro_snowpark\\lib\\site-packages (from kedro) (6.0.2)\n",
      "Requirement already satisfied: rich<15.0,>=12.0 in c:\\users\\iezeroual\\appdata\\local\\miniconda3\\envs\\kedro_snowpark\\lib\\site-packages (from kedro) (14.1.0)\n",
      "Requirement already satisfied: toml>=0.10.0 in c:\\users\\iezeroual\\appdata\\local\\miniconda3\\envs\\kedro_snowpark\\lib\\site-packages (from kedro) (0.10.2)\n",
      "Requirement already satisfied: typing_extensions>=4.0 in c:\\users\\iezeroual\\appdata\\local\\miniconda3\\envs\\kedro_snowpark\\lib\\site-packages (from kedro) (4.14.1)\n",
      "Requirement already satisfied: colorama in c:\\users\\iezeroual\\appdata\\local\\miniconda3\\envs\\kedro_snowpark\\lib\\site-packages (from click<8.2.0,>=4.0->kedro) (0.4.6)\n",
      "Requirement already satisfied: binaryornot>=0.4.4 in c:\\users\\iezeroual\\appdata\\local\\miniconda3\\envs\\kedro_snowpark\\lib\\site-packages (from cookiecutter<3.0,>=2.1.1->kedro) (0.4.4)\n",
      "Requirement already satisfied: Jinja2<4.0.0,>=2.7 in c:\\users\\iezeroual\\appdata\\local\\miniconda3\\envs\\kedro_snowpark\\lib\\site-packages (from cookiecutter<3.0,>=2.1.1->kedro) (3.1.6)\n",
      "Requirement already satisfied: python-slugify>=4.0.0 in c:\\users\\iezeroual\\appdata\\local\\miniconda3\\envs\\kedro_snowpark\\lib\\site-packages (from cookiecutter<3.0,>=2.1.1->kedro) (8.0.4)\n",
      "Requirement already satisfied: requests>=2.23.0 in c:\\users\\iezeroual\\appdata\\local\\miniconda3\\envs\\kedro_snowpark\\lib\\site-packages (from cookiecutter<3.0,>=2.1.1->kedro) (2.32.4)\n",
      "Requirement already satisfied: arrow in c:\\users\\iezeroual\\appdata\\local\\miniconda3\\envs\\kedro_snowpark\\lib\\site-packages (from cookiecutter<3.0,>=2.1.1->kedro) (1.3.0)\n",
      "Requirement already satisfied: zipp>=3.20 in c:\\users\\iezeroual\\appdata\\local\\miniconda3\\envs\\kedro_snowpark\\lib\\site-packages (from importlib-metadata<9.0,>=3.6->kedro) (3.23.0)\n",
      "Requirement already satisfied: MarkupSafe>=2.0 in c:\\users\\iezeroual\\appdata\\local\\miniconda3\\envs\\kedro_snowpark\\lib\\site-packages (from Jinja2<4.0.0,>=2.7->cookiecutter<3.0,>=2.1.1->kedro) (3.0.2)\n",
      "Requirement already satisfied: markdown-it-py>=2.2.0 in c:\\users\\iezeroual\\appdata\\local\\miniconda3\\envs\\kedro_snowpark\\lib\\site-packages (from rich<15.0,>=12.0->kedro) (4.0.0)\n",
      "Requirement already satisfied: pygments<3.0.0,>=2.13.0 in c:\\users\\iezeroual\\appdata\\local\\miniconda3\\envs\\kedro_snowpark\\lib\\site-packages (from rich<15.0,>=12.0->kedro) (2.19.2)\n",
      "Requirement already satisfied: setuptools>=40.6.0 in c:\\users\\iezeroual\\appdata\\local\\miniconda3\\envs\\kedro_snowpark\\lib\\site-packages (from snowflake-snowpark-python[pandas]) (78.1.1)\n",
      "Requirement already satisfied: wheel in c:\\users\\iezeroual\\appdata\\local\\miniconda3\\envs\\kedro_snowpark\\lib\\site-packages (from snowflake-snowpark-python[pandas]) (0.45.1)\n",
      "Requirement already satisfied: snowflake-connector-python<4.0.0,>=3.14.0 in c:\\users\\iezeroual\\appdata\\local\\miniconda3\\envs\\kedro_snowpark\\lib\\site-packages (from snowflake-snowpark-python[pandas]) (3.17.1)\n",
      "Requirement already satisfied: cloudpickle!=2.1.0,!=2.2.0,<=3.0.0,>=1.6.0 in c:\\users\\iezeroual\\appdata\\local\\miniconda3\\envs\\kedro_snowpark\\lib\\site-packages (from snowflake-snowpark-python[pandas]) (3.0.0)\n",
      "Requirement already satisfied: protobuf<6,>=3.20 in c:\\users\\iezeroual\\appdata\\local\\miniconda3\\envs\\kedro_snowpark\\lib\\site-packages (from snowflake-snowpark-python[pandas]) (5.29.5)\n",
      "Requirement already satisfied: python-dateutil in c:\\users\\iezeroual\\appdata\\local\\miniconda3\\envs\\kedro_snowpark\\lib\\site-packages (from snowflake-snowpark-python[pandas]) (2.9.0.post0)\n",
      "Requirement already satisfied: tzlocal in c:\\users\\iezeroual\\appdata\\local\\miniconda3\\envs\\kedro_snowpark\\lib\\site-packages (from snowflake-snowpark-python[pandas]) (5.3.1)\n",
      "Requirement already satisfied: asn1crypto<2.0.0,>0.24.0 in c:\\users\\iezeroual\\appdata\\local\\miniconda3\\envs\\kedro_snowpark\\lib\\site-packages (from snowflake-connector-python<4.0.0,>=3.14.0->snowflake-snowpark-python[pandas]) (1.5.1)\n",
      "Requirement already satisfied: boto3>=1.24 in c:\\users\\iezeroual\\appdata\\local\\miniconda3\\envs\\kedro_snowpark\\lib\\site-packages (from snowflake-connector-python<4.0.0,>=3.14.0->snowflake-snowpark-python[pandas]) (1.40.11)\n",
      "Requirement already satisfied: botocore>=1.24 in c:\\users\\iezeroual\\appdata\\local\\miniconda3\\envs\\kedro_snowpark\\lib\\site-packages (from snowflake-connector-python<4.0.0,>=3.14.0->snowflake-snowpark-python[pandas]) (1.40.11)\n",
      "Requirement already satisfied: cffi<2.0.0,>=1.9 in c:\\users\\iezeroual\\appdata\\local\\miniconda3\\envs\\kedro_snowpark\\lib\\site-packages (from snowflake-connector-python<4.0.0,>=3.14.0->snowflake-snowpark-python[pandas]) (1.17.1)\n",
      "Requirement already satisfied: cryptography>=3.1.0 in c:\\users\\iezeroual\\appdata\\local\\miniconda3\\envs\\kedro_snowpark\\lib\\site-packages (from snowflake-connector-python<4.0.0,>=3.14.0->snowflake-snowpark-python[pandas]) (45.0.6)\n",
      "Requirement already satisfied: pyOpenSSL<26.0.0,>=22.0.0 in c:\\users\\iezeroual\\appdata\\local\\miniconda3\\envs\\kedro_snowpark\\lib\\site-packages (from snowflake-connector-python<4.0.0,>=3.14.0->snowflake-snowpark-python[pandas]) (25.1.0)\n",
      "Requirement already satisfied: pyjwt<3.0.0 in c:\\users\\iezeroual\\appdata\\local\\miniconda3\\envs\\kedro_snowpark\\lib\\site-packages (from snowflake-connector-python<4.0.0,>=3.14.0->snowflake-snowpark-python[pandas]) (2.10.1)\n",
      "Requirement already satisfied: pytz in c:\\users\\iezeroual\\appdata\\local\\miniconda3\\envs\\kedro_snowpark\\lib\\site-packages (from snowflake-connector-python<4.0.0,>=3.14.0->snowflake-snowpark-python[pandas]) (2025.2)\n",
      "Requirement already satisfied: packaging in c:\\users\\iezeroual\\appdata\\local\\miniconda3\\envs\\kedro_snowpark\\lib\\site-packages (from snowflake-connector-python<4.0.0,>=3.14.0->snowflake-snowpark-python[pandas]) (25.0)\n",
      "Requirement already satisfied: charset_normalizer<4,>=2 in c:\\users\\iezeroual\\appdata\\local\\miniconda3\\envs\\kedro_snowpark\\lib\\site-packages (from snowflake-connector-python<4.0.0,>=3.14.0->snowflake-snowpark-python[pandas]) (3.4.3)\n",
      "Requirement already satisfied: idna<4,>=2.5 in c:\\users\\iezeroual\\appdata\\local\\miniconda3\\envs\\kedro_snowpark\\lib\\site-packages (from snowflake-connector-python<4.0.0,>=3.14.0->snowflake-snowpark-python[pandas]) (3.10)\n",
      "Requirement already satisfied: certifi>=2017.4.17 in c:\\users\\iezeroual\\appdata\\local\\miniconda3\\envs\\kedro_snowpark\\lib\\site-packages (from snowflake-connector-python<4.0.0,>=3.14.0->snowflake-snowpark-python[pandas]) (2025.8.3)\n",
      "Requirement already satisfied: filelock<4,>=3.5 in c:\\users\\iezeroual\\appdata\\local\\miniconda3\\envs\\kedro_snowpark\\lib\\site-packages (from snowflake-connector-python<4.0.0,>=3.14.0->snowflake-snowpark-python[pandas]) (3.19.1)\n",
      "Requirement already satisfied: sortedcontainers>=2.4.0 in c:\\users\\iezeroual\\appdata\\local\\miniconda3\\envs\\kedro_snowpark\\lib\\site-packages (from snowflake-connector-python<4.0.0,>=3.14.0->snowflake-snowpark-python[pandas]) (2.4.0)\n",
      "Requirement already satisfied: platformdirs<5.0.0,>=2.6.0 in c:\\users\\iezeroual\\appdata\\local\\miniconda3\\envs\\kedro_snowpark\\lib\\site-packages (from snowflake-connector-python<4.0.0,>=3.14.0->snowflake-snowpark-python[pandas]) (4.3.8)\n",
      "Requirement already satisfied: tomlkit in c:\\users\\iezeroual\\appdata\\local\\miniconda3\\envs\\kedro_snowpark\\lib\\site-packages (from snowflake-connector-python<4.0.0,>=3.14.0->snowflake-snowpark-python[pandas]) (0.13.3)\n",
      "Requirement already satisfied: pycparser in c:\\users\\iezeroual\\appdata\\local\\miniconda3\\envs\\kedro_snowpark\\lib\\site-packages (from cffi<2.0.0,>=1.9->snowflake-connector-python<4.0.0,>=3.14.0->snowflake-snowpark-python[pandas]) (2.22)\n",
      "Requirement already satisfied: urllib3<3,>=1.21.1 in c:\\users\\iezeroual\\appdata\\local\\miniconda3\\envs\\kedro_snowpark\\lib\\site-packages (from requests>=2.23.0->cookiecutter<3.0,>=2.1.1->kedro) (2.5.0)\n",
      "Collecting pandas<3.0.0,>=2.1.2 (from snowflake-connector-python[pandas]<4.0.0,>=3.14.0; extra == \"pandas\"->snowflake-snowpark-python[pandas])\n",
      "  Using cached pandas-2.3.1-cp310-cp310-win_amd64.whl.metadata (19 kB)\n",
      "Collecting pyarrow (from snowflake-connector-python[pandas]<4.0.0,>=3.14.0; extra == \"pandas\"->snowflake-snowpark-python[pandas])\n",
      "  Using cached pyarrow-21.0.0-cp310-cp310-win_amd64.whl.metadata (3.4 kB)\n",
      "Collecting numpy>=1.22.4 (from pandas<3.0.0,>=2.1.2->snowflake-connector-python[pandas]<4.0.0,>=3.14.0; extra == \"pandas\"->snowflake-snowpark-python[pandas])\n",
      "  Using cached numpy-2.2.6-cp310-cp310-win_amd64.whl.metadata (60 kB)\n",
      "Requirement already satisfied: tzdata>=2022.7 in c:\\users\\iezeroual\\appdata\\local\\miniconda3\\envs\\kedro_snowpark\\lib\\site-packages (from pandas<3.0.0,>=2.1.2->snowflake-connector-python[pandas]<4.0.0,>=3.14.0; extra == \"pandas\"->snowflake-snowpark-python[pandas]) (2025.2)\n",
      "Requirement already satisfied: chardet>=3.0.2 in c:\\users\\iezeroual\\appdata\\local\\miniconda3\\envs\\kedro_snowpark\\lib\\site-packages (from binaryornot>=0.4.4->cookiecutter<3.0,>=2.1.1->kedro) (5.2.0)\n",
      "Requirement already satisfied: jmespath<2.0.0,>=0.7.1 in c:\\users\\iezeroual\\appdata\\local\\miniconda3\\envs\\kedro_snowpark\\lib\\site-packages (from boto3>=1.24->snowflake-connector-python<4.0.0,>=3.14.0->snowflake-snowpark-python[pandas]) (1.0.1)\n",
      "Requirement already satisfied: s3transfer<0.14.0,>=0.13.0 in c:\\users\\iezeroual\\appdata\\local\\miniconda3\\envs\\kedro_snowpark\\lib\\site-packages (from boto3>=1.24->snowflake-connector-python<4.0.0,>=3.14.0->snowflake-snowpark-python[pandas]) (0.13.1)\n",
      "Requirement already satisfied: six>=1.5 in c:\\users\\iezeroual\\appdata\\local\\miniconda3\\envs\\kedro_snowpark\\lib\\site-packages (from python-dateutil->snowflake-snowpark-python[pandas]) (1.17.0)\n",
      "Requirement already satisfied: pyproject_hooks in c:\\users\\iezeroual\\appdata\\local\\miniconda3\\envs\\kedro_snowpark\\lib\\site-packages (from build>=0.7.0->kedro) (1.2.0)\n",
      "Requirement already satisfied: tomli>=1.1.0 in c:\\users\\iezeroual\\appdata\\local\\miniconda3\\envs\\kedro_snowpark\\lib\\site-packages (from build>=0.7.0->kedro) (2.2.1)\n",
      "Requirement already satisfied: gitdb<5,>=4.0.1 in c:\\users\\iezeroual\\appdata\\local\\miniconda3\\envs\\kedro_snowpark\\lib\\site-packages (from gitpython>=3.0->kedro) (4.0.12)\n",
      "Requirement already satisfied: smmap<6,>=3.0.1 in c:\\users\\iezeroual\\appdata\\local\\miniconda3\\envs\\kedro_snowpark\\lib\\site-packages (from gitdb<5,>=4.0.1->gitpython>=3.0->kedro) (5.0.2)\n",
      "Requirement already satisfied: appdirs>=1.4.4 in c:\\users\\iezeroual\\appdata\\local\\miniconda3\\envs\\kedro_snowpark\\lib\\site-packages (from kedro-telemetry>=0.5.0->kedro) (1.4.4)\n",
      "Requirement already satisfied: mdurl~=0.1 in c:\\users\\iezeroual\\appdata\\local\\miniconda3\\envs\\kedro_snowpark\\lib\\site-packages (from markdown-it-py>=2.2.0->rich<15.0,>=12.0->kedro) (0.1.2)\n",
      "Requirement already satisfied: antlr4-python3-runtime==4.9.* in c:\\users\\iezeroual\\appdata\\local\\miniconda3\\envs\\kedro_snowpark\\lib\\site-packages (from omegaconf>=2.1.1->kedro) (4.9.3)\n",
      "Requirement already satisfied: text-unidecode>=1.3 in c:\\users\\iezeroual\\appdata\\local\\miniconda3\\envs\\kedro_snowpark\\lib\\site-packages (from python-slugify>=4.0.0->cookiecutter<3.0,>=2.1.1->kedro) (1.3)\n",
      "Requirement already satisfied: types-python-dateutil>=2.8.10 in c:\\users\\iezeroual\\appdata\\local\\miniconda3\\envs\\kedro_snowpark\\lib\\site-packages (from arrow->cookiecutter<3.0,>=2.1.1->kedro) (2.9.0.20250809)\n",
      "Using cached pandas-2.3.1-cp310-cp310-win_amd64.whl (11.3 MB)\n",
      "Using cached numpy-2.2.6-cp310-cp310-win_amd64.whl (12.9 MB)\n",
      "Using cached pyarrow-21.0.0-cp310-cp310-win_amd64.whl (26.2 MB)\n",
      "Installing collected packages: pyarrow, numpy, pandas\n",
      "\n",
      "   ---------------------------------------- 0/3 [pyarrow]\n",
      "   ---------------------------------------- 0/3 [pyarrow]\n",
      "   ---------------------------------------- 0/3 [pyarrow]\n",
      "   ---------------------------------------- 0/3 [pyarrow]\n",
      "   ---------------------------------------- 0/3 [pyarrow]\n",
      "   ---------------------------------------- 0/3 [pyarrow]\n",
      "   ---------------------------------------- 0/3 [pyarrow]\n",
      "   ---------------------------------------- 0/3 [pyarrow]\n",
      "   ---------------------------------------- 0/3 [pyarrow]\n",
      "   ---------------------------------------- 0/3 [pyarrow]\n",
      "   ---------------------------------------- 0/3 [pyarrow]\n",
      "   ---------------------------------------- 0/3 [pyarrow]\n",
      "   ---------------------------------------- 0/3 [pyarrow]\n",
      "   ------------- -------------------------- 1/3 [numpy]\n",
      "   ------------- -------------------------- 1/3 [numpy]\n",
      "   ------------- -------------------------- 1/3 [numpy]\n",
      "   ------------- -------------------------- 1/3 [numpy]\n",
      "   ------------- -------------------------- 1/3 [numpy]\n",
      "   ------------- -------------------------- 1/3 [numpy]\n",
      "   ------------- -------------------------- 1/3 [numpy]\n",
      "   ------------- -------------------------- 1/3 [numpy]\n",
      "   ------------- -------------------------- 1/3 [numpy]\n",
      "   ------------- -------------------------- 1/3 [numpy]\n",
      "   ------------- -------------------------- 1/3 [numpy]\n",
      "   ------------- -------------------------- 1/3 [numpy]\n",
      "   ------------- -------------------------- 1/3 [numpy]\n",
      "   ------------- -------------------------- 1/3 [numpy]\n",
      "   ------------- -------------------------- 1/3 [numpy]\n",
      "   ------------- -------------------------- 1/3 [numpy]\n",
      "   ------------- -------------------------- 1/3 [numpy]\n",
      "   ------------- -------------------------- 1/3 [numpy]\n",
      "   ------------- -------------------------- 1/3 [numpy]\n",
      "   ------------- -------------------------- 1/3 [numpy]\n",
      "   ------------- -------------------------- 1/3 [numpy]\n",
      "   ------------- -------------------------- 1/3 [numpy]\n",
      "   ------------- -------------------------- 1/3 [numpy]\n",
      "   -------------------------- ------------- 2/3 [pandas]\n",
      "   -------------------------- ------------- 2/3 [pandas]\n",
      "   -------------------------- ------------- 2/3 [pandas]\n",
      "   -------------------------- ------------- 2/3 [pandas]\n",
      "   -------------------------- ------------- 2/3 [pandas]\n",
      "   -------------------------- ------------- 2/3 [pandas]\n",
      "   -------------------------- ------------- 2/3 [pandas]\n",
      "   -------------------------- ------------- 2/3 [pandas]\n",
      "   -------------------------- ------------- 2/3 [pandas]\n",
      "   -------------------------- ------------- 2/3 [pandas]\n",
      "   -------------------------- ------------- 2/3 [pandas]\n",
      "   -------------------------- ------------- 2/3 [pandas]\n",
      "   -------------------------- ------------- 2/3 [pandas]\n",
      "   -------------------------- ------------- 2/3 [pandas]\n",
      "   -------------------------- ------------- 2/3 [pandas]\n",
      "   -------------------------- ------------- 2/3 [pandas]\n",
      "   -------------------------- ------------- 2/3 [pandas]\n",
      "   -------------------------- ------------- 2/3 [pandas]\n",
      "   -------------------------- ------------- 2/3 [pandas]\n",
      "   -------------------------- ------------- 2/3 [pandas]\n",
      "   -------------------------- ------------- 2/3 [pandas]\n",
      "   -------------------------- ------------- 2/3 [pandas]\n",
      "   -------------------------- ------------- 2/3 [pandas]\n",
      "   -------------------------- ------------- 2/3 [pandas]\n",
      "   -------------------------- ------------- 2/3 [pandas]\n",
      "   -------------------------- ------------- 2/3 [pandas]\n",
      "   -------------------------- ------------- 2/3 [pandas]\n",
      "   -------------------------- ------------- 2/3 [pandas]\n",
      "   -------------------------- ------------- 2/3 [pandas]\n",
      "   -------------------------- ------------- 2/3 [pandas]\n",
      "   -------------------------- ------------- 2/3 [pandas]\n",
      "   -------------------------- ------------- 2/3 [pandas]\n",
      "   -------------------------- ------------- 2/3 [pandas]\n",
      "   -------------------------- ------------- 2/3 [pandas]\n",
      "   -------------------------- ------------- 2/3 [pandas]\n",
      "   -------------------------- ------------- 2/3 [pandas]\n",
      "   -------------------------- ------------- 2/3 [pandas]\n",
      "   -------------------------- ------------- 2/3 [pandas]\n",
      "   -------------------------- ------------- 2/3 [pandas]\n",
      "   -------------------------- ------------- 2/3 [pandas]\n",
      "   -------------------------- ------------- 2/3 [pandas]\n",
      "   -------------------------- ------------- 2/3 [pandas]\n",
      "   -------------------------- ------------- 2/3 [pandas]\n",
      "   -------------------------- ------------- 2/3 [pandas]\n",
      "   -------------------------- ------------- 2/3 [pandas]\n",
      "   -------------------------- ------------- 2/3 [pandas]\n",
      "   -------------------------- ------------- 2/3 [pandas]\n",
      "   -------------------------- ------------- 2/3 [pandas]\n",
      "   -------------------------- ------------- 2/3 [pandas]\n",
      "   -------------------------- ------------- 2/3 [pandas]\n",
      "   -------------------------- ------------- 2/3 [pandas]\n",
      "   -------------------------- ------------- 2/3 [pandas]\n",
      "   -------------------------- ------------- 2/3 [pandas]\n",
      "   ---------------------------------------- 3/3 [pandas]\n",
      "\n",
      "Successfully installed numpy-2.2.6 pandas-2.3.1 pyarrow-21.0.0\n",
      "Note: you may need to restart the kernel to use updated packages.\n"
     ]
    }
   ],
   "source": [
    "%pip install kedro-datasets[snowflake]\n",
    "%pip install kedro-datasets\n",
    "%pip install kedro \"snowflake-snowpark-python[pandas]\""
   ]
  },
  {
   "cell_type": "code",
   "execution_count": 1,
   "id": "8baee2d2",
   "metadata": {},
   "outputs": [
    {
     "name": "stdout",
     "output_type": "stream",
     "text": [
      "Requirement already satisfied: snowflake-connector-python in c:\\users\\iezeroual\\appdata\\local\\miniconda3\\envs\\kedro_snowpark\\lib\\site-packages (3.17.1)\n",
      "Requirement already satisfied: pyarrow in c:\\users\\iezeroual\\appdata\\local\\miniconda3\\envs\\kedro_snowpark\\lib\\site-packages (21.0.0)\n",
      "Requirement already satisfied: asn1crypto<2.0.0,>0.24.0 in c:\\users\\iezeroual\\appdata\\local\\miniconda3\\envs\\kedro_snowpark\\lib\\site-packages (from snowflake-connector-python) (1.5.1)\n",
      "Requirement already satisfied: boto3>=1.24 in c:\\users\\iezeroual\\appdata\\local\\miniconda3\\envs\\kedro_snowpark\\lib\\site-packages (from snowflake-connector-python) (1.40.11)\n",
      "Requirement already satisfied: botocore>=1.24 in c:\\users\\iezeroual\\appdata\\local\\miniconda3\\envs\\kedro_snowpark\\lib\\site-packages (from snowflake-connector-python) (1.40.11)\n",
      "Requirement already satisfied: cffi<2.0.0,>=1.9 in c:\\users\\iezeroual\\appdata\\local\\miniconda3\\envs\\kedro_snowpark\\lib\\site-packages (from snowflake-connector-python) (1.17.1)\n",
      "Requirement already satisfied: cryptography>=3.1.0 in c:\\users\\iezeroual\\appdata\\local\\miniconda3\\envs\\kedro_snowpark\\lib\\site-packages (from snowflake-connector-python) (45.0.6)\n",
      "Requirement already satisfied: pyOpenSSL<26.0.0,>=22.0.0 in c:\\users\\iezeroual\\appdata\\local\\miniconda3\\envs\\kedro_snowpark\\lib\\site-packages (from snowflake-connector-python) (25.1.0)\n",
      "Requirement already satisfied: pyjwt<3.0.0 in c:\\users\\iezeroual\\appdata\\local\\miniconda3\\envs\\kedro_snowpark\\lib\\site-packages (from snowflake-connector-python) (2.10.1)\n",
      "Requirement already satisfied: pytz in c:\\users\\iezeroual\\appdata\\local\\miniconda3\\envs\\kedro_snowpark\\lib\\site-packages (from snowflake-connector-python) (2025.2)\n",
      "Requirement already satisfied: requests<3.0.0 in c:\\users\\iezeroual\\appdata\\local\\miniconda3\\envs\\kedro_snowpark\\lib\\site-packages (from snowflake-connector-python) (2.32.4)\n",
      "Requirement already satisfied: packaging in c:\\users\\iezeroual\\appdata\\local\\miniconda3\\envs\\kedro_snowpark\\lib\\site-packages (from snowflake-connector-python) (25.0)\n",
      "Requirement already satisfied: charset_normalizer<4,>=2 in c:\\users\\iezeroual\\appdata\\local\\miniconda3\\envs\\kedro_snowpark\\lib\\site-packages (from snowflake-connector-python) (3.4.3)\n",
      "Requirement already satisfied: idna<4,>=2.5 in c:\\users\\iezeroual\\appdata\\local\\miniconda3\\envs\\kedro_snowpark\\lib\\site-packages (from snowflake-connector-python) (3.10)\n",
      "Requirement already satisfied: certifi>=2017.4.17 in c:\\users\\iezeroual\\appdata\\local\\miniconda3\\envs\\kedro_snowpark\\lib\\site-packages (from snowflake-connector-python) (2025.8.3)\n",
      "Requirement already satisfied: typing_extensions<5,>=4.3 in c:\\users\\iezeroual\\appdata\\local\\miniconda3\\envs\\kedro_snowpark\\lib\\site-packages (from snowflake-connector-python) (4.14.1)\n",
      "Requirement already satisfied: filelock<4,>=3.5 in c:\\users\\iezeroual\\appdata\\local\\miniconda3\\envs\\kedro_snowpark\\lib\\site-packages (from snowflake-connector-python) (3.19.1)\n",
      "Requirement already satisfied: sortedcontainers>=2.4.0 in c:\\users\\iezeroual\\appdata\\local\\miniconda3\\envs\\kedro_snowpark\\lib\\site-packages (from snowflake-connector-python) (2.4.0)\n",
      "Requirement already satisfied: platformdirs<5.0.0,>=2.6.0 in c:\\users\\iezeroual\\appdata\\local\\miniconda3\\envs\\kedro_snowpark\\lib\\site-packages (from snowflake-connector-python) (4.3.8)\n",
      "Requirement already satisfied: tomlkit in c:\\users\\iezeroual\\appdata\\local\\miniconda3\\envs\\kedro_snowpark\\lib\\site-packages (from snowflake-connector-python) (0.13.3)\n",
      "Requirement already satisfied: pycparser in c:\\users\\iezeroual\\appdata\\local\\miniconda3\\envs\\kedro_snowpark\\lib\\site-packages (from cffi<2.0.0,>=1.9->snowflake-connector-python) (2.22)\n",
      "Requirement already satisfied: urllib3<3,>=1.21.1 in c:\\users\\iezeroual\\appdata\\local\\miniconda3\\envs\\kedro_snowpark\\lib\\site-packages (from requests<3.0.0->snowflake-connector-python) (2.5.0)\n",
      "Requirement already satisfied: jmespath<2.0.0,>=0.7.1 in c:\\users\\iezeroual\\appdata\\local\\miniconda3\\envs\\kedro_snowpark\\lib\\site-packages (from boto3>=1.24->snowflake-connector-python) (1.0.1)\n",
      "Requirement already satisfied: s3transfer<0.14.0,>=0.13.0 in c:\\users\\iezeroual\\appdata\\local\\miniconda3\\envs\\kedro_snowpark\\lib\\site-packages (from boto3>=1.24->snowflake-connector-python) (0.13.1)\n",
      "Requirement already satisfied: python-dateutil<3.0.0,>=2.1 in c:\\users\\iezeroual\\appdata\\local\\miniconda3\\envs\\kedro_snowpark\\lib\\site-packages (from botocore>=1.24->snowflake-connector-python) (2.9.0.post0)\n",
      "Requirement already satisfied: six>=1.5 in c:\\users\\iezeroual\\appdata\\local\\miniconda3\\envs\\kedro_snowpark\\lib\\site-packages (from python-dateutil<3.0.0,>=2.1->botocore>=1.24->snowflake-connector-python) (1.17.0)\n",
      "Note: you may need to restart the kernel to use updated packages.\n"
     ]
    }
   ],
   "source": [
    "%pip install --upgrade snowflake-connector-python pyarrow"
   ]
  },
  {
   "cell_type": "code",
   "execution_count": 1,
   "id": "5a591f79",
   "metadata": {},
   "outputs": [
    {
     "data": {
      "text/html": [
       "<pre style=\"white-space:pre;overflow-x:auto;line-height:normal;font-family:Menlo,'DejaVu Sans Mono',consolas,'Courier New',monospace\"><span style=\"color: #7fbfbf; text-decoration-color: #7fbfbf\">[08/17/25 00:11:06] </span><span style=\"color: #000080; text-decoration-color: #000080\">INFO    </span> Using                                                                  <a href=\"file://c:\\Users\\IEZEROUAL\\AppData\\Local\\miniconda3\\envs\\kedro_snowpark\\lib\\site-packages\\kedro\\framework\\project\\__init__.py\" target=\"_blank\"><span style=\"color: #7f7f7f; text-decoration-color: #7f7f7f\">__init__.py</span></a><span style=\"color: #7f7f7f; text-decoration-color: #7f7f7f\">:</span><a href=\"file://c:\\Users\\IEZEROUAL\\AppData\\Local\\miniconda3\\envs\\kedro_snowpark\\lib\\site-packages\\kedro\\framework\\project\\__init__.py#270\" target=\"_blank\"><span style=\"color: #7f7f7f; text-decoration-color: #7f7f7f\">270</span></a>\n",
       "<span style=\"color: #7fbfbf; text-decoration-color: #7fbfbf\">                    </span>         <span style=\"color: #008000; text-decoration-color: #008000\">'c:\\Users\\IEZEROUAL\\AppData\\Local\\miniconda3\\envs\\kedro_snowpark\\lib\\s</span> <span style=\"color: #7f7f7f; text-decoration-color: #7f7f7f\">               </span>\n",
       "<span style=\"color: #7fbfbf; text-decoration-color: #7fbfbf\">                    </span>         <span style=\"color: #008000; text-decoration-color: #008000\">ite-packages\\kedro\\framework\\project\\rich_logging.yml'</span> as logging      <span style=\"color: #7f7f7f; text-decoration-color: #7f7f7f\">               </span>\n",
       "<span style=\"color: #7fbfbf; text-decoration-color: #7fbfbf\">                    </span>         configuration.                                                         <span style=\"color: #7f7f7f; text-decoration-color: #7f7f7f\">               </span>\n",
       "</pre>\n"
      ],
      "text/plain": [
       "\u001b[2;36m[08/17/25 00:11:06]\u001b[0m\u001b[2;36m \u001b[0m\u001b[34mINFO    \u001b[0m Using                                                                  \u001b]8;id=400688;file://c:\\Users\\IEZEROUAL\\AppData\\Local\\miniconda3\\envs\\kedro_snowpark\\lib\\site-packages\\kedro\\framework\\project\\__init__.py\u001b\\\u001b[2m__init__.py\u001b[0m\u001b]8;;\u001b\\\u001b[2m:\u001b[0m\u001b]8;id=133971;file://c:\\Users\\IEZEROUAL\\AppData\\Local\\miniconda3\\envs\\kedro_snowpark\\lib\\site-packages\\kedro\\framework\\project\\__init__.py#270\u001b\\\u001b[2m270\u001b[0m\u001b]8;;\u001b\\\n",
       "\u001b[2;36m                    \u001b[0m         \u001b[32m'c:\\Users\\IEZEROUAL\\AppData\\Local\\miniconda3\\envs\\kedro_snowpark\\lib\\s\u001b[0m \u001b[2m               \u001b[0m\n",
       "\u001b[2;36m                    \u001b[0m         \u001b[32mite-packages\\kedro\\framework\\project\\rich_logging.yml'\u001b[0m as logging      \u001b[2m               \u001b[0m\n",
       "\u001b[2;36m                    \u001b[0m         configuration.                                                         \u001b[2m               \u001b[0m\n"
      ]
     },
     "metadata": {},
     "output_type": "display_data"
    },
    {
     "data": {
      "text/html": [
       "<pre style=\"white-space:pre;overflow-x:auto;line-height:normal;font-family:Menlo,'DejaVu Sans Mono',consolas,'Courier New',monospace\"><span style=\"color: #7fbfbf; text-decoration-color: #7fbfbf\">                    </span><span style=\"color: #000080; text-decoration-color: #000080\">INFO    </span> Registered line magic <span style=\"color: #008000; text-decoration-color: #008000\">'%reload_kedro'</span>                                   <a href=\"file://c:\\Users\\IEZEROUAL\\AppData\\Local\\miniconda3\\envs\\kedro_snowpark\\lib\\site-packages\\kedro\\ipython\\__init__.py\" target=\"_blank\"><span style=\"color: #7f7f7f; text-decoration-color: #7f7f7f\">__init__.py</span></a><span style=\"color: #7f7f7f; text-decoration-color: #7f7f7f\">:</span><a href=\"file://c:\\Users\\IEZEROUAL\\AppData\\Local\\miniconda3\\envs\\kedro_snowpark\\lib\\site-packages\\kedro\\ipython\\__init__.py#63\" target=\"_blank\"><span style=\"color: #7f7f7f; text-decoration-color: #7f7f7f\">63</span></a>\n",
       "</pre>\n"
      ],
      "text/plain": [
       "\u001b[2;36m                   \u001b[0m\u001b[2;36m \u001b[0m\u001b[34mINFO    \u001b[0m Registered line magic \u001b[32m'%reload_kedro'\u001b[0m                                   \u001b]8;id=131028;file://c:\\Users\\IEZEROUAL\\AppData\\Local\\miniconda3\\envs\\kedro_snowpark\\lib\\site-packages\\kedro\\ipython\\__init__.py\u001b\\\u001b[2m__init__.py\u001b[0m\u001b]8;;\u001b\\\u001b[2m:\u001b[0m\u001b]8;id=75745;file://c:\\Users\\IEZEROUAL\\AppData\\Local\\miniconda3\\envs\\kedro_snowpark\\lib\\site-packages\\kedro\\ipython\\__init__.py#63\u001b\\\u001b[2m63\u001b[0m\u001b]8;;\u001b\\\n"
      ]
     },
     "metadata": {},
     "output_type": "display_data"
    },
    {
     "data": {
      "text/html": [
       "<pre style=\"white-space:pre;overflow-x:auto;line-height:normal;font-family:Menlo,'DejaVu Sans Mono',consolas,'Courier New',monospace\"><span style=\"color: #7fbfbf; text-decoration-color: #7fbfbf\">                    </span><span style=\"color: #000080; text-decoration-color: #000080\">INFO    </span> Registered line magic <span style=\"color: #008000; text-decoration-color: #008000\">'%load_node'</span>                                      <a href=\"file://c:\\Users\\IEZEROUAL\\AppData\\Local\\miniconda3\\envs\\kedro_snowpark\\lib\\site-packages\\kedro\\ipython\\__init__.py\" target=\"_blank\"><span style=\"color: #7f7f7f; text-decoration-color: #7f7f7f\">__init__.py</span></a><span style=\"color: #7f7f7f; text-decoration-color: #7f7f7f\">:</span><a href=\"file://c:\\Users\\IEZEROUAL\\AppData\\Local\\miniconda3\\envs\\kedro_snowpark\\lib\\site-packages\\kedro\\ipython\\__init__.py#65\" target=\"_blank\"><span style=\"color: #7f7f7f; text-decoration-color: #7f7f7f\">65</span></a>\n",
       "</pre>\n"
      ],
      "text/plain": [
       "\u001b[2;36m                   \u001b[0m\u001b[2;36m \u001b[0m\u001b[34mINFO    \u001b[0m Registered line magic \u001b[32m'%load_node'\u001b[0m                                      \u001b]8;id=522090;file://c:\\Users\\IEZEROUAL\\AppData\\Local\\miniconda3\\envs\\kedro_snowpark\\lib\\site-packages\\kedro\\ipython\\__init__.py\u001b\\\u001b[2m__init__.py\u001b[0m\u001b]8;;\u001b\\\u001b[2m:\u001b[0m\u001b]8;id=725903;file://c:\\Users\\IEZEROUAL\\AppData\\Local\\miniconda3\\envs\\kedro_snowpark\\lib\\site-packages\\kedro\\ipython\\__init__.py#65\u001b\\\u001b[2m65\u001b[0m\u001b]8;;\u001b\\\n"
      ]
     },
     "metadata": {},
     "output_type": "display_data"
    },
    {
     "data": {
      "text/html": [
       "<pre style=\"white-space:pre;overflow-x:auto;line-height:normal;font-family:Menlo,'DejaVu Sans Mono',consolas,'Courier New',monospace\"><span style=\"color: #7fbfbf; text-decoration-color: #7fbfbf\">                    </span><span style=\"color: #000080; text-decoration-color: #000080\">INFO    </span> Resolved project path as: d:\\Amazing\\kedro\\mspr2.                      <a href=\"file://c:\\Users\\IEZEROUAL\\AppData\\Local\\miniconda3\\envs\\kedro_snowpark\\lib\\site-packages\\kedro\\ipython\\__init__.py\" target=\"_blank\"><span style=\"color: #7f7f7f; text-decoration-color: #7f7f7f\">__init__.py</span></a><span style=\"color: #7f7f7f; text-decoration-color: #7f7f7f\">:</span><a href=\"file://c:\\Users\\IEZEROUAL\\AppData\\Local\\miniconda3\\envs\\kedro_snowpark\\lib\\site-packages\\kedro\\ipython\\__init__.py#180\" target=\"_blank\"><span style=\"color: #7f7f7f; text-decoration-color: #7f7f7f\">180</span></a>\n",
       "<span style=\"color: #7fbfbf; text-decoration-color: #7fbfbf\">                    </span>         To set a different path, run <span style=\"color: #008000; text-decoration-color: #008000\">'%reload_kedro &lt;project_root&gt;'</span>            <span style=\"color: #7f7f7f; text-decoration-color: #7f7f7f\">               </span>\n",
       "</pre>\n"
      ],
      "text/plain": [
       "\u001b[2;36m                   \u001b[0m\u001b[2;36m \u001b[0m\u001b[34mINFO    \u001b[0m Resolved project path as: d:\\Amazing\\kedro\\mspr2.                      \u001b]8;id=393025;file://c:\\Users\\IEZEROUAL\\AppData\\Local\\miniconda3\\envs\\kedro_snowpark\\lib\\site-packages\\kedro\\ipython\\__init__.py\u001b\\\u001b[2m__init__.py\u001b[0m\u001b]8;;\u001b\\\u001b[2m:\u001b[0m\u001b]8;id=157987;file://c:\\Users\\IEZEROUAL\\AppData\\Local\\miniconda3\\envs\\kedro_snowpark\\lib\\site-packages\\kedro\\ipython\\__init__.py#180\u001b\\\u001b[2m180\u001b[0m\u001b]8;;\u001b\\\n",
       "\u001b[2;36m                    \u001b[0m         To set a different path, run \u001b[32m'%reload_kedro \u001b[0m\u001b[32m<\u001b[0m\u001b[32mproject_root\u001b[0m\u001b[32m>\u001b[0m\u001b[32m'\u001b[0m            \u001b[2m               \u001b[0m\n"
      ]
     },
     "metadata": {},
     "output_type": "display_data"
    },
    {
     "data": {
      "text/html": [
       "<pre style=\"white-space:pre;overflow-x:auto;line-height:normal;font-family:Menlo,'DejaVu Sans Mono',consolas,'Courier New',monospace\"><span style=\"color: #7fbfbf; text-decoration-color: #7fbfbf\">[08/17/25 00:11:09] </span><span style=\"color: #000080; text-decoration-color: #000080\">INFO    </span> Kedro is sending anonymous usage data with the sole purpose of improving <a href=\"file://c:\\Users\\IEZEROUAL\\AppData\\Local\\miniconda3\\envs\\kedro_snowpark\\lib\\site-packages\\kedro_telemetry\\plugin.py\" target=\"_blank\"><span style=\"color: #7f7f7f; text-decoration-color: #7f7f7f\">plugin.py</span></a><span style=\"color: #7f7f7f; text-decoration-color: #7f7f7f\">:</span><a href=\"file://c:\\Users\\IEZEROUAL\\AppData\\Local\\miniconda3\\envs\\kedro_snowpark\\lib\\site-packages\\kedro_telemetry\\plugin.py#233\" target=\"_blank\"><span style=\"color: #7f7f7f; text-decoration-color: #7f7f7f\">233</span></a>\n",
       "<span style=\"color: #7fbfbf; text-decoration-color: #7fbfbf\">                    </span>         the product. No personal data or IP addresses are stored on our side. If <span style=\"color: #7f7f7f; text-decoration-color: #7f7f7f\">             </span>\n",
       "<span style=\"color: #7fbfbf; text-decoration-color: #7fbfbf\">                    </span>         you want to opt out, set the `KEDRO_DISABLE_TELEMETRY` or `DO_NOT_TRACK` <span style=\"color: #7f7f7f; text-decoration-color: #7f7f7f\">             </span>\n",
       "<span style=\"color: #7fbfbf; text-decoration-color: #7fbfbf\">                    </span>         environment variables, or create a `.telemetry` file in the current      <span style=\"color: #7f7f7f; text-decoration-color: #7f7f7f\">             </span>\n",
       "<span style=\"color: #7fbfbf; text-decoration-color: #7fbfbf\">                    </span>         working directory with the contents `consent: false`. Read more at       <span style=\"color: #7f7f7f; text-decoration-color: #7f7f7f\">             </span>\n",
       "<span style=\"color: #7fbfbf; text-decoration-color: #7fbfbf\">                    </span>         <span style=\"color: #0000ff; text-decoration-color: #0000ff; text-decoration: underline\">https://docs.kedro.org/en/stable/configuration/telemetry.html</span>            <span style=\"color: #7f7f7f; text-decoration-color: #7f7f7f\">             </span>\n",
       "</pre>\n"
      ],
      "text/plain": [
       "\u001b[2;36m[08/17/25 00:11:09]\u001b[0m\u001b[2;36m \u001b[0m\u001b[34mINFO    \u001b[0m Kedro is sending anonymous usage data with the sole purpose of improving \u001b]8;id=503775;file://c:\\Users\\IEZEROUAL\\AppData\\Local\\miniconda3\\envs\\kedro_snowpark\\lib\\site-packages\\kedro_telemetry\\plugin.py\u001b\\\u001b[2mplugin.py\u001b[0m\u001b]8;;\u001b\\\u001b[2m:\u001b[0m\u001b]8;id=202457;file://c:\\Users\\IEZEROUAL\\AppData\\Local\\miniconda3\\envs\\kedro_snowpark\\lib\\site-packages\\kedro_telemetry\\plugin.py#233\u001b\\\u001b[2m233\u001b[0m\u001b]8;;\u001b\\\n",
       "\u001b[2;36m                    \u001b[0m         the product. No personal data or IP addresses are stored on our side. If \u001b[2m             \u001b[0m\n",
       "\u001b[2;36m                    \u001b[0m         you want to opt out, set the `KEDRO_DISABLE_TELEMETRY` or `DO_NOT_TRACK` \u001b[2m             \u001b[0m\n",
       "\u001b[2;36m                    \u001b[0m         environment variables, or create a `.telemetry` file in the current      \u001b[2m             \u001b[0m\n",
       "\u001b[2;36m                    \u001b[0m         working directory with the contents `consent: false`. Read more at       \u001b[2m             \u001b[0m\n",
       "\u001b[2;36m                    \u001b[0m         \u001b[4;94mhttps://docs.kedro.org/en/stable/configuration/telemetry.html\u001b[0m            \u001b[2m             \u001b[0m\n"
      ]
     },
     "metadata": {},
     "output_type": "display_data"
    },
    {
     "data": {
      "text/html": [
       "<pre style=\"white-space:pre;overflow-x:auto;line-height:normal;font-family:Menlo,'DejaVu Sans Mono',consolas,'Courier New',monospace\"><span style=\"color: #7fbfbf; text-decoration-color: #7fbfbf\">[08/17/25 00:11:11] </span><span style=\"color: #000080; text-decoration-color: #000080\">INFO    </span> Kedro project mspr2                                                    <a href=\"file://c:\\Users\\IEZEROUAL\\AppData\\Local\\miniconda3\\envs\\kedro_snowpark\\lib\\site-packages\\kedro\\ipython\\__init__.py\" target=\"_blank\"><span style=\"color: #7f7f7f; text-decoration-color: #7f7f7f\">__init__.py</span></a><span style=\"color: #7f7f7f; text-decoration-color: #7f7f7f\">:</span><a href=\"file://c:\\Users\\IEZEROUAL\\AppData\\Local\\miniconda3\\envs\\kedro_snowpark\\lib\\site-packages\\kedro\\ipython\\__init__.py#146\" target=\"_blank\"><span style=\"color: #7f7f7f; text-decoration-color: #7f7f7f\">146</span></a>\n",
       "</pre>\n"
      ],
      "text/plain": [
       "\u001b[2;36m[08/17/25 00:11:11]\u001b[0m\u001b[2;36m \u001b[0m\u001b[34mINFO    \u001b[0m Kedro project mspr2                                                    \u001b]8;id=712159;file://c:\\Users\\IEZEROUAL\\AppData\\Local\\miniconda3\\envs\\kedro_snowpark\\lib\\site-packages\\kedro\\ipython\\__init__.py\u001b\\\u001b[2m__init__.py\u001b[0m\u001b]8;;\u001b\\\u001b[2m:\u001b[0m\u001b]8;id=705502;file://c:\\Users\\IEZEROUAL\\AppData\\Local\\miniconda3\\envs\\kedro_snowpark\\lib\\site-packages\\kedro\\ipython\\__init__.py#146\u001b\\\u001b[2m146\u001b[0m\u001b]8;;\u001b\\\n"
      ]
     },
     "metadata": {},
     "output_type": "display_data"
    },
    {
     "data": {
      "text/html": [
       "<pre style=\"white-space:pre;overflow-x:auto;line-height:normal;font-family:Menlo,'DejaVu Sans Mono',consolas,'Courier New',monospace\"><span style=\"color: #7fbfbf; text-decoration-color: #7fbfbf\">                    </span><span style=\"color: #000080; text-decoration-color: #000080\">INFO    </span> Defined global variable <span style=\"color: #008000; text-decoration-color: #008000\">'context'</span>, <span style=\"color: #008000; text-decoration-color: #008000\">'session'</span>, <span style=\"color: #008000; text-decoration-color: #008000\">'catalog'</span> and            <a href=\"file://c:\\Users\\IEZEROUAL\\AppData\\Local\\miniconda3\\envs\\kedro_snowpark\\lib\\site-packages\\kedro\\ipython\\__init__.py\" target=\"_blank\"><span style=\"color: #7f7f7f; text-decoration-color: #7f7f7f\">__init__.py</span></a><span style=\"color: #7f7f7f; text-decoration-color: #7f7f7f\">:</span><a href=\"file://c:\\Users\\IEZEROUAL\\AppData\\Local\\miniconda3\\envs\\kedro_snowpark\\lib\\site-packages\\kedro\\ipython\\__init__.py#147\" target=\"_blank\"><span style=\"color: #7f7f7f; text-decoration-color: #7f7f7f\">147</span></a>\n",
       "<span style=\"color: #7fbfbf; text-decoration-color: #7fbfbf\">                    </span>         <span style=\"color: #008000; text-decoration-color: #008000\">'pipelines'</span>                                                            <span style=\"color: #7f7f7f; text-decoration-color: #7f7f7f\">               </span>\n",
       "</pre>\n"
      ],
      "text/plain": [
       "\u001b[2;36m                   \u001b[0m\u001b[2;36m \u001b[0m\u001b[34mINFO    \u001b[0m Defined global variable \u001b[32m'context'\u001b[0m, \u001b[32m'session'\u001b[0m, \u001b[32m'catalog'\u001b[0m and            \u001b]8;id=192449;file://c:\\Users\\IEZEROUAL\\AppData\\Local\\miniconda3\\envs\\kedro_snowpark\\lib\\site-packages\\kedro\\ipython\\__init__.py\u001b\\\u001b[2m__init__.py\u001b[0m\u001b]8;;\u001b\\\u001b[2m:\u001b[0m\u001b]8;id=263710;file://c:\\Users\\IEZEROUAL\\AppData\\Local\\miniconda3\\envs\\kedro_snowpark\\lib\\site-packages\\kedro\\ipython\\__init__.py#147\u001b\\\u001b[2m147\u001b[0m\u001b]8;;\u001b\\\n",
       "\u001b[2;36m                    \u001b[0m         \u001b[32m'pipelines'\u001b[0m                                                            \u001b[2m               \u001b[0m\n"
      ]
     },
     "metadata": {},
     "output_type": "display_data"
    }
   ],
   "source": [
    "%load_ext kedro.ipython"
   ]
  },
  {
   "cell_type": "code",
   "execution_count": 2,
   "id": "9290182b",
   "metadata": {},
   "outputs": [
    {
     "data": {
      "text/html": [
       "<pre style=\"white-space:pre;overflow-x:auto;line-height:normal;font-family:Menlo,'DejaVu Sans Mono',consolas,'Courier New',monospace\"><span style=\"color: #7fbfbf; text-decoration-color: #7fbfbf\">[08/17/25 00:11:15] </span><span style=\"color: #000080; text-decoration-color: #000080\">INFO    </span> Loading data from <span style=\"color: #ff8700; text-decoration-color: #ff8700\">events</span> <span style=\"font-weight: bold\">(</span>SnowparkTableDataset<span style=\"font-weight: bold\">)</span><span style=\"color: #808000; text-decoration-color: #808000\">...</span>                <a href=\"file://c:\\Users\\IEZEROUAL\\AppData\\Local\\miniconda3\\envs\\kedro_snowpark\\lib\\site-packages\\kedro\\io\\data_catalog.py\" target=\"_blank\"><span style=\"color: #7f7f7f; text-decoration-color: #7f7f7f\">data_catalog.py</span></a><span style=\"color: #7f7f7f; text-decoration-color: #7f7f7f\">:</span><a href=\"file://c:\\Users\\IEZEROUAL\\AppData\\Local\\miniconda3\\envs\\kedro_snowpark\\lib\\site-packages\\kedro\\io\\data_catalog.py#1046\" target=\"_blank\"><span style=\"color: #7f7f7f; text-decoration-color: #7f7f7f\">1046</span></a>\n",
       "</pre>\n"
      ],
      "text/plain": [
       "\u001b[2;36m[08/17/25 00:11:15]\u001b[0m\u001b[2;36m \u001b[0m\u001b[34mINFO    \u001b[0m Loading data from \u001b[38;5;208mevents\u001b[0m \u001b[1m(\u001b[0mSnowparkTableDataset\u001b[1m)\u001b[0m\u001b[33m...\u001b[0m                \u001b]8;id=184815;file://c:\\Users\\IEZEROUAL\\AppData\\Local\\miniconda3\\envs\\kedro_snowpark\\lib\\site-packages\\kedro\\io\\data_catalog.py\u001b\\\u001b[2mdata_catalog.py\u001b[0m\u001b]8;;\u001b\\\u001b[2m:\u001b[0m\u001b]8;id=924368;file://c:\\Users\\IEZEROUAL\\AppData\\Local\\miniconda3\\envs\\kedro_snowpark\\lib\\site-packages\\kedro\\io\\data_catalog.py#1046\u001b\\\u001b[2m1046\u001b[0m\u001b]8;;\u001b\\\n"
      ]
     },
     "metadata": {},
     "output_type": "display_data"
    },
    {
     "data": {
      "text/html": [
       "<pre style=\"white-space:pre;overflow-x:auto;line-height:normal;font-family:Menlo,'DejaVu Sans Mono',consolas,'Courier New',monospace\"><span style=\"color: #7fbfbf; text-decoration-color: #7fbfbf\">                    </span><span style=\"color: #808000; text-decoration-color: #808000\">WARNING </span> Retrying <span style=\"font-weight: bold\">(</span><span style=\"color: #800080; text-decoration-color: #800080; font-weight: bold\">Retry</span><span style=\"font-weight: bold\">(</span><span style=\"color: #808000; text-decoration-color: #808000\">total</span>=<span style=\"color: #008080; text-decoration-color: #008080; font-weight: bold\">0</span>, <span style=\"color: #808000; text-decoration-color: #808000\">connect</span>=<span style=\"color: #800080; text-decoration-color: #800080; font-style: italic\">None</span>, <span style=\"color: #808000; text-decoration-color: #808000\">read</span>=<span style=\"color: #800080; text-decoration-color: #800080; font-style: italic\">None</span>, <span style=\"color: #808000; text-decoration-color: #808000\">redirect</span>=<span style=\"color: #800080; text-decoration-color: #800080; font-style: italic\">None</span>, <a href=\"file://c:\\Users\\IEZEROUAL\\AppData\\Local\\miniconda3\\envs\\kedro_snowpark\\lib\\site-packages\\snowflake\\connector\\vendored\\urllib3\\connectionpool.py\" target=\"_blank\"><span style=\"color: #7f7f7f; text-decoration-color: #7f7f7f\">connectionpool.py</span></a><span style=\"color: #7f7f7f; text-decoration-color: #7f7f7f\">:</span><a href=\"file://c:\\Users\\IEZEROUAL\\AppData\\Local\\miniconda3\\envs\\kedro_snowpark\\lib\\site-packages\\snowflake\\connector\\vendored\\urllib3\\connectionpool.py#824\" target=\"_blank\"><span style=\"color: #7f7f7f; text-decoration-color: #7f7f7f\">824</span></a>\n",
       "<span style=\"color: #7fbfbf; text-decoration-color: #7fbfbf\">                    </span>         <span style=\"color: #808000; text-decoration-color: #808000\">status</span>=<span style=\"color: #800080; text-decoration-color: #800080; font-style: italic\">None</span><span style=\"font-weight: bold\">))</span> after connection broken by                         <span style=\"color: #7f7f7f; text-decoration-color: #7f7f7f\">                     </span>\n",
       "<span style=\"color: #7fbfbf; text-decoration-color: #7fbfbf\">                    </span>         <span style=\"color: #008000; text-decoration-color: #008000\">'NewConnectionError('</span><span style=\"font-weight: bold\">&lt;</span><span style=\"color: #ff00ff; text-decoration-color: #ff00ff; font-weight: bold\">snowflake.connector.vendored.urllib3.conne</span> <span style=\"color: #7f7f7f; text-decoration-color: #7f7f7f\">                     </span>\n",
       "<span style=\"color: #7fbfbf; text-decoration-color: #7fbfbf\">                    </span>         <span style=\"color: #ff00ff; text-decoration-color: #ff00ff; font-weight: bold\">ction.HTTPConnection</span><span style=\"color: #000000; text-decoration-color: #000000\"> object at </span><span style=\"color: #008080; text-decoration-color: #008080; font-weight: bold\">0x00000157FF644400</span><span style=\"font-weight: bold\">&gt;</span>: Failed to    <span style=\"color: #7f7f7f; text-decoration-color: #7f7f7f\">                     </span>\n",
       "<span style=\"color: #7fbfbf; text-decoration-color: #7fbfbf\">                    </span>         establish a new connection: <span style=\"font-weight: bold\">[</span>WinError <span style=\"color: #008080; text-decoration-color: #008080; font-weight: bold\">10051</span><span style=\"font-weight: bold\">]</span> A socket operation  <span style=\"color: #7f7f7f; text-decoration-color: #7f7f7f\">                     </span>\n",
       "<span style=\"color: #7fbfbf; text-decoration-color: #7fbfbf\">                    </span>         was attempted to an unreachable network'<span style=\"font-weight: bold\">)</span>':                      <span style=\"color: #7f7f7f; text-decoration-color: #7f7f7f\">                     </span>\n",
       "<span style=\"color: #7fbfbf; text-decoration-color: #7fbfbf\">                    </span>         <span style=\"color: #800080; text-decoration-color: #800080\">/metadata/</span><span style=\"color: #ff00ff; text-decoration-color: #ff00ff\">instance</span>?api-<span style=\"color: #808000; text-decoration-color: #808000\">version</span>=<span style=\"color: #008080; text-decoration-color: #008080; font-weight: bold\">2021</span>-<span style=\"color: #008080; text-decoration-color: #008080; font-weight: bold\">02</span>-<span style=\"color: #008080; text-decoration-color: #008080; font-weight: bold\">01</span>                        <span style=\"color: #7f7f7f; text-decoration-color: #7f7f7f\">                     </span>\n",
       "</pre>\n"
      ],
      "text/plain": [
       "\u001b[2;36m                   \u001b[0m\u001b[2;36m \u001b[0m\u001b[33mWARNING \u001b[0m Retrying \u001b[1m(\u001b[0m\u001b[1;35mRetry\u001b[0m\u001b[1m(\u001b[0m\u001b[33mtotal\u001b[0m=\u001b[1;36m0\u001b[0m, \u001b[33mconnect\u001b[0m=\u001b[3;35mNone\u001b[0m, \u001b[33mread\u001b[0m=\u001b[3;35mNone\u001b[0m, \u001b[33mredirect\u001b[0m=\u001b[3;35mNone\u001b[0m, \u001b]8;id=222830;file://c:\\Users\\IEZEROUAL\\AppData\\Local\\miniconda3\\envs\\kedro_snowpark\\lib\\site-packages\\snowflake\\connector\\vendored\\urllib3\\connectionpool.py\u001b\\\u001b[2mconnectionpool.py\u001b[0m\u001b]8;;\u001b\\\u001b[2m:\u001b[0m\u001b]8;id=841164;file://c:\\Users\\IEZEROUAL\\AppData\\Local\\miniconda3\\envs\\kedro_snowpark\\lib\\site-packages\\snowflake\\connector\\vendored\\urllib3\\connectionpool.py#824\u001b\\\u001b[2m824\u001b[0m\u001b]8;;\u001b\\\n",
       "\u001b[2;36m                    \u001b[0m         \u001b[33mstatus\u001b[0m=\u001b[3;35mNone\u001b[0m\u001b[1m)\u001b[0m\u001b[1m)\u001b[0m after connection broken by                         \u001b[2m                     \u001b[0m\n",
       "\u001b[2;36m                    \u001b[0m         \u001b[32m'NewConnectionError\u001b[0m\u001b[32m(\u001b[0m\u001b[32m'\u001b[0m\u001b[1m<\u001b[0m\u001b[1;95msnowflake.connector.vendored.urllib3.conne\u001b[0m \u001b[2m                     \u001b[0m\n",
       "\u001b[2;36m                    \u001b[0m         \u001b[1;95mction.HTTPConnection\u001b[0m\u001b[39m object at \u001b[0m\u001b[1;36m0x00000157FF644400\u001b[0m\u001b[1m>\u001b[0m: Failed to    \u001b[2m                     \u001b[0m\n",
       "\u001b[2;36m                    \u001b[0m         establish a new connection: \u001b[1m[\u001b[0mWinError \u001b[1;36m10051\u001b[0m\u001b[1m]\u001b[0m A socket operation  \u001b[2m                     \u001b[0m\n",
       "\u001b[2;36m                    \u001b[0m         was attempted to an unreachable network'\u001b[1m)\u001b[0m':                      \u001b[2m                     \u001b[0m\n",
       "\u001b[2;36m                    \u001b[0m         \u001b[35m/metadata/\u001b[0m\u001b[95minstance\u001b[0m?api-\u001b[33mversion\u001b[0m=\u001b[1;36m2021\u001b[0m-\u001b[1;36m02\u001b[0m-\u001b[1;36m01\u001b[0m                        \u001b[2m                     \u001b[0m\n"
      ]
     },
     "metadata": {},
     "output_type": "display_data"
    },
    {
     "data": {
      "text/html": [
       "<pre style=\"white-space:pre;overflow-x:auto;line-height:normal;font-family:Menlo,'DejaVu Sans Mono',consolas,'Courier New',monospace\"><span style=\"color: #7fbfbf; text-decoration-color: #7fbfbf\">                    </span><span style=\"color: #808000; text-decoration-color: #808000\">WARNING </span> Retrying <span style=\"font-weight: bold\">(</span><span style=\"color: #800080; text-decoration-color: #800080; font-weight: bold\">Retry</span><span style=\"font-weight: bold\">(</span><span style=\"color: #808000; text-decoration-color: #808000\">total</span>=<span style=\"color: #008080; text-decoration-color: #008080; font-weight: bold\">0</span>, <span style=\"color: #808000; text-decoration-color: #808000\">connect</span>=<span style=\"color: #800080; text-decoration-color: #800080; font-style: italic\">None</span>, <span style=\"color: #808000; text-decoration-color: #808000\">read</span>=<span style=\"color: #800080; text-decoration-color: #800080; font-style: italic\">None</span>, <span style=\"color: #808000; text-decoration-color: #808000\">redirect</span>=<span style=\"color: #800080; text-decoration-color: #800080; font-style: italic\">None</span>, <a href=\"file://c:\\Users\\IEZEROUAL\\AppData\\Local\\miniconda3\\envs\\kedro_snowpark\\lib\\site-packages\\snowflake\\connector\\vendored\\urllib3\\connectionpool.py\" target=\"_blank\"><span style=\"color: #7f7f7f; text-decoration-color: #7f7f7f\">connectionpool.py</span></a><span style=\"color: #7f7f7f; text-decoration-color: #7f7f7f\">:</span><a href=\"file://c:\\Users\\IEZEROUAL\\AppData\\Local\\miniconda3\\envs\\kedro_snowpark\\lib\\site-packages\\snowflake\\connector\\vendored\\urllib3\\connectionpool.py#824\" target=\"_blank\"><span style=\"color: #7f7f7f; text-decoration-color: #7f7f7f\">824</span></a>\n",
       "<span style=\"color: #7fbfbf; text-decoration-color: #7fbfbf\">                    </span>         <span style=\"color: #808000; text-decoration-color: #808000\">status</span>=<span style=\"color: #800080; text-decoration-color: #800080; font-style: italic\">None</span><span style=\"font-weight: bold\">))</span> after connection broken by                         <span style=\"color: #7f7f7f; text-decoration-color: #7f7f7f\">                     </span>\n",
       "<span style=\"color: #7fbfbf; text-decoration-color: #7fbfbf\">                    </span>         <span style=\"color: #008000; text-decoration-color: #008000\">'NewConnectionError('</span><span style=\"font-weight: bold\">&lt;</span><span style=\"color: #ff00ff; text-decoration-color: #ff00ff; font-weight: bold\">snowflake.connector.vendored.urllib3.conne</span> <span style=\"color: #7f7f7f; text-decoration-color: #7f7f7f\">                     </span>\n",
       "<span style=\"color: #7fbfbf; text-decoration-color: #7fbfbf\">                    </span>         <span style=\"color: #ff00ff; text-decoration-color: #ff00ff; font-weight: bold\">ction.HTTPConnection</span><span style=\"color: #000000; text-decoration-color: #000000\"> object at </span><span style=\"color: #008080; text-decoration-color: #008080; font-weight: bold\">0x00000157FF646320</span><span style=\"font-weight: bold\">&gt;</span>: Failed to    <span style=\"color: #7f7f7f; text-decoration-color: #7f7f7f\">                     </span>\n",
       "<span style=\"color: #7fbfbf; text-decoration-color: #7fbfbf\">                    </span>         establish a new connection: <span style=\"font-weight: bold\">[</span>WinError <span style=\"color: #008080; text-decoration-color: #008080; font-weight: bold\">10051</span><span style=\"font-weight: bold\">]</span> A socket operation  <span style=\"color: #7f7f7f; text-decoration-color: #7f7f7f\">                     </span>\n",
       "<span style=\"color: #7fbfbf; text-decoration-color: #7fbfbf\">                    </span>         was attempted to an unreachable network'<span style=\"font-weight: bold\">)</span>':                      <span style=\"color: #7f7f7f; text-decoration-color: #7f7f7f\">                     </span>\n",
       "<span style=\"color: #7fbfbf; text-decoration-color: #7fbfbf\">                    </span>         <span style=\"color: #800080; text-decoration-color: #800080\">/metadata/identity/oauth2/</span><span style=\"color: #ff00ff; text-decoration-color: #ff00ff\">token</span>?api-<span style=\"color: #808000; text-decoration-color: #808000\">version</span>=<span style=\"color: #008080; text-decoration-color: #008080; font-weight: bold\">2018</span>-<span style=\"color: #008080; text-decoration-color: #008080; font-weight: bold\">02</span>-<span style=\"color: #008080; text-decoration-color: #008080; font-weight: bold\">01</span>&amp;<span style=\"color: #808000; text-decoration-color: #808000\">resource</span>= <span style=\"color: #7f7f7f; text-decoration-color: #7f7f7f\">                     </span>\n",
       "<span style=\"color: #7fbfbf; text-decoration-color: #7fbfbf\">                    </span>         <span style=\"color: #0000ff; text-decoration-color: #0000ff; text-decoration: underline\">https://management.azure.com</span>                                     <span style=\"color: #7f7f7f; text-decoration-color: #7f7f7f\">                     </span>\n",
       "</pre>\n"
      ],
      "text/plain": [
       "\u001b[2;36m                   \u001b[0m\u001b[2;36m \u001b[0m\u001b[33mWARNING \u001b[0m Retrying \u001b[1m(\u001b[0m\u001b[1;35mRetry\u001b[0m\u001b[1m(\u001b[0m\u001b[33mtotal\u001b[0m=\u001b[1;36m0\u001b[0m, \u001b[33mconnect\u001b[0m=\u001b[3;35mNone\u001b[0m, \u001b[33mread\u001b[0m=\u001b[3;35mNone\u001b[0m, \u001b[33mredirect\u001b[0m=\u001b[3;35mNone\u001b[0m, \u001b]8;id=599154;file://c:\\Users\\IEZEROUAL\\AppData\\Local\\miniconda3\\envs\\kedro_snowpark\\lib\\site-packages\\snowflake\\connector\\vendored\\urllib3\\connectionpool.py\u001b\\\u001b[2mconnectionpool.py\u001b[0m\u001b]8;;\u001b\\\u001b[2m:\u001b[0m\u001b]8;id=281787;file://c:\\Users\\IEZEROUAL\\AppData\\Local\\miniconda3\\envs\\kedro_snowpark\\lib\\site-packages\\snowflake\\connector\\vendored\\urllib3\\connectionpool.py#824\u001b\\\u001b[2m824\u001b[0m\u001b]8;;\u001b\\\n",
       "\u001b[2;36m                    \u001b[0m         \u001b[33mstatus\u001b[0m=\u001b[3;35mNone\u001b[0m\u001b[1m)\u001b[0m\u001b[1m)\u001b[0m after connection broken by                         \u001b[2m                     \u001b[0m\n",
       "\u001b[2;36m                    \u001b[0m         \u001b[32m'NewConnectionError\u001b[0m\u001b[32m(\u001b[0m\u001b[32m'\u001b[0m\u001b[1m<\u001b[0m\u001b[1;95msnowflake.connector.vendored.urllib3.conne\u001b[0m \u001b[2m                     \u001b[0m\n",
       "\u001b[2;36m                    \u001b[0m         \u001b[1;95mction.HTTPConnection\u001b[0m\u001b[39m object at \u001b[0m\u001b[1;36m0x00000157FF646320\u001b[0m\u001b[1m>\u001b[0m: Failed to    \u001b[2m                     \u001b[0m\n",
       "\u001b[2;36m                    \u001b[0m         establish a new connection: \u001b[1m[\u001b[0mWinError \u001b[1;36m10051\u001b[0m\u001b[1m]\u001b[0m A socket operation  \u001b[2m                     \u001b[0m\n",
       "\u001b[2;36m                    \u001b[0m         was attempted to an unreachable network'\u001b[1m)\u001b[0m':                      \u001b[2m                     \u001b[0m\n",
       "\u001b[2;36m                    \u001b[0m         \u001b[35m/metadata/identity/oauth2/\u001b[0m\u001b[95mtoken\u001b[0m?api-\u001b[33mversion\u001b[0m=\u001b[1;36m2018\u001b[0m-\u001b[1;36m02\u001b[0m-\u001b[1;36m01\u001b[0m&\u001b[33mresource\u001b[0m= \u001b[2m                     \u001b[0m\n",
       "\u001b[2;36m                    \u001b[0m         \u001b[4;94mhttps\u001b[0m\u001b[4;94m://management.azure.com\u001b[0m                                     \u001b[2m                     \u001b[0m\n"
      ]
     },
     "metadata": {},
     "output_type": "display_data"
    },
    {
     "data": {
      "text/html": [
       "<pre style=\"white-space:pre;overflow-x:auto;line-height:normal;font-family:Menlo,'DejaVu Sans Mono',consolas,'Courier New',monospace\"><span style=\"color: #7fbfbf; text-decoration-color: #7fbfbf\">                    </span><span style=\"color: #808000; text-decoration-color: #808000\">WARNING </span> Retrying <span style=\"font-weight: bold\">(</span><span style=\"color: #800080; text-decoration-color: #800080; font-weight: bold\">Retry</span><span style=\"font-weight: bold\">(</span><span style=\"color: #808000; text-decoration-color: #808000\">total</span>=<span style=\"color: #008080; text-decoration-color: #008080; font-weight: bold\">0</span>, <span style=\"color: #808000; text-decoration-color: #808000\">connect</span>=<span style=\"color: #800080; text-decoration-color: #800080; font-style: italic\">None</span>, <span style=\"color: #808000; text-decoration-color: #808000\">read</span>=<span style=\"color: #800080; text-decoration-color: #800080; font-style: italic\">None</span>, <span style=\"color: #808000; text-decoration-color: #808000\">redirect</span>=<span style=\"color: #800080; text-decoration-color: #800080; font-style: italic\">None</span>, <a href=\"file://c:\\Users\\IEZEROUAL\\AppData\\Local\\miniconda3\\envs\\kedro_snowpark\\lib\\site-packages\\snowflake\\connector\\vendored\\urllib3\\connectionpool.py\" target=\"_blank\"><span style=\"color: #7f7f7f; text-decoration-color: #7f7f7f\">connectionpool.py</span></a><span style=\"color: #7f7f7f; text-decoration-color: #7f7f7f\">:</span><a href=\"file://c:\\Users\\IEZEROUAL\\AppData\\Local\\miniconda3\\envs\\kedro_snowpark\\lib\\site-packages\\snowflake\\connector\\vendored\\urllib3\\connectionpool.py#824\" target=\"_blank\"><span style=\"color: #7f7f7f; text-decoration-color: #7f7f7f\">824</span></a>\n",
       "<span style=\"color: #7fbfbf; text-decoration-color: #7fbfbf\">                    </span>         <span style=\"color: #808000; text-decoration-color: #808000\">status</span>=<span style=\"color: #800080; text-decoration-color: #800080; font-style: italic\">None</span><span style=\"font-weight: bold\">))</span> after connection broken by                         <span style=\"color: #7f7f7f; text-decoration-color: #7f7f7f\">                     </span>\n",
       "<span style=\"color: #7fbfbf; text-decoration-color: #7fbfbf\">                    </span>         <span style=\"color: #008000; text-decoration-color: #008000\">'NewConnectionError('</span><span style=\"font-weight: bold\">&lt;</span><span style=\"color: #ff00ff; text-decoration-color: #ff00ff; font-weight: bold\">snowflake.connector.vendored.urllib3.conne</span> <span style=\"color: #7f7f7f; text-decoration-color: #7f7f7f\">                     </span>\n",
       "<span style=\"color: #7fbfbf; text-decoration-color: #7fbfbf\">                    </span>         <span style=\"color: #ff00ff; text-decoration-color: #ff00ff; font-weight: bold\">ction.HTTPConnection</span><span style=\"color: #000000; text-decoration-color: #000000\"> object at </span><span style=\"color: #008080; text-decoration-color: #008080; font-weight: bold\">0x00000157FF6473A0</span><span style=\"font-weight: bold\">&gt;</span>: Failed to    <span style=\"color: #7f7f7f; text-decoration-color: #7f7f7f\">                     </span>\n",
       "<span style=\"color: #7fbfbf; text-decoration-color: #7fbfbf\">                    </span>         establish a new connection: <span style=\"font-weight: bold\">[</span>Errno <span style=\"color: #008080; text-decoration-color: #008080; font-weight: bold\">11001</span><span style=\"font-weight: bold\">]</span> getaddrinfo failed'<span style=\"font-weight: bold\">)</span>': <span style=\"color: #7f7f7f; text-decoration-color: #7f7f7f\">                     </span>\n",
       "<span style=\"color: #7fbfbf; text-decoration-color: #7fbfbf\">                    </span>         <span style=\"color: #800080; text-decoration-color: #800080\">/computeMetadata/v1/instance/service-accounts/default/</span><span style=\"color: #ff00ff; text-decoration-color: #ff00ff\">email</span>      <span style=\"color: #7f7f7f; text-decoration-color: #7f7f7f\">                     </span>\n",
       "</pre>\n"
      ],
      "text/plain": [
       "\u001b[2;36m                   \u001b[0m\u001b[2;36m \u001b[0m\u001b[33mWARNING \u001b[0m Retrying \u001b[1m(\u001b[0m\u001b[1;35mRetry\u001b[0m\u001b[1m(\u001b[0m\u001b[33mtotal\u001b[0m=\u001b[1;36m0\u001b[0m, \u001b[33mconnect\u001b[0m=\u001b[3;35mNone\u001b[0m, \u001b[33mread\u001b[0m=\u001b[3;35mNone\u001b[0m, \u001b[33mredirect\u001b[0m=\u001b[3;35mNone\u001b[0m, \u001b]8;id=346675;file://c:\\Users\\IEZEROUAL\\AppData\\Local\\miniconda3\\envs\\kedro_snowpark\\lib\\site-packages\\snowflake\\connector\\vendored\\urllib3\\connectionpool.py\u001b\\\u001b[2mconnectionpool.py\u001b[0m\u001b]8;;\u001b\\\u001b[2m:\u001b[0m\u001b]8;id=655225;file://c:\\Users\\IEZEROUAL\\AppData\\Local\\miniconda3\\envs\\kedro_snowpark\\lib\\site-packages\\snowflake\\connector\\vendored\\urllib3\\connectionpool.py#824\u001b\\\u001b[2m824\u001b[0m\u001b]8;;\u001b\\\n",
       "\u001b[2;36m                    \u001b[0m         \u001b[33mstatus\u001b[0m=\u001b[3;35mNone\u001b[0m\u001b[1m)\u001b[0m\u001b[1m)\u001b[0m after connection broken by                         \u001b[2m                     \u001b[0m\n",
       "\u001b[2;36m                    \u001b[0m         \u001b[32m'NewConnectionError\u001b[0m\u001b[32m(\u001b[0m\u001b[32m'\u001b[0m\u001b[1m<\u001b[0m\u001b[1;95msnowflake.connector.vendored.urllib3.conne\u001b[0m \u001b[2m                     \u001b[0m\n",
       "\u001b[2;36m                    \u001b[0m         \u001b[1;95mction.HTTPConnection\u001b[0m\u001b[39m object at \u001b[0m\u001b[1;36m0x00000157FF6473A0\u001b[0m\u001b[1m>\u001b[0m: Failed to    \u001b[2m                     \u001b[0m\n",
       "\u001b[2;36m                    \u001b[0m         establish a new connection: \u001b[1m[\u001b[0mErrno \u001b[1;36m11001\u001b[0m\u001b[1m]\u001b[0m getaddrinfo failed'\u001b[1m)\u001b[0m': \u001b[2m                     \u001b[0m\n",
       "\u001b[2;36m                    \u001b[0m         \u001b[35m/computeMetadata/v1/instance/service-accounts/default/\u001b[0m\u001b[95memail\u001b[0m      \u001b[2m                     \u001b[0m\n"
      ]
     },
     "metadata": {},
     "output_type": "display_data"
    },
    {
     "data": {
      "text/html": [
       "<pre style=\"white-space:pre;overflow-x:auto;line-height:normal;font-family:Menlo,'DejaVu Sans Mono',consolas,'Courier New',monospace\"><span style=\"color: #7fbfbf; text-decoration-color: #7fbfbf\">                    </span><span style=\"color: #808000; text-decoration-color: #808000\">WARNING </span> Retrying <span style=\"font-weight: bold\">(</span><span style=\"color: #800080; text-decoration-color: #800080; font-weight: bold\">Retry</span><span style=\"font-weight: bold\">(</span><span style=\"color: #808000; text-decoration-color: #808000\">total</span>=<span style=\"color: #008080; text-decoration-color: #008080; font-weight: bold\">0</span>, <span style=\"color: #808000; text-decoration-color: #808000\">connect</span>=<span style=\"color: #800080; text-decoration-color: #800080; font-style: italic\">None</span>, <span style=\"color: #808000; text-decoration-color: #808000\">read</span>=<span style=\"color: #800080; text-decoration-color: #800080; font-style: italic\">None</span>, <span style=\"color: #808000; text-decoration-color: #808000\">redirect</span>=<span style=\"color: #800080; text-decoration-color: #800080; font-style: italic\">None</span>, <a href=\"file://c:\\Users\\IEZEROUAL\\AppData\\Local\\miniconda3\\envs\\kedro_snowpark\\lib\\site-packages\\snowflake\\connector\\vendored\\urllib3\\connectionpool.py\" target=\"_blank\"><span style=\"color: #7f7f7f; text-decoration-color: #7f7f7f\">connectionpool.py</span></a><span style=\"color: #7f7f7f; text-decoration-color: #7f7f7f\">:</span><a href=\"file://c:\\Users\\IEZEROUAL\\AppData\\Local\\miniconda3\\envs\\kedro_snowpark\\lib\\site-packages\\snowflake\\connector\\vendored\\urllib3\\connectionpool.py#824\" target=\"_blank\"><span style=\"color: #7f7f7f; text-decoration-color: #7f7f7f\">824</span></a>\n",
       "<span style=\"color: #7fbfbf; text-decoration-color: #7fbfbf\">                    </span>         <span style=\"color: #808000; text-decoration-color: #808000\">status</span>=<span style=\"color: #800080; text-decoration-color: #800080; font-style: italic\">None</span><span style=\"font-weight: bold\">))</span> after connection broken by                         <span style=\"color: #7f7f7f; text-decoration-color: #7f7f7f\">                     </span>\n",
       "<span style=\"color: #7fbfbf; text-decoration-color: #7fbfbf\">                    </span>         <span style=\"color: #008000; text-decoration-color: #008000\">'NewConnectionError('</span><span style=\"font-weight: bold\">&lt;</span><span style=\"color: #ff00ff; text-decoration-color: #ff00ff; font-weight: bold\">snowflake.connector.vendored.urllib3.conne</span> <span style=\"color: #7f7f7f; text-decoration-color: #7f7f7f\">                     </span>\n",
       "<span style=\"color: #7fbfbf; text-decoration-color: #7fbfbf\">                    </span>         <span style=\"color: #ff00ff; text-decoration-color: #ff00ff; font-weight: bold\">ction.HTTPConnection</span><span style=\"color: #000000; text-decoration-color: #000000\"> object at </span><span style=\"color: #008080; text-decoration-color: #008080; font-weight: bold\">0x00000157FF647040</span><span style=\"font-weight: bold\">&gt;</span>: Failed to    <span style=\"color: #7f7f7f; text-decoration-color: #7f7f7f\">                     </span>\n",
       "<span style=\"color: #7fbfbf; text-decoration-color: #7fbfbf\">                    </span>         establish a new connection: <span style=\"font-weight: bold\">[</span>Errno <span style=\"color: #008080; text-decoration-color: #008080; font-weight: bold\">11001</span><span style=\"font-weight: bold\">]</span> getaddrinfo failed'<span style=\"font-weight: bold\">)</span>': <span style=\"color: #7f7f7f; text-decoration-color: #7f7f7f\">                     </span>\n",
       "<span style=\"color: #7fbfbf; text-decoration-color: #7fbfbf\">                    </span>         <span style=\"color: #800080; text-decoration-color: #800080\">/</span>                                                                <span style=\"color: #7f7f7f; text-decoration-color: #7f7f7f\">                     </span>\n",
       "</pre>\n"
      ],
      "text/plain": [
       "\u001b[2;36m                   \u001b[0m\u001b[2;36m \u001b[0m\u001b[33mWARNING \u001b[0m Retrying \u001b[1m(\u001b[0m\u001b[1;35mRetry\u001b[0m\u001b[1m(\u001b[0m\u001b[33mtotal\u001b[0m=\u001b[1;36m0\u001b[0m, \u001b[33mconnect\u001b[0m=\u001b[3;35mNone\u001b[0m, \u001b[33mread\u001b[0m=\u001b[3;35mNone\u001b[0m, \u001b[33mredirect\u001b[0m=\u001b[3;35mNone\u001b[0m, \u001b]8;id=493678;file://c:\\Users\\IEZEROUAL\\AppData\\Local\\miniconda3\\envs\\kedro_snowpark\\lib\\site-packages\\snowflake\\connector\\vendored\\urllib3\\connectionpool.py\u001b\\\u001b[2mconnectionpool.py\u001b[0m\u001b]8;;\u001b\\\u001b[2m:\u001b[0m\u001b]8;id=944455;file://c:\\Users\\IEZEROUAL\\AppData\\Local\\miniconda3\\envs\\kedro_snowpark\\lib\\site-packages\\snowflake\\connector\\vendored\\urllib3\\connectionpool.py#824\u001b\\\u001b[2m824\u001b[0m\u001b]8;;\u001b\\\n",
       "\u001b[2;36m                    \u001b[0m         \u001b[33mstatus\u001b[0m=\u001b[3;35mNone\u001b[0m\u001b[1m)\u001b[0m\u001b[1m)\u001b[0m after connection broken by                         \u001b[2m                     \u001b[0m\n",
       "\u001b[2;36m                    \u001b[0m         \u001b[32m'NewConnectionError\u001b[0m\u001b[32m(\u001b[0m\u001b[32m'\u001b[0m\u001b[1m<\u001b[0m\u001b[1;95msnowflake.connector.vendored.urllib3.conne\u001b[0m \u001b[2m                     \u001b[0m\n",
       "\u001b[2;36m                    \u001b[0m         \u001b[1;95mction.HTTPConnection\u001b[0m\u001b[39m object at \u001b[0m\u001b[1;36m0x00000157FF647040\u001b[0m\u001b[1m>\u001b[0m: Failed to    \u001b[2m                     \u001b[0m\n",
       "\u001b[2;36m                    \u001b[0m         establish a new connection: \u001b[1m[\u001b[0mErrno \u001b[1;36m11001\u001b[0m\u001b[1m]\u001b[0m getaddrinfo failed'\u001b[1m)\u001b[0m': \u001b[2m                     \u001b[0m\n",
       "\u001b[2;36m                    \u001b[0m         \u001b[35m/\u001b[0m                                                                \u001b[2m                     \u001b[0m\n"
      ]
     },
     "metadata": {},
     "output_type": "display_data"
    },
    {
     "name": "stdout",
     "output_type": "stream",
     "text": [
      "-------------------------------------------------------------------------------------------------------------------------------------------------------------------------------------\n",
      "|\"EVENT_TIME\"         |\"EVENT_TYPE\"  |\"PRODUCT_ID\"  |\"CATEGORY_ID\"        |\"CATEGORY_CODE\"                   |\"BRAND\"  |\"PRICE\"  |\"USER_ID\"  |\"USER_SESSION\"                        |\n",
      "-------------------------------------------------------------------------------------------------------------------------------------------------------------------------------------\n",
      "|2020-02-01 04:08:59  |view          |100062484     |2232732093077520756  |construction.tools.light          |huawei   |294.56   |586016000  |b5566077-451c-48d4-9e09-ee0a89645391  |\n",
      "|2020-02-01 04:08:59  |view          |5100845       |2232732103101907535  |electronics.clocks                |pebble   |154.61   |608856226  |cd1c7d14-d448-4c1a-ad7f-3affd6e0dbb3  |\n",
      "|2020-02-01 04:09:00  |cart          |2701387       |2232732091718566220  |appliances.kitchen.refrigerators  |NULL     |245.05   |560014703  |606efd16-cfac-40b0-a582-fe1dbc458e2f  |\n",
      "|2020-02-01 04:09:00  |view          |4804055       |2232732079706079299  |sport.bicycle                     |apple    |188.56   |535864695  |7ee1610f-b35d-44bf-af79-27ada52f002e  |\n",
      "|2020-02-01 04:09:00  |view          |1005101       |2232732093077520756  |construction.tools.light          |xiaomi   |407.27   |561948802  |940e70cb-b1f8-410e-b5ed-560afbd2c854  |\n",
      "|2020-02-01 04:09:00  |view          |100055454     |2053013563835941749  |appliances.kitchen.refrigerators  |pulser   |350.05   |565080412  |e26ab179-da53-4bf6-aa25-9ed60bca86ee  |\n",
      "|2020-02-01 04:09:01  |view          |3701084       |2232732101063475749  |appliances.environment.vacuum     |xiaomi   |434.99   |513168459  |cef3ce93-60b9-41ab-832c-67d4739b4945  |\n",
      "|2020-02-01 04:09:01  |view          |100086362     |2053013553375346967  |computers.notebook                |lenovo   |1984.72  |519458297  |b9c1b3f3-577b-47e5-89d4-bc2b6d5a08e5  |\n",
      "|2020-02-01 04:09:01  |view          |21402161      |2232732082063278200  |electronics.clocks                |casio    |114.03   |608856401  |967cf860-b1a9-4fde-8e8e-7bb6d0e57c17  |\n",
      "|2020-02-01 04:09:02  |view          |1005115       |2232732093077520756  |construction.tools.light          |apple    |806.61   |513729735  |e948aa49-3d76-4cf9-b6be-886e526a4c9f  |\n",
      "-------------------------------------------------------------------------------------------------------------------------------------------------------------------------------------\n",
      "\n"
     ]
    }
   ],
   "source": [
    "catalog.load(\"events\").show() "
   ]
  },
  {
   "cell_type": "code",
   "execution_count": 3,
   "id": "30e7d08b",
   "metadata": {},
   "outputs": [
    {
     "data": {
      "text/html": [
       "<pre style=\"white-space:pre;overflow-x:auto;line-height:normal;font-family:Menlo,'DejaVu Sans Mono',consolas,'Courier New',monospace\"><span style=\"color: #7fbfbf; text-decoration-color: #7fbfbf\">[08/17/25 00:11:29] </span><span style=\"color: #000080; text-decoration-color: #000080\">INFO    </span> Loading data from <span style=\"color: #ff8700; text-decoration-color: #ff8700\">events</span> <span style=\"font-weight: bold\">(</span>SnowparkTableDataset<span style=\"font-weight: bold\">)</span><span style=\"color: #808000; text-decoration-color: #808000\">...</span>                <a href=\"file://c:\\Users\\IEZEROUAL\\AppData\\Local\\miniconda3\\envs\\kedro_snowpark\\lib\\site-packages\\kedro\\io\\data_catalog.py\" target=\"_blank\"><span style=\"color: #7f7f7f; text-decoration-color: #7f7f7f\">data_catalog.py</span></a><span style=\"color: #7f7f7f; text-decoration-color: #7f7f7f\">:</span><a href=\"file://c:\\Users\\IEZEROUAL\\AppData\\Local\\miniconda3\\envs\\kedro_snowpark\\lib\\site-packages\\kedro\\io\\data_catalog.py#1046\" target=\"_blank\"><span style=\"color: #7f7f7f; text-decoration-color: #7f7f7f\">1046</span></a>\n",
       "</pre>\n"
      ],
      "text/plain": [
       "\u001b[2;36m[08/17/25 00:11:29]\u001b[0m\u001b[2;36m \u001b[0m\u001b[34mINFO    \u001b[0m Loading data from \u001b[38;5;208mevents\u001b[0m \u001b[1m(\u001b[0mSnowparkTableDataset\u001b[1m)\u001b[0m\u001b[33m...\u001b[0m                \u001b]8;id=870756;file://c:\\Users\\IEZEROUAL\\AppData\\Local\\miniconda3\\envs\\kedro_snowpark\\lib\\site-packages\\kedro\\io\\data_catalog.py\u001b\\\u001b[2mdata_catalog.py\u001b[0m\u001b]8;;\u001b\\\u001b[2m:\u001b[0m\u001b]8;id=695176;file://c:\\Users\\IEZEROUAL\\AppData\\Local\\miniconda3\\envs\\kedro_snowpark\\lib\\site-packages\\kedro\\io\\data_catalog.py#1046\u001b\\\u001b[2m1046\u001b[0m\u001b]8;;\u001b\\\n"
      ]
     },
     "metadata": {},
     "output_type": "display_data"
    },
    {
     "name": "stdout",
     "output_type": "stream",
     "text": [
      "-------------------------------------------------------------------------------------------------------------------------------------------------------------------------------------\n",
      "|\"EVENT_TIME\"         |\"EVENT_TYPE\"  |\"PRODUCT_ID\"  |\"CATEGORY_ID\"        |\"CATEGORY_CODE\"                   |\"BRAND\"  |\"PRICE\"  |\"USER_ID\"  |\"USER_SESSION\"                        |\n",
      "-------------------------------------------------------------------------------------------------------------------------------------------------------------------------------------\n",
      "|2020-02-01 04:08:59  |view          |100062484     |2232732093077520756  |construction.tools.light          |huawei   |294.56   |586016000  |b5566077-451c-48d4-9e09-ee0a89645391  |\n",
      "|2020-02-01 04:08:59  |view          |5100845       |2232732103101907535  |electronics.clocks                |pebble   |154.61   |608856226  |cd1c7d14-d448-4c1a-ad7f-3affd6e0dbb3  |\n",
      "|2020-02-01 04:09:00  |cart          |2701387       |2232732091718566220  |appliances.kitchen.refrigerators  |NULL     |245.05   |560014703  |606efd16-cfac-40b0-a582-fe1dbc458e2f  |\n",
      "|2020-02-01 04:09:00  |view          |4804055       |2232732079706079299  |sport.bicycle                     |apple    |188.56   |535864695  |7ee1610f-b35d-44bf-af79-27ada52f002e  |\n",
      "|2020-02-01 04:09:00  |view          |1005101       |2232732093077520756  |construction.tools.light          |xiaomi   |407.27   |561948802  |940e70cb-b1f8-410e-b5ed-560afbd2c854  |\n",
      "-------------------------------------------------------------------------------------------------------------------------------------------------------------------------------------\n",
      "\n"
     ]
    }
   ],
   "source": [
    "user_events = catalog.load(\"events\")  # Snowpark DataFrame\n",
    "user_events.show(5)\n"
   ]
  },
  {
   "cell_type": "code",
   "execution_count": 4,
   "id": "92b29cb0",
   "metadata": {},
   "outputs": [],
   "source": [
    "from snowflake.snowpark import functions as F\n",
    "from snowflake.snowpark.window import Window\n",
    "# Colonnes à remplir si manquantes avec une valeur par défaut\n",
    "COLUMNS_TO_FILL_NA = {\n",
    "    \"price\": 0.0,\n",
    "    \"product_id\": \"unknown\",\n",
    "    \"event_type\": \"unknown\"\n",
    "}\n",
    "\n",
    "# Colonnes de type date/heure\n",
    "DATETIME_COLUMNS = [\"EVENT_TIME\"]\n",
    "\n",
    "# Colonnes numériques\n",
    "NUMERIC_COLUMNS = [\"price\"]\n",
    "\n",
    "# Types d'événements valides\n",
    "VALID_EVENT_TYPES = [\"purchase\", \"cart\", \"view\"]\n",
    "\n",
    "# Seuils de prix valides\n",
    "PRICE_MIN_THRESHOLD = 0.01\n",
    "PRICE_MAX_THRESHOLD = 10000.0\n"
   ]
  },
  {
   "cell_type": "code",
   "execution_count": 5,
   "id": "d8370241",
   "metadata": {},
   "outputs": [
    {
     "name": "stdout",
     "output_type": "stream",
     "text": [
      "-------------------------------------------------------------------------------------------------------------------------------------------------------------------------------------\n",
      "|\"EVENT_TIME\"         |\"EVENT_TYPE\"  |\"PRODUCT_ID\"  |\"CATEGORY_ID\"        |\"CATEGORY_CODE\"                   |\"BRAND\"  |\"PRICE\"  |\"USER_ID\"  |\"USER_SESSION\"                        |\n",
      "-------------------------------------------------------------------------------------------------------------------------------------------------------------------------------------\n",
      "|2020-02-01 04:08:59  |view          |100062484     |2232732093077520756  |construction.tools.light          |huawei   |294.56   |586016000  |b5566077-451c-48d4-9e09-ee0a89645391  |\n",
      "|2020-02-01 04:08:59  |view          |5100845       |2232732103101907535  |electronics.clocks                |pebble   |154.61   |608856226  |cd1c7d14-d448-4c1a-ad7f-3affd6e0dbb3  |\n",
      "|2020-02-01 04:09:00  |cart          |2701387       |2232732091718566220  |appliances.kitchen.refrigerators  |NULL     |245.05   |560014703  |606efd16-cfac-40b0-a582-fe1dbc458e2f  |\n",
      "|2020-02-01 04:09:00  |view          |4804055       |2232732079706079299  |sport.bicycle                     |apple    |188.56   |535864695  |7ee1610f-b35d-44bf-af79-27ada52f002e  |\n",
      "|2020-02-01 04:09:00  |view          |1005101       |2232732093077520756  |construction.tools.light          |xiaomi   |407.27   |561948802  |940e70cb-b1f8-410e-b5ed-560afbd2c854  |\n",
      "-------------------------------------------------------------------------------------------------------------------------------------------------------------------------------------\n",
      "\n"
     ]
    }
   ],
   "source": [
    "events_cleaned = user_events.filter(F.col(\"user_id\").is_not_null())\n",
    "events_cleaned.show(5)\n"
   ]
  },
  {
   "cell_type": "code",
   "execution_count": 6,
   "id": "673148f5",
   "metadata": {},
   "outputs": [
    {
     "name": "stdout",
     "output_type": "stream",
     "text": [
      "-------------------------------------------------------------------------------------------------------------------------------------------------------------------------------------\n",
      "|\"EVENT_TIME\"         |\"CATEGORY_ID\"        |\"CATEGORY_CODE\"                   |\"BRAND\"  |\"USER_ID\"  |\"USER_SESSION\"                        |\"PRICE\"  |\"PRODUCT_ID\"  |\"EVENT_TYPE\"  |\n",
      "-------------------------------------------------------------------------------------------------------------------------------------------------------------------------------------\n",
      "|2020-02-01 04:08:59  |2232732093077520756  |construction.tools.light          |huawei   |586016000  |b5566077-451c-48d4-9e09-ee0a89645391  |294.56   |100062484     |view          |\n",
      "|2020-02-01 04:08:59  |2232732103101907535  |electronics.clocks                |pebble   |608856226  |cd1c7d14-d448-4c1a-ad7f-3affd6e0dbb3  |154.61   |5100845       |view          |\n",
      "|2020-02-01 04:09:00  |2232732091718566220  |appliances.kitchen.refrigerators  |NULL     |560014703  |606efd16-cfac-40b0-a582-fe1dbc458e2f  |245.05   |2701387       |cart          |\n",
      "|2020-02-01 04:09:00  |2232732079706079299  |sport.bicycle                     |apple    |535864695  |7ee1610f-b35d-44bf-af79-27ada52f002e  |188.56   |4804055       |view          |\n",
      "|2020-02-01 04:09:00  |2232732093077520756  |construction.tools.light          |xiaomi   |561948802  |940e70cb-b1f8-410e-b5ed-560afbd2c854  |407.27   |1005101       |view          |\n",
      "-------------------------------------------------------------------------------------------------------------------------------------------------------------------------------------\n",
      "\n"
     ]
    }
   ],
   "source": [
    "for col, default in COLUMNS_TO_FILL_NA.items():\n",
    "    events_cleaned = events_cleaned.with_column(col, F.coalesce(F.col(col), F.lit(default)))\n",
    "\n",
    "events_cleaned.show(5)\n"
   ]
  },
  {
   "cell_type": "code",
   "execution_count": 7,
   "id": "fb682ae6",
   "metadata": {},
   "outputs": [
    {
     "name": "stdout",
     "output_type": "stream",
     "text": [
      "----------------\n",
      "|\"EVENT_TIME\"  |\n",
      "----------------\n",
      "|2020-02-01    |\n",
      "|2020-02-01    |\n",
      "|2020-02-01    |\n",
      "|2020-02-01    |\n",
      "|2020-02-01    |\n",
      "----------------\n",
      "\n"
     ]
    }
   ],
   "source": [
    "for col in DATETIME_COLUMNS:\n",
    "    events_cleaned = events_cleaned.with_column(col, F.to_date(F.col(col)))\n",
    "\n",
    "events_cleaned.select(\"EVENT_TIME\").show(5)\n"
   ]
  },
  {
   "cell_type": "code",
   "execution_count": 8,
   "id": "e8bf18c5",
   "metadata": {},
   "outputs": [
    {
     "name": "stdout",
     "output_type": "stream",
     "text": [
      "-----------\n",
      "|\"PRICE\"  |\n",
      "-----------\n",
      "|294.56   |\n",
      "|154.61   |\n",
      "|245.05   |\n",
      "|188.56   |\n",
      "|407.27   |\n",
      "-----------\n",
      "\n"
     ]
    }
   ],
   "source": [
    "for col in NUMERIC_COLUMNS:\n",
    "    events_cleaned = events_cleaned.with_column(col, F.col(col).cast(\"float\"))\n",
    "\n",
    "events_cleaned.select(\"price\").show(5)\n"
   ]
  },
  {
   "cell_type": "code",
   "execution_count": 9,
   "id": "ba30cd37",
   "metadata": {},
   "outputs": [
    {
     "name": "stdout",
     "output_type": "stream",
     "text": [
      "--------------------------------------------------------------------------------------------------------------------------------------------------------------------------------\n",
      "|\"CATEGORY_ID\"        |\"CATEGORY_CODE\"                   |\"BRAND\"    |\"USER_ID\"  |\"USER_SESSION\"                        |\"PRODUCT_ID\"  |\"EVENT_TYPE\"  |\"EVENT_TIME\"  |\"PRICE\"  |\n",
      "--------------------------------------------------------------------------------------------------------------------------------------------------------------------------------\n",
      "|2232732091718566220  |appliances.kitchen.refrigerators  |samsung    |557271602  |8a21826d-0c2d-4f2a-8fe5-58daeaca93c8  |2701403       |view          |2020-02-01    |476.18   |\n",
      "|2053013554658804075  |electronics.audio.headphone       |asus       |516039487  |ee372335-115d-3d85-d74f-11804e5de80c  |100018517     |view          |2020-02-01    |306.29   |\n",
      "|2232732104888681081  |apparel.scarf                     |silverlit  |608857360  |caf2030a-6789-45a2-be3b-9fac80a048e3  |10300499      |view          |2020-02-01    |9.01     |\n",
      "|2232732103831716449  |apparel.shoes                     |xiaomi     |604167960  |b328272f-28e6-47c0-9f31-dbf69c34a5ad  |5100816       |cart          |2020-02-01    |26.72    |\n",
      "|2232732108613223108  |sport.trainer                     |bosch      |523440569  |908db5b4-f140-4c38-8259-2d4fcf984a44  |100063510     |view          |2020-02-01    |176.38   |\n",
      "--------------------------------------------------------------------------------------------------------------------------------------------------------------------------------\n",
      "\n"
     ]
    }
   ],
   "source": [
    "events_cleaned = events_cleaned.filter(F.col(\"event_type\").isin(VALID_EVENT_TYPES))\n",
    "events_cleaned.show(5)\n"
   ]
  },
  {
   "cell_type": "code",
   "execution_count": 10,
   "id": "60f5f238",
   "metadata": {},
   "outputs": [
    {
     "name": "stdout",
     "output_type": "stream",
     "text": [
      "------------------------------------------------------------------------------------------------------------------------------------------------------------------------------\n",
      "|\"CATEGORY_ID\"        |\"CATEGORY_CODE\"                   |\"BRAND\"  |\"USER_ID\"  |\"USER_SESSION\"                        |\"PRODUCT_ID\"  |\"EVENT_TYPE\"  |\"EVENT_TIME\"  |\"PRICE\"  |\n",
      "------------------------------------------------------------------------------------------------------------------------------------------------------------------------------\n",
      "|2232732098446229999  |apparel.shoes.sandals             |montale  |564552365  |7b687411-5195-4697-b19f-e3aa88ec0c40  |17300550      |view          |2020-01-08    |100.39   |\n",
      "|2232732093077520756  |construction.tools.light          |realme   |577602682  |64cbfa28-d370-48a0-bdaf-98cb5cb7e084  |100056977     |view          |2020-02-06    |514.56   |\n",
      "|2053013558349791811  |NULL                              |sv       |563044656  |079604a4-1741-4974-8d48-95ee9345a571  |17100025      |view          |2019-11-06    |48.14    |\n",
      "|2053013554155487563  |computers.components.motherboard  |defacto  |619211848  |dc1bbee2-b2f1-45c1-af43-aaa9e936d3ba  |100089455     |view          |2020-02-28    |12.84    |\n",
      "|2062461754293617058  |NULL                              |cantra   |565887409  |3964da10-2553-4b4f-949b-d998c39f3007  |34800216      |view          |2019-11-14    |45.04    |\n",
      "------------------------------------------------------------------------------------------------------------------------------------------------------------------------------\n",
      "\n"
     ]
    }
   ],
   "source": [
    "window_spec = Window.partition_by(\"user_id\", \"EVENT_TIME\", \"event_type\", \"product_id\") \\\n",
    "                    .order_by(F.col(\"EVENT_TIME\"))\n",
    "\n",
    "events_cleaned = events_cleaned.with_column(\"row_num\", F.row_number().over(window_spec))\n",
    "events_cleaned = events_cleaned.filter(F.col(\"row_num\") == 1).drop(\"row_num\")\n",
    "events_cleaned.show(5)\n"
   ]
  },
  {
   "cell_type": "code",
   "execution_count": 11,
   "id": "26dcaf33",
   "metadata": {},
   "outputs": [
    {
     "name": "stdout",
     "output_type": "stream",
     "text": [
      "-------------------------------------------------------------------------------------------------------------------------------------------------------------------------------\n",
      "|\"CATEGORY_ID\"        |\"CATEGORY_CODE\"                    |\"BRAND\"  |\"USER_ID\"  |\"USER_SESSION\"                        |\"PRODUCT_ID\"  |\"EVENT_TYPE\"  |\"EVENT_TIME\"  |\"PRICE\"  |\n",
      "-------------------------------------------------------------------------------------------------------------------------------------------------------------------------------\n",
      "|2053013554725912943  |appliances.kitchen.coffee_grinder  |NULL     |513996875  |ebc7b081-6964-436d-9a54-848b320c3cf4  |100187447     |view          |2020-04-13    |172.21   |\n",
      "|2053013556311359947  |construction.tools.drill           |p.i.t.   |571493051  |e02304e3-a549-45e6-bd5e-3ded7754eacf  |12301251      |view          |2019-11-16    |71.22    |\n",
      "|2053013553325015316  |appliances.kitchen.toster          |giant    |636649862  |046af708-2cd0-47a2-97e8-658fbdc91352  |100165985     |view          |2020-04-04    |360.11   |\n",
      "|2053013555631882655  |electronics.smartphone             |apple    |530852163  |05c0f6fe-f173-4118-86bf-ede12c40f77f  |1002535       |view          |2019-10-02    |864.63   |\n",
      "|2232732086433743059  |NULL                               |NULL     |626899418  |80f7740f-3aed-4a87-9023-35a2218e9839  |27800054      |view          |2020-03-11    |119.69   |\n",
      "-------------------------------------------------------------------------------------------------------------------------------------------------------------------------------\n",
      "\n"
     ]
    }
   ],
   "source": [
    "events_cleaned = events_cleaned.filter(\n",
    "    (F.col(\"price\") >= PRICE_MIN_THRESHOLD) &\n",
    "    (F.col(\"price\") <= PRICE_MAX_THRESHOLD)\n",
    ")\n",
    "events_cleaned.show(5)"
   ]
  },
  {
   "cell_type": "code",
   "execution_count": 12,
   "id": "58013434",
   "metadata": {},
   "outputs": [
    {
     "name": "stdout",
     "output_type": "stream",
     "text": [
      "--------------------------------------------\n",
      "|\"PURCHASE\"  |\"VIEW\"  |\"CART\"  |\"USER_ID\"  |\n",
      "--------------------------------------------\n",
      "|4           |158     |19      |557198171  |\n",
      "|7           |361     |9       |512862339  |\n",
      "|23          |138     |29      |566231045  |\n",
      "|58          |284     |47      |553233462  |\n",
      "|1           |132     |4       |535779763  |\n",
      "--------------------------------------------\n",
      "\n"
     ]
    }
   ],
   "source": [
    "from snowflake.snowpark import functions as F\n",
    "\n",
    "event_counts = events_cleaned.group_by(\"USER_ID\").agg(\n",
    "    F.sum(F.when(F.col(\"EVENT_TYPE\") == \"purchase\", 1).otherwise(0)).alias(\"purchase\"),\n",
    "    F.sum(F.when(F.col(\"EVENT_TYPE\") == \"view\", 1).otherwise(0)).alias(\"view\"),\n",
    "    F.sum(F.when(F.col(\"EVENT_TYPE\") == \"cart\", 1).otherwise(0)).alias(\"cart\")\n",
    ")\n",
    "\n",
    "# Remplacer les null par 0\n",
    "event_counts = event_counts.with_column(\n",
    "    \"USER_ID\",\n",
    "    F.coalesce(F.col(\"USER_ID\"), F.lit(\"0\")) \n",
    ")\n",
    "\n",
    "event_counts.show(5)\n"
   ]
  },
  {
   "cell_type": "code",
   "execution_count": 13,
   "id": "d2fcdc4e",
   "metadata": {},
   "outputs": [
    {
     "name": "stdout",
     "output_type": "stream",
     "text": [
      "----------------------------------------------------\n",
      "|\"USER_ID\"  |\"TOTAL_SPENT\"  |\"AVG_PURCHASE_PRICE\"  |\n",
      "----------------------------------------------------\n",
      "|544706310  |2960.56        |328.9511111111111     |\n",
      "|517455503  |386.07         |386.07                |\n",
      "|595559422  |1097.87        |548.935               |\n",
      "|563220744  |4966.28        |993.256               |\n",
      "|538500178  |586.34         |195.4466666666667     |\n",
      "----------------------------------------------------\n",
      "\n"
     ]
    }
   ],
   "source": [
    "purchase_data = events_cleaned.filter(F.col(\"EVENT_TYPE\") == \"purchase\")\n",
    "\n",
    "spent_avg = purchase_data.group_by(\"USER_ID\").agg(\n",
    "    F.sum(\"PRICE\").alias(\"total_spent\"),\n",
    "    F.avg(\"PRICE\").alias(\"avg_purchase_price\")\n",
    ")\n",
    "spent_avg.show(5)\n"
   ]
  },
  {
   "cell_type": "code",
   "execution_count": 14,
   "id": "21d55ad3",
   "metadata": {},
   "outputs": [
    {
     "name": "stdout",
     "output_type": "stream",
     "text": [
      "-----------------------------------\n",
      "|\"USER_ID\"  |\"UNIQUE_CATEGORIES\"  |\n",
      "-----------------------------------\n",
      "|524126833  |95                   |\n",
      "|512493561  |47                   |\n",
      "|618674364  |135                  |\n",
      "|545002658  |13                   |\n",
      "|539868668  |78                   |\n",
      "-----------------------------------\n",
      "\n",
      "-------------------------------\n",
      "|\"USER_ID\"  |\"UNIQUE_BRANDS\"  |\n",
      "-------------------------------\n",
      "|516088824  |25               |\n",
      "|551794249  |61               |\n",
      "|571736708  |133              |\n",
      "|519130165  |47               |\n",
      "|513359919  |52               |\n",
      "-------------------------------\n",
      "\n"
     ]
    }
   ],
   "source": [
    "# Catégories uniques\n",
    "n_cat = events_cleaned.group_by(\"USER_ID\").agg(F.count_distinct(\"CATEGORY_ID\").alias(\"unique_categories\"))\n",
    "\n",
    "# Marques uniques\n",
    "n_brands = events_cleaned.group_by(\"USER_ID\").agg(F.count_distinct(\"BRAND\").alias(\"unique_brands\"))\n",
    "\n",
    "n_cat.show(5)\n",
    "n_brands.show(5)\n"
   ]
  },
  {
   "cell_type": "code",
   "execution_count": 15,
   "id": "340be881",
   "metadata": {},
   "outputs": [
    {
     "name": "stdout",
     "output_type": "stream",
     "text": [
      "------------------------------------------\n",
      "|\"USER_ID\"  |\"CART\"  |\"CONVERSION_RATE\"  |\n",
      "------------------------------------------\n",
      "|513175765  |9       |0.003899           |\n",
      "|519119169  |2       |0.000000           |\n",
      "|523251329  |70      |0.092593           |\n",
      "|542896175  |10      |0.019685           |\n",
      "|515304417  |19      |0.045045           |\n",
      "------------------------------------------\n",
      "\n"
     ]
    }
   ],
   "source": [
    "from snowflake.snowpark import functions as F\n",
    "\n",
    "# Assurer que les colonnes existent et remplacer les null par 0\n",
    "event_counts = event_counts.with_column(\"purchase\", F.coalesce(F.col(\"purchase\"), F.lit(0)))\n",
    "event_counts = event_counts.with_column(\"view\", F.coalesce(F.col(\"view\"), F.lit(0)))\n",
    "event_counts = event_counts.with_column(\"cart\", F.coalesce(F.col(\"cart\"), F.lit(0)))\n",
    "\n",
    "# Calcul du taux de conversion\n",
    "conv = event_counts.with_column(\n",
    "    \"conversion_rate\",\n",
    "    F.when(F.col(\"view\") == 0, 0).otherwise(F.col(\"purchase\") / F.col(\"view\"))\n",
    ").select(\"USER_ID\", \"cart\", \"conversion_rate\")\n",
    "\n",
    "conv.show(5)\n"
   ]
  },
  {
   "cell_type": "code",
   "execution_count": 16,
   "id": "b071fae0",
   "metadata": {},
   "outputs": [
    {
     "name": "stdout",
     "output_type": "stream",
     "text": [
      "----------------------------------------------------------------------------------------------------------------------------------------------------------------------\n",
      "|\"USER_ID\"  |\"PURCHASE\"  |\"VIEW\"  |\"l_0006_CART\"  |\"TOTAL_SPENT\"  |\"AVG_PURCHASE_PRICE\"  |\"UNIQUE_CATEGORIES\"  |\"UNIQUE_BRANDS\"  |\"r_0007_CART\"  |\"CONVERSION_RATE\"  |\n",
      "----------------------------------------------------------------------------------------------------------------------------------------------------------------------\n",
      "|514447048  |2           |35      |4              |356.93         |178.465               |12                   |10               |4              |0.057143           |\n",
      "|530657850  |0           |72      |0              |0.0            |0.0                   |31                   |19               |0              |0.000000           |\n",
      "|551993974  |0           |37      |1              |0.0            |0.0                   |10                   |16               |1              |0.000000           |\n",
      "|527782822  |0           |45      |7              |0.0            |0.0                   |11                   |8                |7              |0.000000           |\n",
      "|517470405  |0           |27      |0              |0.0            |0.0                   |5                    |9                |0              |0.000000           |\n",
      "----------------------------------------------------------------------------------------------------------------------------------------------------------------------\n",
      "\n"
     ]
    }
   ],
   "source": [
    "features = event_counts.join(spent_avg, on=\"USER_ID\", how=\"left\") \\\n",
    "                       .join(n_cat, on=\"USER_ID\", how=\"left\") \\\n",
    "                       .join(n_brands, on=\"USER_ID\", how=\"left\") \\\n",
    "                       .join(conv, on=\"USER_ID\", how=\"left\")\n",
    "\n",
    "# Remplacer les valeurs null par 0\n",
    "for col in features.columns:\n",
    "    if col != \"USER_ID\":\n",
    "        features = features.with_column(col, F.coalesce(F.col(col), F.lit(0)))\n",
    "\n",
    "features.show(5)\n"
   ]
  },
  {
   "cell_type": "code",
   "execution_count": 17,
   "id": "b8e35cd3",
   "metadata": {},
   "outputs": [
    {
     "name": "stdout",
     "output_type": "stream",
     "text": [
      "----------------------------------------------------------------------------------------------------------------------------------------------------------------------\n",
      "|\"USER_ID\"  |\"PURCHASE\"  |\"VIEW\"  |\"l_0006_CART\"  |\"TOTAL_SPENT\"  |\"AVG_PURCHASE_PRICE\"  |\"UNIQUE_CATEGORIES\"  |\"UNIQUE_BRANDS\"  |\"r_0007_CART\"  |\"CONVERSION_RATE\"  |\n",
      "----------------------------------------------------------------------------------------------------------------------------------------------------------------------\n",
      "|520949815  |2           |39      |4              |824.48         |412.24                |4                    |8                |4              |0.051282           |\n",
      "|575113654  |0           |2       |0              |0.0            |0.0                   |1                    |1                |0              |0.000000           |\n",
      "|519165646  |1           |16      |0              |5.1            |5.1                   |8                    |7                |0              |0.062500           |\n",
      "|602660239  |1           |12      |2              |25.48          |25.48                 |6                    |7                |2              |0.083333           |\n",
      "|585960323  |1           |13      |2              |12.67          |12.67                 |6                    |7                |2              |0.076923           |\n",
      "----------------------------------------------------------------------------------------------------------------------------------------------------------------------\n",
      "\n"
     ]
    }
   ],
   "source": [
    "MIN_USER_ACTIVITY = 2  # par exemple\n",
    "MIN_EVENTS_THRESHOLD = 1  # par exemple\n",
    "\n",
    "# Somme de toutes les colonnes sauf USER_ID\n",
    "total_activity = sum([F.col(c) for c in features.columns if c != \"USER_ID\"])\n",
    "\n",
    "features = features.filter(total_activity >= MIN_USER_ACTIVITY)\n",
    "features.show(5)\n"
   ]
  }
 ],
 "metadata": {
  "kernelspec": {
   "display_name": "kedro_snowpark",
   "language": "python",
   "name": "python3"
  },
  "language_info": {
   "codemirror_mode": {
    "name": "ipython",
    "version": 3
   },
   "file_extension": ".py",
   "mimetype": "text/x-python",
   "name": "python",
   "nbconvert_exporter": "python",
   "pygments_lexer": "ipython3",
   "version": "3.10.18"
  }
 },
 "nbformat": 4,
 "nbformat_minor": 5
}
