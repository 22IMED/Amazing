{
 "cells": [
  {
   "cell_type": "code",
   "execution_count": 4,
   "id": "93a33ad2",
   "metadata": {},
   "outputs": [
    {
     "data": {
      "text/html": [
       "<pre style=\"white-space:pre;overflow-x:auto;line-height:normal;font-family:Menlo,'DejaVu Sans Mono',consolas,'Courier New',monospace\"><span style=\"color: #7fbfbf; text-decoration-color: #7fbfbf\">[08/17/25 20:32:20] </span><span style=\"color: #000080; text-decoration-color: #000080\">INFO    </span> Using                                                                  <a href=\"file://c:\\Users\\IEZEROUAL\\AppData\\Local\\miniconda3\\envs\\kedro_snowpark\\lib\\site-packages\\kedro\\framework\\project\\__init__.py\" target=\"_blank\"><span style=\"color: #7f7f7f; text-decoration-color: #7f7f7f\">__init__.py</span></a><span style=\"color: #7f7f7f; text-decoration-color: #7f7f7f\">:</span><a href=\"file://c:\\Users\\IEZEROUAL\\AppData\\Local\\miniconda3\\envs\\kedro_snowpark\\lib\\site-packages\\kedro\\framework\\project\\__init__.py#270\" target=\"_blank\"><span style=\"color: #7f7f7f; text-decoration-color: #7f7f7f\">270</span></a>\n",
       "<span style=\"color: #7fbfbf; text-decoration-color: #7fbfbf\">                    </span>         <span style=\"color: #008000; text-decoration-color: #008000\">'c:\\Users\\IEZEROUAL\\AppData\\Local\\miniconda3\\envs\\kedro_snowpark\\lib\\s</span> <span style=\"color: #7f7f7f; text-decoration-color: #7f7f7f\">               </span>\n",
       "<span style=\"color: #7fbfbf; text-decoration-color: #7fbfbf\">                    </span>         <span style=\"color: #008000; text-decoration-color: #008000\">ite-packages\\kedro\\framework\\project\\rich_logging.yml'</span> as logging      <span style=\"color: #7f7f7f; text-decoration-color: #7f7f7f\">               </span>\n",
       "<span style=\"color: #7fbfbf; text-decoration-color: #7fbfbf\">                    </span>         configuration.                                                         <span style=\"color: #7f7f7f; text-decoration-color: #7f7f7f\">               </span>\n",
       "</pre>\n"
      ],
      "text/plain": [
       "\u001b[2;36m[08/17/25 20:32:20]\u001b[0m\u001b[2;36m \u001b[0m\u001b[34mINFO    \u001b[0m Using                                                                  \u001b]8;id=697439;file://c:\\Users\\IEZEROUAL\\AppData\\Local\\miniconda3\\envs\\kedro_snowpark\\lib\\site-packages\\kedro\\framework\\project\\__init__.py\u001b\\\u001b[2m__init__.py\u001b[0m\u001b]8;;\u001b\\\u001b[2m:\u001b[0m\u001b]8;id=94168;file://c:\\Users\\IEZEROUAL\\AppData\\Local\\miniconda3\\envs\\kedro_snowpark\\lib\\site-packages\\kedro\\framework\\project\\__init__.py#270\u001b\\\u001b[2m270\u001b[0m\u001b]8;;\u001b\\\n",
       "\u001b[2;36m                    \u001b[0m         \u001b[32m'c:\\Users\\IEZEROUAL\\AppData\\Local\\miniconda3\\envs\\kedro_snowpark\\lib\\s\u001b[0m \u001b[2m               \u001b[0m\n",
       "\u001b[2;36m                    \u001b[0m         \u001b[32mite-packages\\kedro\\framework\\project\\rich_logging.yml'\u001b[0m as logging      \u001b[2m               \u001b[0m\n",
       "\u001b[2;36m                    \u001b[0m         configuration.                                                         \u001b[2m               \u001b[0m\n"
      ]
     },
     "metadata": {},
     "output_type": "display_data"
    },
    {
     "data": {
      "text/html": [
       "<pre style=\"white-space:pre;overflow-x:auto;line-height:normal;font-family:Menlo,'DejaVu Sans Mono',consolas,'Courier New',monospace\"><span style=\"color: #7fbfbf; text-decoration-color: #7fbfbf\">                    </span><span style=\"color: #000080; text-decoration-color: #000080\">INFO    </span> Registered line magic <span style=\"color: #008000; text-decoration-color: #008000\">'%reload_kedro'</span>                                   <a href=\"file://c:\\Users\\IEZEROUAL\\AppData\\Local\\miniconda3\\envs\\kedro_snowpark\\lib\\site-packages\\kedro\\ipython\\__init__.py\" target=\"_blank\"><span style=\"color: #7f7f7f; text-decoration-color: #7f7f7f\">__init__.py</span></a><span style=\"color: #7f7f7f; text-decoration-color: #7f7f7f\">:</span><a href=\"file://c:\\Users\\IEZEROUAL\\AppData\\Local\\miniconda3\\envs\\kedro_snowpark\\lib\\site-packages\\kedro\\ipython\\__init__.py#63\" target=\"_blank\"><span style=\"color: #7f7f7f; text-decoration-color: #7f7f7f\">63</span></a>\n",
       "</pre>\n"
      ],
      "text/plain": [
       "\u001b[2;36m                   \u001b[0m\u001b[2;36m \u001b[0m\u001b[34mINFO    \u001b[0m Registered line magic \u001b[32m'%reload_kedro'\u001b[0m                                   \u001b]8;id=60399;file://c:\\Users\\IEZEROUAL\\AppData\\Local\\miniconda3\\envs\\kedro_snowpark\\lib\\site-packages\\kedro\\ipython\\__init__.py\u001b\\\u001b[2m__init__.py\u001b[0m\u001b]8;;\u001b\\\u001b[2m:\u001b[0m\u001b]8;id=245464;file://c:\\Users\\IEZEROUAL\\AppData\\Local\\miniconda3\\envs\\kedro_snowpark\\lib\\site-packages\\kedro\\ipython\\__init__.py#63\u001b\\\u001b[2m63\u001b[0m\u001b]8;;\u001b\\\n"
      ]
     },
     "metadata": {},
     "output_type": "display_data"
    },
    {
     "data": {
      "text/html": [
       "<pre style=\"white-space:pre;overflow-x:auto;line-height:normal;font-family:Menlo,'DejaVu Sans Mono',consolas,'Courier New',monospace\"><span style=\"color: #7fbfbf; text-decoration-color: #7fbfbf\">                    </span><span style=\"color: #000080; text-decoration-color: #000080\">INFO    </span> Registered line magic <span style=\"color: #008000; text-decoration-color: #008000\">'%load_node'</span>                                      <a href=\"file://c:\\Users\\IEZEROUAL\\AppData\\Local\\miniconda3\\envs\\kedro_snowpark\\lib\\site-packages\\kedro\\ipython\\__init__.py\" target=\"_blank\"><span style=\"color: #7f7f7f; text-decoration-color: #7f7f7f\">__init__.py</span></a><span style=\"color: #7f7f7f; text-decoration-color: #7f7f7f\">:</span><a href=\"file://c:\\Users\\IEZEROUAL\\AppData\\Local\\miniconda3\\envs\\kedro_snowpark\\lib\\site-packages\\kedro\\ipython\\__init__.py#65\" target=\"_blank\"><span style=\"color: #7f7f7f; text-decoration-color: #7f7f7f\">65</span></a>\n",
       "</pre>\n"
      ],
      "text/plain": [
       "\u001b[2;36m                   \u001b[0m\u001b[2;36m \u001b[0m\u001b[34mINFO    \u001b[0m Registered line magic \u001b[32m'%load_node'\u001b[0m                                      \u001b]8;id=694880;file://c:\\Users\\IEZEROUAL\\AppData\\Local\\miniconda3\\envs\\kedro_snowpark\\lib\\site-packages\\kedro\\ipython\\__init__.py\u001b\\\u001b[2m__init__.py\u001b[0m\u001b]8;;\u001b\\\u001b[2m:\u001b[0m\u001b]8;id=216228;file://c:\\Users\\IEZEROUAL\\AppData\\Local\\miniconda3\\envs\\kedro_snowpark\\lib\\site-packages\\kedro\\ipython\\__init__.py#65\u001b\\\u001b[2m65\u001b[0m\u001b]8;;\u001b\\\n"
      ]
     },
     "metadata": {},
     "output_type": "display_data"
    },
    {
     "data": {
      "text/html": [
       "<pre style=\"white-space:pre;overflow-x:auto;line-height:normal;font-family:Menlo,'DejaVu Sans Mono',consolas,'Courier New',monospace\"><span style=\"color: #7fbfbf; text-decoration-color: #7fbfbf\">                    </span><span style=\"color: #000080; text-decoration-color: #000080\">INFO    </span> Resolved project path as: d:\\Amazing\\kedro\\mspr2.                      <a href=\"file://c:\\Users\\IEZEROUAL\\AppData\\Local\\miniconda3\\envs\\kedro_snowpark\\lib\\site-packages\\kedro\\ipython\\__init__.py\" target=\"_blank\"><span style=\"color: #7f7f7f; text-decoration-color: #7f7f7f\">__init__.py</span></a><span style=\"color: #7f7f7f; text-decoration-color: #7f7f7f\">:</span><a href=\"file://c:\\Users\\IEZEROUAL\\AppData\\Local\\miniconda3\\envs\\kedro_snowpark\\lib\\site-packages\\kedro\\ipython\\__init__.py#180\" target=\"_blank\"><span style=\"color: #7f7f7f; text-decoration-color: #7f7f7f\">180</span></a>\n",
       "<span style=\"color: #7fbfbf; text-decoration-color: #7fbfbf\">                    </span>         To set a different path, run <span style=\"color: #008000; text-decoration-color: #008000\">'%reload_kedro &lt;project_root&gt;'</span>            <span style=\"color: #7f7f7f; text-decoration-color: #7f7f7f\">               </span>\n",
       "</pre>\n"
      ],
      "text/plain": [
       "\u001b[2;36m                   \u001b[0m\u001b[2;36m \u001b[0m\u001b[34mINFO    \u001b[0m Resolved project path as: d:\\Amazing\\kedro\\mspr2.                      \u001b]8;id=402925;file://c:\\Users\\IEZEROUAL\\AppData\\Local\\miniconda3\\envs\\kedro_snowpark\\lib\\site-packages\\kedro\\ipython\\__init__.py\u001b\\\u001b[2m__init__.py\u001b[0m\u001b]8;;\u001b\\\u001b[2m:\u001b[0m\u001b]8;id=632782;file://c:\\Users\\IEZEROUAL\\AppData\\Local\\miniconda3\\envs\\kedro_snowpark\\lib\\site-packages\\kedro\\ipython\\__init__.py#180\u001b\\\u001b[2m180\u001b[0m\u001b]8;;\u001b\\\n",
       "\u001b[2;36m                    \u001b[0m         To set a different path, run \u001b[32m'%reload_kedro \u001b[0m\u001b[32m<\u001b[0m\u001b[32mproject_root\u001b[0m\u001b[32m>\u001b[0m\u001b[32m'\u001b[0m            \u001b[2m               \u001b[0m\n"
      ]
     },
     "metadata": {},
     "output_type": "display_data"
    },
    {
     "data": {
      "text/html": [
       "<pre style=\"white-space:pre;overflow-x:auto;line-height:normal;font-family:Menlo,'DejaVu Sans Mono',consolas,'Courier New',monospace\"><span style=\"color: #7fbfbf; text-decoration-color: #7fbfbf\">[08/17/25 20:32:21] </span><span style=\"color: #000080; text-decoration-color: #000080\">INFO    </span> Kedro is sending anonymous usage data with the sole purpose of improving <a href=\"file://c:\\Users\\IEZEROUAL\\AppData\\Local\\miniconda3\\envs\\kedro_snowpark\\lib\\site-packages\\kedro_telemetry\\plugin.py\" target=\"_blank\"><span style=\"color: #7f7f7f; text-decoration-color: #7f7f7f\">plugin.py</span></a><span style=\"color: #7f7f7f; text-decoration-color: #7f7f7f\">:</span><a href=\"file://c:\\Users\\IEZEROUAL\\AppData\\Local\\miniconda3\\envs\\kedro_snowpark\\lib\\site-packages\\kedro_telemetry\\plugin.py#233\" target=\"_blank\"><span style=\"color: #7f7f7f; text-decoration-color: #7f7f7f\">233</span></a>\n",
       "<span style=\"color: #7fbfbf; text-decoration-color: #7fbfbf\">                    </span>         the product. No personal data or IP addresses are stored on our side. If <span style=\"color: #7f7f7f; text-decoration-color: #7f7f7f\">             </span>\n",
       "<span style=\"color: #7fbfbf; text-decoration-color: #7fbfbf\">                    </span>         you want to opt out, set the `KEDRO_DISABLE_TELEMETRY` or `DO_NOT_TRACK` <span style=\"color: #7f7f7f; text-decoration-color: #7f7f7f\">             </span>\n",
       "<span style=\"color: #7fbfbf; text-decoration-color: #7fbfbf\">                    </span>         environment variables, or create a `.telemetry` file in the current      <span style=\"color: #7f7f7f; text-decoration-color: #7f7f7f\">             </span>\n",
       "<span style=\"color: #7fbfbf; text-decoration-color: #7fbfbf\">                    </span>         working directory with the contents `consent: false`. Read more at       <span style=\"color: #7f7f7f; text-decoration-color: #7f7f7f\">             </span>\n",
       "<span style=\"color: #7fbfbf; text-decoration-color: #7fbfbf\">                    </span>         <span style=\"color: #0000ff; text-decoration-color: #0000ff; text-decoration: underline\">https://docs.kedro.org/en/stable/configuration/telemetry.html</span>            <span style=\"color: #7f7f7f; text-decoration-color: #7f7f7f\">             </span>\n",
       "</pre>\n"
      ],
      "text/plain": [
       "\u001b[2;36m[08/17/25 20:32:21]\u001b[0m\u001b[2;36m \u001b[0m\u001b[34mINFO    \u001b[0m Kedro is sending anonymous usage data with the sole purpose of improving \u001b]8;id=964563;file://c:\\Users\\IEZEROUAL\\AppData\\Local\\miniconda3\\envs\\kedro_snowpark\\lib\\site-packages\\kedro_telemetry\\plugin.py\u001b\\\u001b[2mplugin.py\u001b[0m\u001b]8;;\u001b\\\u001b[2m:\u001b[0m\u001b]8;id=93973;file://c:\\Users\\IEZEROUAL\\AppData\\Local\\miniconda3\\envs\\kedro_snowpark\\lib\\site-packages\\kedro_telemetry\\plugin.py#233\u001b\\\u001b[2m233\u001b[0m\u001b]8;;\u001b\\\n",
       "\u001b[2;36m                    \u001b[0m         the product. No personal data or IP addresses are stored on our side. If \u001b[2m             \u001b[0m\n",
       "\u001b[2;36m                    \u001b[0m         you want to opt out, set the `KEDRO_DISABLE_TELEMETRY` or `DO_NOT_TRACK` \u001b[2m             \u001b[0m\n",
       "\u001b[2;36m                    \u001b[0m         environment variables, or create a `.telemetry` file in the current      \u001b[2m             \u001b[0m\n",
       "\u001b[2;36m                    \u001b[0m         working directory with the contents `consent: false`. Read more at       \u001b[2m             \u001b[0m\n",
       "\u001b[2;36m                    \u001b[0m         \u001b[4;94mhttps://docs.kedro.org/en/stable/configuration/telemetry.html\u001b[0m            \u001b[2m             \u001b[0m\n"
      ]
     },
     "metadata": {},
     "output_type": "display_data"
    },
    {
     "data": {
      "text/html": [
       "<pre style=\"white-space:pre;overflow-x:auto;line-height:normal;font-family:Menlo,'DejaVu Sans Mono',consolas,'Courier New',monospace\"><span style=\"color: #7fbfbf; text-decoration-color: #7fbfbf\">                    </span><span style=\"color: #000080; text-decoration-color: #000080\">INFO    </span> Kedro project mspr2                                                    <a href=\"file://c:\\Users\\IEZEROUAL\\AppData\\Local\\miniconda3\\envs\\kedro_snowpark\\lib\\site-packages\\kedro\\ipython\\__init__.py\" target=\"_blank\"><span style=\"color: #7f7f7f; text-decoration-color: #7f7f7f\">__init__.py</span></a><span style=\"color: #7f7f7f; text-decoration-color: #7f7f7f\">:</span><a href=\"file://c:\\Users\\IEZEROUAL\\AppData\\Local\\miniconda3\\envs\\kedro_snowpark\\lib\\site-packages\\kedro\\ipython\\__init__.py#146\" target=\"_blank\"><span style=\"color: #7f7f7f; text-decoration-color: #7f7f7f\">146</span></a>\n",
       "</pre>\n"
      ],
      "text/plain": [
       "\u001b[2;36m                   \u001b[0m\u001b[2;36m \u001b[0m\u001b[34mINFO    \u001b[0m Kedro project mspr2                                                    \u001b]8;id=408685;file://c:\\Users\\IEZEROUAL\\AppData\\Local\\miniconda3\\envs\\kedro_snowpark\\lib\\site-packages\\kedro\\ipython\\__init__.py\u001b\\\u001b[2m__init__.py\u001b[0m\u001b]8;;\u001b\\\u001b[2m:\u001b[0m\u001b]8;id=726991;file://c:\\Users\\IEZEROUAL\\AppData\\Local\\miniconda3\\envs\\kedro_snowpark\\lib\\site-packages\\kedro\\ipython\\__init__.py#146\u001b\\\u001b[2m146\u001b[0m\u001b]8;;\u001b\\\n"
      ]
     },
     "metadata": {},
     "output_type": "display_data"
    },
    {
     "data": {
      "text/html": [
       "<pre style=\"white-space:pre;overflow-x:auto;line-height:normal;font-family:Menlo,'DejaVu Sans Mono',consolas,'Courier New',monospace\"><span style=\"color: #7fbfbf; text-decoration-color: #7fbfbf\">                    </span><span style=\"color: #000080; text-decoration-color: #000080\">INFO    </span> Defined global variable <span style=\"color: #008000; text-decoration-color: #008000\">'context'</span>, <span style=\"color: #008000; text-decoration-color: #008000\">'session'</span>, <span style=\"color: #008000; text-decoration-color: #008000\">'catalog'</span> and            <a href=\"file://c:\\Users\\IEZEROUAL\\AppData\\Local\\miniconda3\\envs\\kedro_snowpark\\lib\\site-packages\\kedro\\ipython\\__init__.py\" target=\"_blank\"><span style=\"color: #7f7f7f; text-decoration-color: #7f7f7f\">__init__.py</span></a><span style=\"color: #7f7f7f; text-decoration-color: #7f7f7f\">:</span><a href=\"file://c:\\Users\\IEZEROUAL\\AppData\\Local\\miniconda3\\envs\\kedro_snowpark\\lib\\site-packages\\kedro\\ipython\\__init__.py#147\" target=\"_blank\"><span style=\"color: #7f7f7f; text-decoration-color: #7f7f7f\">147</span></a>\n",
       "<span style=\"color: #7fbfbf; text-decoration-color: #7fbfbf\">                    </span>         <span style=\"color: #008000; text-decoration-color: #008000\">'pipelines'</span>                                                            <span style=\"color: #7f7f7f; text-decoration-color: #7f7f7f\">               </span>\n",
       "</pre>\n"
      ],
      "text/plain": [
       "\u001b[2;36m                   \u001b[0m\u001b[2;36m \u001b[0m\u001b[34mINFO    \u001b[0m Defined global variable \u001b[32m'context'\u001b[0m, \u001b[32m'session'\u001b[0m, \u001b[32m'catalog'\u001b[0m and            \u001b]8;id=560802;file://c:\\Users\\IEZEROUAL\\AppData\\Local\\miniconda3\\envs\\kedro_snowpark\\lib\\site-packages\\kedro\\ipython\\__init__.py\u001b\\\u001b[2m__init__.py\u001b[0m\u001b]8;;\u001b\\\u001b[2m:\u001b[0m\u001b]8;id=151396;file://c:\\Users\\IEZEROUAL\\AppData\\Local\\miniconda3\\envs\\kedro_snowpark\\lib\\site-packages\\kedro\\ipython\\__init__.py#147\u001b\\\u001b[2m147\u001b[0m\u001b]8;;\u001b\\\n",
       "\u001b[2;36m                    \u001b[0m         \u001b[32m'pipelines'\u001b[0m                                                            \u001b[2m               \u001b[0m\n"
      ]
     },
     "metadata": {},
     "output_type": "display_data"
    }
   ],
   "source": [
    "%load_ext kedro.ipython"
   ]
  },
  {
   "cell_type": "code",
   "execution_count": 5,
   "id": "de192a86",
   "metadata": {},
   "outputs": [
    {
     "data": {
      "text/html": [
       "<pre style=\"white-space:pre;overflow-x:auto;line-height:normal;font-family:Menlo,'DejaVu Sans Mono',consolas,'Courier New',monospace\"><span style=\"color: #7fbfbf; text-decoration-color: #7fbfbf\">[08/17/25 20:32:24] </span><span style=\"color: #000080; text-decoration-color: #000080\">INFO    </span> Loading data from <span style=\"color: #ff8700; text-decoration-color: #ff8700\">event_metrics</span> <span style=\"font-weight: bold\">(</span>SnowparkTableDataset<span style=\"font-weight: bold\">)</span><span style=\"color: #808000; text-decoration-color: #808000\">...</span>         <a href=\"file://c:\\Users\\IEZEROUAL\\AppData\\Local\\miniconda3\\envs\\kedro_snowpark\\lib\\site-packages\\kedro\\io\\data_catalog.py\" target=\"_blank\"><span style=\"color: #7f7f7f; text-decoration-color: #7f7f7f\">data_catalog.py</span></a><span style=\"color: #7f7f7f; text-decoration-color: #7f7f7f\">:</span><a href=\"file://c:\\Users\\IEZEROUAL\\AppData\\Local\\miniconda3\\envs\\kedro_snowpark\\lib\\site-packages\\kedro\\io\\data_catalog.py#1046\" target=\"_blank\"><span style=\"color: #7f7f7f; text-decoration-color: #7f7f7f\">1046</span></a>\n",
       "</pre>\n"
      ],
      "text/plain": [
       "\u001b[2;36m[08/17/25 20:32:24]\u001b[0m\u001b[2;36m \u001b[0m\u001b[34mINFO    \u001b[0m Loading data from \u001b[38;5;208mevent_metrics\u001b[0m \u001b[1m(\u001b[0mSnowparkTableDataset\u001b[1m)\u001b[0m\u001b[33m...\u001b[0m         \u001b]8;id=452494;file://c:\\Users\\IEZEROUAL\\AppData\\Local\\miniconda3\\envs\\kedro_snowpark\\lib\\site-packages\\kedro\\io\\data_catalog.py\u001b\\\u001b[2mdata_catalog.py\u001b[0m\u001b]8;;\u001b\\\u001b[2m:\u001b[0m\u001b]8;id=960264;file://c:\\Users\\IEZEROUAL\\AppData\\Local\\miniconda3\\envs\\kedro_snowpark\\lib\\site-packages\\kedro\\io\\data_catalog.py#1046\u001b\\\u001b[2m1046\u001b[0m\u001b]8;;\u001b\\\n"
      ]
     },
     "metadata": {},
     "output_type": "display_data"
    },
    {
     "data": {
      "text/html": [
       "<pre style=\"white-space:pre;overflow-x:auto;line-height:normal;font-family:Menlo,'DejaVu Sans Mono',consolas,'Courier New',monospace\"><span style=\"color: #7fbfbf; text-decoration-color: #7fbfbf\">                    </span><span style=\"color: #808000; text-decoration-color: #808000\">WARNING </span> Retrying <span style=\"font-weight: bold\">(</span><span style=\"color: #800080; text-decoration-color: #800080; font-weight: bold\">Retry</span><span style=\"font-weight: bold\">(</span><span style=\"color: #808000; text-decoration-color: #808000\">total</span>=<span style=\"color: #008080; text-decoration-color: #008080; font-weight: bold\">0</span>, <span style=\"color: #808000; text-decoration-color: #808000\">connect</span>=<span style=\"color: #800080; text-decoration-color: #800080; font-style: italic\">None</span>, <span style=\"color: #808000; text-decoration-color: #808000\">read</span>=<span style=\"color: #800080; text-decoration-color: #800080; font-style: italic\">None</span>, <span style=\"color: #808000; text-decoration-color: #808000\">redirect</span>=<span style=\"color: #800080; text-decoration-color: #800080; font-style: italic\">None</span>, <a href=\"file://c:\\Users\\IEZEROUAL\\AppData\\Local\\miniconda3\\envs\\kedro_snowpark\\lib\\site-packages\\snowflake\\connector\\vendored\\urllib3\\connectionpool.py\" target=\"_blank\"><span style=\"color: #7f7f7f; text-decoration-color: #7f7f7f\">connectionpool.py</span></a><span style=\"color: #7f7f7f; text-decoration-color: #7f7f7f\">:</span><a href=\"file://c:\\Users\\IEZEROUAL\\AppData\\Local\\miniconda3\\envs\\kedro_snowpark\\lib\\site-packages\\snowflake\\connector\\vendored\\urllib3\\connectionpool.py#824\" target=\"_blank\"><span style=\"color: #7f7f7f; text-decoration-color: #7f7f7f\">824</span></a>\n",
       "<span style=\"color: #7fbfbf; text-decoration-color: #7fbfbf\">                    </span>         <span style=\"color: #808000; text-decoration-color: #808000\">status</span>=<span style=\"color: #800080; text-decoration-color: #800080; font-style: italic\">None</span><span style=\"font-weight: bold\">))</span> after connection broken by                         <span style=\"color: #7f7f7f; text-decoration-color: #7f7f7f\">                     </span>\n",
       "<span style=\"color: #7fbfbf; text-decoration-color: #7fbfbf\">                    </span>         <span style=\"color: #008000; text-decoration-color: #008000\">'NewConnectionError('</span><span style=\"font-weight: bold\">&lt;</span><span style=\"color: #ff00ff; text-decoration-color: #ff00ff; font-weight: bold\">snowflake.connector.vendored.urllib3.conne</span> <span style=\"color: #7f7f7f; text-decoration-color: #7f7f7f\">                     </span>\n",
       "<span style=\"color: #7fbfbf; text-decoration-color: #7fbfbf\">                    </span>         <span style=\"color: #ff00ff; text-decoration-color: #ff00ff; font-weight: bold\">ction.HTTPConnection</span><span style=\"color: #000000; text-decoration-color: #000000\"> object at </span><span style=\"color: #008080; text-decoration-color: #008080; font-weight: bold\">0x00000241A80732E0</span><span style=\"font-weight: bold\">&gt;</span>: Failed to    <span style=\"color: #7f7f7f; text-decoration-color: #7f7f7f\">                     </span>\n",
       "<span style=\"color: #7fbfbf; text-decoration-color: #7fbfbf\">                    </span>         establish a new connection: <span style=\"font-weight: bold\">[</span>WinError <span style=\"color: #008080; text-decoration-color: #008080; font-weight: bold\">10051</span><span style=\"font-weight: bold\">]</span> A socket operation  <span style=\"color: #7f7f7f; text-decoration-color: #7f7f7f\">                     </span>\n",
       "<span style=\"color: #7fbfbf; text-decoration-color: #7fbfbf\">                    </span>         was attempted to an unreachable network'<span style=\"font-weight: bold\">)</span>':                      <span style=\"color: #7f7f7f; text-decoration-color: #7f7f7f\">                     </span>\n",
       "<span style=\"color: #7fbfbf; text-decoration-color: #7fbfbf\">                    </span>         <span style=\"color: #800080; text-decoration-color: #800080\">/metadata/identity/oauth2/</span><span style=\"color: #ff00ff; text-decoration-color: #ff00ff\">token</span>?api-<span style=\"color: #808000; text-decoration-color: #808000\">version</span>=<span style=\"color: #008080; text-decoration-color: #008080; font-weight: bold\">2018</span>-<span style=\"color: #008080; text-decoration-color: #008080; font-weight: bold\">02</span>-<span style=\"color: #008080; text-decoration-color: #008080; font-weight: bold\">01</span>&amp;<span style=\"color: #808000; text-decoration-color: #808000\">resource</span>= <span style=\"color: #7f7f7f; text-decoration-color: #7f7f7f\">                     </span>\n",
       "<span style=\"color: #7fbfbf; text-decoration-color: #7fbfbf\">                    </span>         <span style=\"color: #0000ff; text-decoration-color: #0000ff; text-decoration: underline\">https://management.azure.com</span>                                     <span style=\"color: #7f7f7f; text-decoration-color: #7f7f7f\">                     </span>\n",
       "</pre>\n"
      ],
      "text/plain": [
       "\u001b[2;36m                   \u001b[0m\u001b[2;36m \u001b[0m\u001b[33mWARNING \u001b[0m Retrying \u001b[1m(\u001b[0m\u001b[1;35mRetry\u001b[0m\u001b[1m(\u001b[0m\u001b[33mtotal\u001b[0m=\u001b[1;36m0\u001b[0m, \u001b[33mconnect\u001b[0m=\u001b[3;35mNone\u001b[0m, \u001b[33mread\u001b[0m=\u001b[3;35mNone\u001b[0m, \u001b[33mredirect\u001b[0m=\u001b[3;35mNone\u001b[0m, \u001b]8;id=537145;file://c:\\Users\\IEZEROUAL\\AppData\\Local\\miniconda3\\envs\\kedro_snowpark\\lib\\site-packages\\snowflake\\connector\\vendored\\urllib3\\connectionpool.py\u001b\\\u001b[2mconnectionpool.py\u001b[0m\u001b]8;;\u001b\\\u001b[2m:\u001b[0m\u001b]8;id=578248;file://c:\\Users\\IEZEROUAL\\AppData\\Local\\miniconda3\\envs\\kedro_snowpark\\lib\\site-packages\\snowflake\\connector\\vendored\\urllib3\\connectionpool.py#824\u001b\\\u001b[2m824\u001b[0m\u001b]8;;\u001b\\\n",
       "\u001b[2;36m                    \u001b[0m         \u001b[33mstatus\u001b[0m=\u001b[3;35mNone\u001b[0m\u001b[1m)\u001b[0m\u001b[1m)\u001b[0m after connection broken by                         \u001b[2m                     \u001b[0m\n",
       "\u001b[2;36m                    \u001b[0m         \u001b[32m'NewConnectionError\u001b[0m\u001b[32m(\u001b[0m\u001b[32m'\u001b[0m\u001b[1m<\u001b[0m\u001b[1;95msnowflake.connector.vendored.urllib3.conne\u001b[0m \u001b[2m                     \u001b[0m\n",
       "\u001b[2;36m                    \u001b[0m         \u001b[1;95mction.HTTPConnection\u001b[0m\u001b[39m object at \u001b[0m\u001b[1;36m0x00000241A80732E0\u001b[0m\u001b[1m>\u001b[0m: Failed to    \u001b[2m                     \u001b[0m\n",
       "\u001b[2;36m                    \u001b[0m         establish a new connection: \u001b[1m[\u001b[0mWinError \u001b[1;36m10051\u001b[0m\u001b[1m]\u001b[0m A socket operation  \u001b[2m                     \u001b[0m\n",
       "\u001b[2;36m                    \u001b[0m         was attempted to an unreachable network'\u001b[1m)\u001b[0m':                      \u001b[2m                     \u001b[0m\n",
       "\u001b[2;36m                    \u001b[0m         \u001b[35m/metadata/identity/oauth2/\u001b[0m\u001b[95mtoken\u001b[0m?api-\u001b[33mversion\u001b[0m=\u001b[1;36m2018\u001b[0m-\u001b[1;36m02\u001b[0m-\u001b[1;36m01\u001b[0m&\u001b[33mresource\u001b[0m= \u001b[2m                     \u001b[0m\n",
       "\u001b[2;36m                    \u001b[0m         \u001b[4;94mhttps\u001b[0m\u001b[4;94m://management.azure.com\u001b[0m                                     \u001b[2m                     \u001b[0m\n"
      ]
     },
     "metadata": {},
     "output_type": "display_data"
    },
    {
     "data": {
      "text/html": [
       "<pre style=\"white-space:pre;overflow-x:auto;line-height:normal;font-family:Menlo,'DejaVu Sans Mono',consolas,'Courier New',monospace\"><span style=\"color: #7fbfbf; text-decoration-color: #7fbfbf\">                    </span><span style=\"color: #808000; text-decoration-color: #808000\">WARNING </span> Retrying <span style=\"font-weight: bold\">(</span><span style=\"color: #800080; text-decoration-color: #800080; font-weight: bold\">Retry</span><span style=\"font-weight: bold\">(</span><span style=\"color: #808000; text-decoration-color: #808000\">total</span>=<span style=\"color: #008080; text-decoration-color: #008080; font-weight: bold\">0</span>, <span style=\"color: #808000; text-decoration-color: #808000\">connect</span>=<span style=\"color: #800080; text-decoration-color: #800080; font-style: italic\">None</span>, <span style=\"color: #808000; text-decoration-color: #808000\">read</span>=<span style=\"color: #800080; text-decoration-color: #800080; font-style: italic\">None</span>, <span style=\"color: #808000; text-decoration-color: #808000\">redirect</span>=<span style=\"color: #800080; text-decoration-color: #800080; font-style: italic\">None</span>, <a href=\"file://c:\\Users\\IEZEROUAL\\AppData\\Local\\miniconda3\\envs\\kedro_snowpark\\lib\\site-packages\\snowflake\\connector\\vendored\\urllib3\\connectionpool.py\" target=\"_blank\"><span style=\"color: #7f7f7f; text-decoration-color: #7f7f7f\">connectionpool.py</span></a><span style=\"color: #7f7f7f; text-decoration-color: #7f7f7f\">:</span><a href=\"file://c:\\Users\\IEZEROUAL\\AppData\\Local\\miniconda3\\envs\\kedro_snowpark\\lib\\site-packages\\snowflake\\connector\\vendored\\urllib3\\connectionpool.py#824\" target=\"_blank\"><span style=\"color: #7f7f7f; text-decoration-color: #7f7f7f\">824</span></a>\n",
       "<span style=\"color: #7fbfbf; text-decoration-color: #7fbfbf\">                    </span>         <span style=\"color: #808000; text-decoration-color: #808000\">status</span>=<span style=\"color: #800080; text-decoration-color: #800080; font-style: italic\">None</span><span style=\"font-weight: bold\">))</span> after connection broken by                         <span style=\"color: #7f7f7f; text-decoration-color: #7f7f7f\">                     </span>\n",
       "<span style=\"color: #7fbfbf; text-decoration-color: #7fbfbf\">                    </span>         <span style=\"color: #008000; text-decoration-color: #008000\">'NewConnectionError('</span><span style=\"font-weight: bold\">&lt;</span><span style=\"color: #ff00ff; text-decoration-color: #ff00ff; font-weight: bold\">snowflake.connector.vendored.urllib3.conne</span> <span style=\"color: #7f7f7f; text-decoration-color: #7f7f7f\">                     </span>\n",
       "<span style=\"color: #7fbfbf; text-decoration-color: #7fbfbf\">                    </span>         <span style=\"color: #ff00ff; text-decoration-color: #ff00ff; font-weight: bold\">ction.HTTPConnection</span><span style=\"color: #000000; text-decoration-color: #000000\"> object at </span><span style=\"color: #008080; text-decoration-color: #008080; font-weight: bold\">0x00000241A8072A70</span><span style=\"font-weight: bold\">&gt;</span>: Failed to    <span style=\"color: #7f7f7f; text-decoration-color: #7f7f7f\">                     </span>\n",
       "<span style=\"color: #7fbfbf; text-decoration-color: #7fbfbf\">                    </span>         establish a new connection: <span style=\"font-weight: bold\">[</span>WinError <span style=\"color: #008080; text-decoration-color: #008080; font-weight: bold\">10051</span><span style=\"font-weight: bold\">]</span> A socket operation  <span style=\"color: #7f7f7f; text-decoration-color: #7f7f7f\">                     </span>\n",
       "<span style=\"color: #7fbfbf; text-decoration-color: #7fbfbf\">                    </span>         was attempted to an unreachable network'<span style=\"font-weight: bold\">)</span>':                      <span style=\"color: #7f7f7f; text-decoration-color: #7f7f7f\">                     </span>\n",
       "<span style=\"color: #7fbfbf; text-decoration-color: #7fbfbf\">                    </span>         <span style=\"color: #800080; text-decoration-color: #800080\">/metadata/</span><span style=\"color: #ff00ff; text-decoration-color: #ff00ff\">instance</span>?api-<span style=\"color: #808000; text-decoration-color: #808000\">version</span>=<span style=\"color: #008080; text-decoration-color: #008080; font-weight: bold\">2021</span>-<span style=\"color: #008080; text-decoration-color: #008080; font-weight: bold\">02</span>-<span style=\"color: #008080; text-decoration-color: #008080; font-weight: bold\">01</span>                        <span style=\"color: #7f7f7f; text-decoration-color: #7f7f7f\">                     </span>\n",
       "</pre>\n"
      ],
      "text/plain": [
       "\u001b[2;36m                   \u001b[0m\u001b[2;36m \u001b[0m\u001b[33mWARNING \u001b[0m Retrying \u001b[1m(\u001b[0m\u001b[1;35mRetry\u001b[0m\u001b[1m(\u001b[0m\u001b[33mtotal\u001b[0m=\u001b[1;36m0\u001b[0m, \u001b[33mconnect\u001b[0m=\u001b[3;35mNone\u001b[0m, \u001b[33mread\u001b[0m=\u001b[3;35mNone\u001b[0m, \u001b[33mredirect\u001b[0m=\u001b[3;35mNone\u001b[0m, \u001b]8;id=176764;file://c:\\Users\\IEZEROUAL\\AppData\\Local\\miniconda3\\envs\\kedro_snowpark\\lib\\site-packages\\snowflake\\connector\\vendored\\urllib3\\connectionpool.py\u001b\\\u001b[2mconnectionpool.py\u001b[0m\u001b]8;;\u001b\\\u001b[2m:\u001b[0m\u001b]8;id=539175;file://c:\\Users\\IEZEROUAL\\AppData\\Local\\miniconda3\\envs\\kedro_snowpark\\lib\\site-packages\\snowflake\\connector\\vendored\\urllib3\\connectionpool.py#824\u001b\\\u001b[2m824\u001b[0m\u001b]8;;\u001b\\\n",
       "\u001b[2;36m                    \u001b[0m         \u001b[33mstatus\u001b[0m=\u001b[3;35mNone\u001b[0m\u001b[1m)\u001b[0m\u001b[1m)\u001b[0m after connection broken by                         \u001b[2m                     \u001b[0m\n",
       "\u001b[2;36m                    \u001b[0m         \u001b[32m'NewConnectionError\u001b[0m\u001b[32m(\u001b[0m\u001b[32m'\u001b[0m\u001b[1m<\u001b[0m\u001b[1;95msnowflake.connector.vendored.urllib3.conne\u001b[0m \u001b[2m                     \u001b[0m\n",
       "\u001b[2;36m                    \u001b[0m         \u001b[1;95mction.HTTPConnection\u001b[0m\u001b[39m object at \u001b[0m\u001b[1;36m0x00000241A8072A70\u001b[0m\u001b[1m>\u001b[0m: Failed to    \u001b[2m                     \u001b[0m\n",
       "\u001b[2;36m                    \u001b[0m         establish a new connection: \u001b[1m[\u001b[0mWinError \u001b[1;36m10051\u001b[0m\u001b[1m]\u001b[0m A socket operation  \u001b[2m                     \u001b[0m\n",
       "\u001b[2;36m                    \u001b[0m         was attempted to an unreachable network'\u001b[1m)\u001b[0m':                      \u001b[2m                     \u001b[0m\n",
       "\u001b[2;36m                    \u001b[0m         \u001b[35m/metadata/\u001b[0m\u001b[95minstance\u001b[0m?api-\u001b[33mversion\u001b[0m=\u001b[1;36m2021\u001b[0m-\u001b[1;36m02\u001b[0m-\u001b[1;36m01\u001b[0m                        \u001b[2m                     \u001b[0m\n"
      ]
     },
     "metadata": {},
     "output_type": "display_data"
    },
    {
     "data": {
      "text/html": [
       "<pre style=\"white-space:pre;overflow-x:auto;line-height:normal;font-family:Menlo,'DejaVu Sans Mono',consolas,'Courier New',monospace\"><span style=\"color: #7fbfbf; text-decoration-color: #7fbfbf\">                    </span><span style=\"color: #808000; text-decoration-color: #808000\">WARNING </span> Retrying <span style=\"font-weight: bold\">(</span><span style=\"color: #800080; text-decoration-color: #800080; font-weight: bold\">Retry</span><span style=\"font-weight: bold\">(</span><span style=\"color: #808000; text-decoration-color: #808000\">total</span>=<span style=\"color: #008080; text-decoration-color: #008080; font-weight: bold\">0</span>, <span style=\"color: #808000; text-decoration-color: #808000\">connect</span>=<span style=\"color: #800080; text-decoration-color: #800080; font-style: italic\">None</span>, <span style=\"color: #808000; text-decoration-color: #808000\">read</span>=<span style=\"color: #800080; text-decoration-color: #800080; font-style: italic\">None</span>, <span style=\"color: #808000; text-decoration-color: #808000\">redirect</span>=<span style=\"color: #800080; text-decoration-color: #800080; font-style: italic\">None</span>, <a href=\"file://c:\\Users\\IEZEROUAL\\AppData\\Local\\miniconda3\\envs\\kedro_snowpark\\lib\\site-packages\\snowflake\\connector\\vendored\\urllib3\\connectionpool.py\" target=\"_blank\"><span style=\"color: #7f7f7f; text-decoration-color: #7f7f7f\">connectionpool.py</span></a><span style=\"color: #7f7f7f; text-decoration-color: #7f7f7f\">:</span><a href=\"file://c:\\Users\\IEZEROUAL\\AppData\\Local\\miniconda3\\envs\\kedro_snowpark\\lib\\site-packages\\snowflake\\connector\\vendored\\urllib3\\connectionpool.py#824\" target=\"_blank\"><span style=\"color: #7f7f7f; text-decoration-color: #7f7f7f\">824</span></a>\n",
       "<span style=\"color: #7fbfbf; text-decoration-color: #7fbfbf\">                    </span>         <span style=\"color: #808000; text-decoration-color: #808000\">status</span>=<span style=\"color: #800080; text-decoration-color: #800080; font-style: italic\">None</span><span style=\"font-weight: bold\">))</span> after connection broken by                         <span style=\"color: #7f7f7f; text-decoration-color: #7f7f7f\">                     </span>\n",
       "<span style=\"color: #7fbfbf; text-decoration-color: #7fbfbf\">                    </span>         <span style=\"color: #008000; text-decoration-color: #008000\">'NewConnectionError('</span><span style=\"font-weight: bold\">&lt;</span><span style=\"color: #ff00ff; text-decoration-color: #ff00ff; font-weight: bold\">snowflake.connector.vendored.urllib3.conne</span> <span style=\"color: #7f7f7f; text-decoration-color: #7f7f7f\">                     </span>\n",
       "<span style=\"color: #7fbfbf; text-decoration-color: #7fbfbf\">                    </span>         <span style=\"color: #ff00ff; text-decoration-color: #ff00ff; font-weight: bold\">ction.HTTPConnection</span><span style=\"color: #000000; text-decoration-color: #000000\"> object at </span><span style=\"color: #008080; text-decoration-color: #008080; font-weight: bold\">0x00000241A80B8CD0</span><span style=\"font-weight: bold\">&gt;</span>: Failed to    <span style=\"color: #7f7f7f; text-decoration-color: #7f7f7f\">                     </span>\n",
       "<span style=\"color: #7fbfbf; text-decoration-color: #7fbfbf\">                    </span>         establish a new connection: <span style=\"font-weight: bold\">[</span>Errno <span style=\"color: #008080; text-decoration-color: #008080; font-weight: bold\">11001</span><span style=\"font-weight: bold\">]</span> getaddrinfo failed'<span style=\"font-weight: bold\">)</span>': <span style=\"color: #7f7f7f; text-decoration-color: #7f7f7f\">                     </span>\n",
       "<span style=\"color: #7fbfbf; text-decoration-color: #7fbfbf\">                    </span>         <span style=\"color: #800080; text-decoration-color: #800080\">/</span>                                                                <span style=\"color: #7f7f7f; text-decoration-color: #7f7f7f\">                     </span>\n",
       "</pre>\n"
      ],
      "text/plain": [
       "\u001b[2;36m                   \u001b[0m\u001b[2;36m \u001b[0m\u001b[33mWARNING \u001b[0m Retrying \u001b[1m(\u001b[0m\u001b[1;35mRetry\u001b[0m\u001b[1m(\u001b[0m\u001b[33mtotal\u001b[0m=\u001b[1;36m0\u001b[0m, \u001b[33mconnect\u001b[0m=\u001b[3;35mNone\u001b[0m, \u001b[33mread\u001b[0m=\u001b[3;35mNone\u001b[0m, \u001b[33mredirect\u001b[0m=\u001b[3;35mNone\u001b[0m, \u001b]8;id=553384;file://c:\\Users\\IEZEROUAL\\AppData\\Local\\miniconda3\\envs\\kedro_snowpark\\lib\\site-packages\\snowflake\\connector\\vendored\\urllib3\\connectionpool.py\u001b\\\u001b[2mconnectionpool.py\u001b[0m\u001b]8;;\u001b\\\u001b[2m:\u001b[0m\u001b]8;id=184651;file://c:\\Users\\IEZEROUAL\\AppData\\Local\\miniconda3\\envs\\kedro_snowpark\\lib\\site-packages\\snowflake\\connector\\vendored\\urllib3\\connectionpool.py#824\u001b\\\u001b[2m824\u001b[0m\u001b]8;;\u001b\\\n",
       "\u001b[2;36m                    \u001b[0m         \u001b[33mstatus\u001b[0m=\u001b[3;35mNone\u001b[0m\u001b[1m)\u001b[0m\u001b[1m)\u001b[0m after connection broken by                         \u001b[2m                     \u001b[0m\n",
       "\u001b[2;36m                    \u001b[0m         \u001b[32m'NewConnectionError\u001b[0m\u001b[32m(\u001b[0m\u001b[32m'\u001b[0m\u001b[1m<\u001b[0m\u001b[1;95msnowflake.connector.vendored.urllib3.conne\u001b[0m \u001b[2m                     \u001b[0m\n",
       "\u001b[2;36m                    \u001b[0m         \u001b[1;95mction.HTTPConnection\u001b[0m\u001b[39m object at \u001b[0m\u001b[1;36m0x00000241A80B8CD0\u001b[0m\u001b[1m>\u001b[0m: Failed to    \u001b[2m                     \u001b[0m\n",
       "\u001b[2;36m                    \u001b[0m         establish a new connection: \u001b[1m[\u001b[0mErrno \u001b[1;36m11001\u001b[0m\u001b[1m]\u001b[0m getaddrinfo failed'\u001b[1m)\u001b[0m': \u001b[2m                     \u001b[0m\n",
       "\u001b[2;36m                    \u001b[0m         \u001b[35m/\u001b[0m                                                                \u001b[2m                     \u001b[0m\n"
      ]
     },
     "metadata": {},
     "output_type": "display_data"
    },
    {
     "data": {
      "text/html": [
       "<pre style=\"white-space:pre;overflow-x:auto;line-height:normal;font-family:Menlo,'DejaVu Sans Mono',consolas,'Courier New',monospace\"><span style=\"color: #7fbfbf; text-decoration-color: #7fbfbf\">                    </span><span style=\"color: #808000; text-decoration-color: #808000\">WARNING </span> Retrying <span style=\"font-weight: bold\">(</span><span style=\"color: #800080; text-decoration-color: #800080; font-weight: bold\">Retry</span><span style=\"font-weight: bold\">(</span><span style=\"color: #808000; text-decoration-color: #808000\">total</span>=<span style=\"color: #008080; text-decoration-color: #008080; font-weight: bold\">0</span>, <span style=\"color: #808000; text-decoration-color: #808000\">connect</span>=<span style=\"color: #800080; text-decoration-color: #800080; font-style: italic\">None</span>, <span style=\"color: #808000; text-decoration-color: #808000\">read</span>=<span style=\"color: #800080; text-decoration-color: #800080; font-style: italic\">None</span>, <span style=\"color: #808000; text-decoration-color: #808000\">redirect</span>=<span style=\"color: #800080; text-decoration-color: #800080; font-style: italic\">None</span>, <a href=\"file://c:\\Users\\IEZEROUAL\\AppData\\Local\\miniconda3\\envs\\kedro_snowpark\\lib\\site-packages\\snowflake\\connector\\vendored\\urllib3\\connectionpool.py\" target=\"_blank\"><span style=\"color: #7f7f7f; text-decoration-color: #7f7f7f\">connectionpool.py</span></a><span style=\"color: #7f7f7f; text-decoration-color: #7f7f7f\">:</span><a href=\"file://c:\\Users\\IEZEROUAL\\AppData\\Local\\miniconda3\\envs\\kedro_snowpark\\lib\\site-packages\\snowflake\\connector\\vendored\\urllib3\\connectionpool.py#824\" target=\"_blank\"><span style=\"color: #7f7f7f; text-decoration-color: #7f7f7f\">824</span></a>\n",
       "<span style=\"color: #7fbfbf; text-decoration-color: #7fbfbf\">                    </span>         <span style=\"color: #808000; text-decoration-color: #808000\">status</span>=<span style=\"color: #800080; text-decoration-color: #800080; font-style: italic\">None</span><span style=\"font-weight: bold\">))</span> after connection broken by                         <span style=\"color: #7f7f7f; text-decoration-color: #7f7f7f\">                     </span>\n",
       "<span style=\"color: #7fbfbf; text-decoration-color: #7fbfbf\">                    </span>         <span style=\"color: #008000; text-decoration-color: #008000\">'NewConnectionError('</span><span style=\"font-weight: bold\">&lt;</span><span style=\"color: #ff00ff; text-decoration-color: #ff00ff; font-weight: bold\">snowflake.connector.vendored.urllib3.conne</span> <span style=\"color: #7f7f7f; text-decoration-color: #7f7f7f\">                     </span>\n",
       "<span style=\"color: #7fbfbf; text-decoration-color: #7fbfbf\">                    </span>         <span style=\"color: #ff00ff; text-decoration-color: #ff00ff; font-weight: bold\">ction.HTTPConnection</span><span style=\"color: #000000; text-decoration-color: #000000\"> object at </span><span style=\"color: #008080; text-decoration-color: #008080; font-weight: bold\">0x00000241A80B86A0</span><span style=\"font-weight: bold\">&gt;</span>: Failed to    <span style=\"color: #7f7f7f; text-decoration-color: #7f7f7f\">                     </span>\n",
       "<span style=\"color: #7fbfbf; text-decoration-color: #7fbfbf\">                    </span>         establish a new connection: <span style=\"font-weight: bold\">[</span>Errno <span style=\"color: #008080; text-decoration-color: #008080; font-weight: bold\">11001</span><span style=\"font-weight: bold\">]</span> getaddrinfo failed'<span style=\"font-weight: bold\">)</span>': <span style=\"color: #7f7f7f; text-decoration-color: #7f7f7f\">                     </span>\n",
       "<span style=\"color: #7fbfbf; text-decoration-color: #7fbfbf\">                    </span>         <span style=\"color: #800080; text-decoration-color: #800080\">/computeMetadata/v1/instance/service-accounts/default/</span><span style=\"color: #ff00ff; text-decoration-color: #ff00ff\">email</span>      <span style=\"color: #7f7f7f; text-decoration-color: #7f7f7f\">                     </span>\n",
       "</pre>\n"
      ],
      "text/plain": [
       "\u001b[2;36m                   \u001b[0m\u001b[2;36m \u001b[0m\u001b[33mWARNING \u001b[0m Retrying \u001b[1m(\u001b[0m\u001b[1;35mRetry\u001b[0m\u001b[1m(\u001b[0m\u001b[33mtotal\u001b[0m=\u001b[1;36m0\u001b[0m, \u001b[33mconnect\u001b[0m=\u001b[3;35mNone\u001b[0m, \u001b[33mread\u001b[0m=\u001b[3;35mNone\u001b[0m, \u001b[33mredirect\u001b[0m=\u001b[3;35mNone\u001b[0m, \u001b]8;id=537377;file://c:\\Users\\IEZEROUAL\\AppData\\Local\\miniconda3\\envs\\kedro_snowpark\\lib\\site-packages\\snowflake\\connector\\vendored\\urllib3\\connectionpool.py\u001b\\\u001b[2mconnectionpool.py\u001b[0m\u001b]8;;\u001b\\\u001b[2m:\u001b[0m\u001b]8;id=389489;file://c:\\Users\\IEZEROUAL\\AppData\\Local\\miniconda3\\envs\\kedro_snowpark\\lib\\site-packages\\snowflake\\connector\\vendored\\urllib3\\connectionpool.py#824\u001b\\\u001b[2m824\u001b[0m\u001b]8;;\u001b\\\n",
       "\u001b[2;36m                    \u001b[0m         \u001b[33mstatus\u001b[0m=\u001b[3;35mNone\u001b[0m\u001b[1m)\u001b[0m\u001b[1m)\u001b[0m after connection broken by                         \u001b[2m                     \u001b[0m\n",
       "\u001b[2;36m                    \u001b[0m         \u001b[32m'NewConnectionError\u001b[0m\u001b[32m(\u001b[0m\u001b[32m'\u001b[0m\u001b[1m<\u001b[0m\u001b[1;95msnowflake.connector.vendored.urllib3.conne\u001b[0m \u001b[2m                     \u001b[0m\n",
       "\u001b[2;36m                    \u001b[0m         \u001b[1;95mction.HTTPConnection\u001b[0m\u001b[39m object at \u001b[0m\u001b[1;36m0x00000241A80B86A0\u001b[0m\u001b[1m>\u001b[0m: Failed to    \u001b[2m                     \u001b[0m\n",
       "\u001b[2;36m                    \u001b[0m         establish a new connection: \u001b[1m[\u001b[0mErrno \u001b[1;36m11001\u001b[0m\u001b[1m]\u001b[0m getaddrinfo failed'\u001b[1m)\u001b[0m': \u001b[2m                     \u001b[0m\n",
       "\u001b[2;36m                    \u001b[0m         \u001b[35m/computeMetadata/v1/instance/service-accounts/default/\u001b[0m\u001b[95memail\u001b[0m      \u001b[2m                     \u001b[0m\n"
      ]
     },
     "metadata": {},
     "output_type": "display_data"
    },
    {
     "name": "stdout",
     "output_type": "stream",
     "text": [
      "----------------------------------------------------------------------------------------------------------------------------------------------------------------------\n",
      "|\"USER_ID\"  |\"PURCHASE\"  |\"VIEW\"  |\"CART\"  |\"LAST_PURCHASE_DATE\"  |\"TOTAL_SPENT\"  |\"AVG_PURCHASE_PRICE\"  |\"UNIQUE_CATEGORIES\"  |\"UNIQUE_BRANDS\"  |\"CONVERSION_RATE\"  |\n",
      "----------------------------------------------------------------------------------------------------------------------------------------------------------------------\n",
      "|595103515  |0           |25      |0       |NULL                  |0.0            |0.0                   |4                    |11               |0.0                |\n",
      "|596592443  |0           |9       |0       |NULL                  |0.0            |0.0                   |4                    |4                |0.0                |\n",
      "|638678080  |0           |9       |0       |NULL                  |0.0            |0.0                   |3                    |4                |0.0                |\n",
      "|610597606  |0           |13      |0       |NULL                  |0.0            |0.0                   |1                    |13               |0.0                |\n",
      "|572231409  |0           |65      |0       |NULL                  |0.0            |0.0                   |12                   |28               |0.0                |\n",
      "|499837245  |0           |36      |0       |NULL                  |0.0            |0.0                   |4                    |17               |0.0                |\n",
      "|596485318  |0           |61      |0       |NULL                  |0.0            |0.0                   |11                   |26               |0.0                |\n",
      "|535772299  |0           |50      |0       |NULL                  |0.0            |0.0                   |15                   |9                |0.0                |\n",
      "|597968503  |3           |8       |3       |2020-03-03            |89.3           |29.766666666666666    |5                    |4                |0.375              |\n",
      "|636153670  |1           |5       |3       |2020-04-03            |763.21         |763.21                |1                    |1                |0.2                |\n",
      "----------------------------------------------------------------------------------------------------------------------------------------------------------------------\n",
      "\n"
     ]
    }
   ],
   "source": [
    "catalog.load(\"event_metrics\").show() "
   ]
  },
  {
   "cell_type": "code",
   "execution_count": 6,
   "id": "f9a397a4",
   "metadata": {},
   "outputs": [
    {
     "data": {
      "text/html": [
       "<pre style=\"white-space:pre;overflow-x:auto;line-height:normal;font-family:Menlo,'DejaVu Sans Mono',consolas,'Courier New',monospace\"><span style=\"color: #7fbfbf; text-decoration-color: #7fbfbf\">[08/17/25 20:32:37] </span><span style=\"color: #000080; text-decoration-color: #000080\">INFO    </span> Loading data from <span style=\"color: #ff8700; text-decoration-color: #ff8700\">event_metrics</span> <span style=\"font-weight: bold\">(</span>SnowparkTableDataset<span style=\"font-weight: bold\">)</span><span style=\"color: #808000; text-decoration-color: #808000\">...</span>         <a href=\"file://c:\\Users\\IEZEROUAL\\AppData\\Local\\miniconda3\\envs\\kedro_snowpark\\lib\\site-packages\\kedro\\io\\data_catalog.py\" target=\"_blank\"><span style=\"color: #7f7f7f; text-decoration-color: #7f7f7f\">data_catalog.py</span></a><span style=\"color: #7f7f7f; text-decoration-color: #7f7f7f\">:</span><a href=\"file://c:\\Users\\IEZEROUAL\\AppData\\Local\\miniconda3\\envs\\kedro_snowpark\\lib\\site-packages\\kedro\\io\\data_catalog.py#1046\" target=\"_blank\"><span style=\"color: #7f7f7f; text-decoration-color: #7f7f7f\">1046</span></a>\n",
       "</pre>\n"
      ],
      "text/plain": [
       "\u001b[2;36m[08/17/25 20:32:37]\u001b[0m\u001b[2;36m \u001b[0m\u001b[34mINFO    \u001b[0m Loading data from \u001b[38;5;208mevent_metrics\u001b[0m \u001b[1m(\u001b[0mSnowparkTableDataset\u001b[1m)\u001b[0m\u001b[33m...\u001b[0m         \u001b]8;id=216048;file://c:\\Users\\IEZEROUAL\\AppData\\Local\\miniconda3\\envs\\kedro_snowpark\\lib\\site-packages\\kedro\\io\\data_catalog.py\u001b\\\u001b[2mdata_catalog.py\u001b[0m\u001b]8;;\u001b\\\u001b[2m:\u001b[0m\u001b]8;id=500948;file://c:\\Users\\IEZEROUAL\\AppData\\Local\\miniconda3\\envs\\kedro_snowpark\\lib\\site-packages\\kedro\\io\\data_catalog.py#1046\u001b\\\u001b[2m1046\u001b[0m\u001b]8;;\u001b\\\n"
      ]
     },
     "metadata": {},
     "output_type": "display_data"
    },
    {
     "name": "stdout",
     "output_type": "stream",
     "text": [
      "----------------------------------------------------------------------------------------------------------------------------------------------------------------------\n",
      "|\"USER_ID\"  |\"PURCHASE\"  |\"VIEW\"  |\"CART\"  |\"LAST_PURCHASE_DATE\"  |\"TOTAL_SPENT\"  |\"AVG_PURCHASE_PRICE\"  |\"UNIQUE_CATEGORIES\"  |\"UNIQUE_BRANDS\"  |\"CONVERSION_RATE\"  |\n",
      "----------------------------------------------------------------------------------------------------------------------------------------------------------------------\n",
      "|595103515  |0           |25      |0       |NULL                  |0.0            |0.0                   |4                    |11               |0.0                |\n",
      "|596592443  |0           |9       |0       |NULL                  |0.0            |0.0                   |4                    |4                |0.0                |\n",
      "|638678080  |0           |9       |0       |NULL                  |0.0            |0.0                   |3                    |4                |0.0                |\n",
      "|610597606  |0           |13      |0       |NULL                  |0.0            |0.0                   |1                    |13               |0.0                |\n",
      "|572231409  |0           |65      |0       |NULL                  |0.0            |0.0                   |12                   |28               |0.0                |\n",
      "----------------------------------------------------------------------------------------------------------------------------------------------------------------------\n",
      "\n"
     ]
    }
   ],
   "source": [
    "user_metrics = catalog.load(\"event_metrics\")\n",
    "user_metrics.show(5)\n"
   ]
  },
  {
   "cell_type": "code",
   "execution_count": 7,
   "id": "8f451c16",
   "metadata": {},
   "outputs": [],
   "source": [
    "from snowflake.snowpark import functions as F\n",
    "\n",
    "max_date = user_metrics.agg(F.max(\"LAST_PURCHASE_DATE\")).collect()[0][0]\n",
    "\n",
    "rfm_df = (\n",
    "    user_metrics\n",
    "    .with_column(\n",
    "        # Remplacer les NULL par une date fictive très ancienne (ou max_date + 1)\n",
    "        \"recency\",\n",
    "        F.datediff(\n",
    "            \"day\",\n",
    "            F.coalesce(F.col(\"LAST_PURCHASE_DATE\"), F.to_date(F.lit(\"1900-01-01\"))),\n",
    "            F.to_date(F.lit(max_date))\n",
    "        )\n",
    "    )\n",
    "    .with_column(\"frequency\", F.col(\"PURCHASE\"))\n",
    "    .with_column(\"monetary\", F.col(\"TOTAL_SPENT\"))\n",
    "    .with_column(\"avg_purchase_price\", F.col(\"AVG_PURCHASE_PRICE\"))\n",
    "    .with_column(\"view\", F.col(\"VIEW\"))\n",
    "    .with_column(\"cart\", F.col(\"CART\"))\n",
    "    .with_column(\"conversion_rate\", F.col(\"CONVERSION_RATE\"))\n",
    "    .with_column(\"unique_brands\", F.col(\"UNIQUE_BRANDS\"))\n",
    "    .with_column(\"unique_categories\", F.col(\"UNIQUE_CATEGORIES\"))\n",
    "    .select(\n",
    "        \"USER_ID\",\n",
    "        \"recency\",\n",
    "        \"frequency\",\n",
    "        \"monetary\",\n",
    "        \"avg_purchase_price\",\n",
    "        \"view\",\n",
    "        \"cart\",\n",
    "        \"conversion_rate\",\n",
    "        \"unique_brands\",\n",
    "        \"unique_categories\"\n",
    "    )\n",
    ")\n"
   ]
  },
  {
   "cell_type": "code",
   "execution_count": 8,
   "id": "2118382b",
   "metadata": {},
   "outputs": [
    {
     "name": "stdout",
     "output_type": "stream",
     "text": [
      "---------------------------------------------------------------------------------------------------------------------------------------------------------\n",
      "|\"USER_ID\"  |\"RECENCY\"  |\"FREQUENCY\"  |\"MONETARY\"  |\"AVG_PURCHASE_PRICE\"  |\"VIEW\"  |\"CART\"  |\"CONVERSION_RATE\"  |\"UNIQUE_BRANDS\"  |\"UNIQUE_CATEGORIES\"  |\n",
      "---------------------------------------------------------------------------------------------------------------------------------------------------------\n",
      "|595103515  |43949      |0            |0.0         |0.0                   |25      |0       |0.0                |11               |4                    |\n",
      "|596592443  |43949      |0            |0.0         |0.0                   |9       |0       |0.0                |4                |4                    |\n",
      "|638678080  |43949      |0            |0.0         |0.0                   |9       |0       |0.0                |4                |3                    |\n",
      "|610597606  |43949      |0            |0.0         |0.0                   |13      |0       |0.0                |13               |1                    |\n",
      "|572231409  |43949      |0            |0.0         |0.0                   |65      |0       |0.0                |28               |12                   |\n",
      "|499837245  |43949      |0            |0.0         |0.0                   |36      |0       |0.0                |17               |4                    |\n",
      "|596485318  |43949      |0            |0.0         |0.0                   |61      |0       |0.0                |26               |11                   |\n",
      "|535772299  |43949      |0            |0.0         |0.0                   |50      |0       |0.0                |9                |15                   |\n",
      "|597968503  |58         |3            |89.3        |29.766666666666666    |8       |3       |0.375              |4                |5                    |\n",
      "|636153670  |27         |1            |763.21      |763.21                |5       |3       |0.2                |1                |1                    |\n",
      "---------------------------------------------------------------------------------------------------------------------------------------------------------\n",
      "\n"
     ]
    }
   ],
   "source": [
    "rfm_df.show()"
   ]
  },
  {
   "cell_type": "code",
   "execution_count": 9,
   "id": "3951c4cf",
   "metadata": {},
   "outputs": [],
   "source": [
    "from snowflake.snowpark import functions as F\n",
    "from snowflake.snowpark import DataFrame as SnowparkDataFrame\n",
    "from sklearn.preprocessing import StandardScaler\n",
    "from sklearn.cluster import KMeans\n",
    "from sklearn.metrics import silhouette_score\n",
    "import matplotlib.pyplot as plt\n",
    "import pandas as pd\n",
    "\n",
    "def kmeans_rfm_evaluation(rfm_df: SnowparkDataFrame, min_k=2, max_k=10):\n",
    "    \"\"\"\n",
    "    Applique KMeans sur la table RFM avancée, calcule silhouette et méthode du coude.\n",
    "    \n",
    "    Args:\n",
    "        rfm_df: Snowpark DataFrame RFM avancée avec toutes les métriques séparées\n",
    "        min_k: nombre minimum de clusters à tester\n",
    "        max_k: nombre maximum de clusters à tester\n",
    "        \n",
    "    Returns:\n",
    "        dict contenant :\n",
    "            - 'inertia': liste des inerties pour chaque k\n",
    "            - 'silhouette': liste des scores silhouette pour chaque k\n",
    "            - 'kmeans_models': dictionnaire {k: modèle KMeans}\n",
    "    \"\"\"\n",
    "    \n",
    "    # 1️⃣ Récupérer les données dans Pandas\n",
    "    df = rfm_df.to_pandas()\n",
    "    \n",
    "    # Sélectionner uniquement les colonnes numériques pour le clustering\n",
    "    features = [\n",
    "        \"recency\", \"frequency\", \"monetary\",\n",
    "        \"avg_purchase_price\", \"view\", \"cart\",\n",
    "        \"conversion_rate\", \"unique_brands\", \"unique_categories\"\n",
    "    ]\n",
    "    X = df[features].fillna(0)\n",
    "    \n",
    "    # 2️⃣ Standardisation\n",
    "    scaler = StandardScaler()\n",
    "    X_scaled = scaler.fit_transform(X)\n",
    "    \n",
    "    # 3️⃣ Tester différents K\n",
    "    inertias = []\n",
    "    silhouettes = []\n",
    "    kmeans_models = {}\n",
    "    \n",
    "    for k in range(min_k, max_k + 1):\n",
    "        kmeans = KMeans(n_clusters=k, random_state=42, n_init=10)\n",
    "        labels = kmeans.fit_predict(X_scaled)\n",
    "        inertia = kmeans.inertia_\n",
    "        inertias.append(inertia)\n",
    "        \n",
    "        # silhouette_score requiert au moins 2 clusters\n",
    "        if k > 1:\n",
    "            sil_score = silhouette_score(X_scaled, labels)\n",
    "        else:\n",
    "            sil_score = None\n",
    "        print(f\"K={k}, Inertia={inertia}, Silhouette Score={sil_score}\")\n",
    "        silhouettes.append(sil_score)\n",
    "        kmeans_models[k] = kmeans\n",
    "    \n",
    "    # 4️⃣ Visualisation : Coude et silhouette\n",
    "    fig, ax1 = plt.subplots(figsize=(10,5))\n",
    "    \n",
    "    color1 = 'tab:blue'\n",
    "    ax1.set_xlabel('k (nombre de clusters)')\n",
    "    ax1.set_ylabel('Inertia (WCSS)', color=color1)\n",
    "    ax1.plot(range(min_k, max_k+1), inertias, marker='o', color=color1)\n",
    "    ax1.tick_params(axis='y', labelcolor=color1)\n",
    "    \n",
    "    ax2 = ax1.twinx()\n",
    "    color2 = 'tab:red'\n",
    "    ax2.set_ylabel('Silhouette Score', color=color2)\n",
    "    ax2.plot(range(min_k, max_k+1), silhouettes, marker='x', color=color2)\n",
    "    ax2.tick_params(axis='y', labelcolor=color2)\n",
    "    \n",
    "    plt.title('Méthode du Coude et Silhouette pour RFM Clustering')\n",
    "    plt.show()\n",
    "    \n",
    "    return {\n",
    "        \"inertia\": inertias,\n",
    "        \"silhouette\": silhouettes,\n",
    "        \"kmeans_models\": kmeans_models\n",
    "    }\n"
   ]
  },
  {
   "cell_type": "code",
   "execution_count": null,
   "id": "80b476a7",
   "metadata": {},
   "outputs": [],
   "source": [
    "import os\n",
    "import certifi\n",
    "\n",
    "os.environ['SSL_CERT_FILE'] = certifi.where()\n",
    "\n",
    "kmeans = kmeans_rfm_evaluation(rfm_df, min_k=2, max_k=10)"
   ]
  },
  {
   "cell_type": "code",
   "execution_count": 1,
   "id": "fcfd8010",
   "metadata": {},
   "outputs": [
    {
     "name": "stdout",
     "output_type": "stream",
     "text": [
      "c:\\Users\\IEZEROUAL\\AppData\\Local\\miniconda3\\envs\\kedro_snowpark\\lib\\site-packages\\certifi\\cacert.pem\n"
     ]
    }
   ],
   "source": [
    "import certifi\n",
    "print(certifi.where())\n"
   ]
  },
  {
   "cell_type": "code",
   "execution_count": null,
   "id": "043ba174",
   "metadata": {},
   "outputs": [],
   "source": []
  }
 ],
 "metadata": {
  "kernelspec": {
   "display_name": "kedro_snowpark",
   "language": "python",
   "name": "python3"
  },
  "language_info": {
   "codemirror_mode": {
    "name": "ipython",
    "version": 3
   },
   "file_extension": ".py",
   "mimetype": "text/x-python",
   "name": "python",
   "nbconvert_exporter": "python",
   "pygments_lexer": "ipython3",
   "version": "3.10.18"
  }
 },
 "nbformat": 4,
 "nbformat_minor": 5
}
